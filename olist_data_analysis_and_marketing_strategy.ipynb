{
  "nbformat": 4,
  "nbformat_minor": 0,
  "metadata": {
    "kernelspec": {
      "display_name": "Python 3",
      "language": "python",
      "name": "python3"
    },
    "language_info": {
      "codemirror_mode": {
        "name": "ipython",
        "version": 3
      },
      "file_extension": ".py",
      "mimetype": "text/x-python",
      "name": "python",
      "nbconvert_exporter": "python",
      "pygments_lexer": "ipython3",
      "version": "3.7.6"
    },
    "papermill": {
      "duration": 30.866703,
      "end_time": "2020-09-16T04:41:00.516896",
      "environment_variables": {},
      "exception": null,
      "input_path": "__notebook__.ipynb",
      "output_path": "__notebook__.ipynb",
      "parameters": {},
      "start_time": "2020-09-16T04:40:29.650193",
      "version": "2.1.0"
    },
    "colab": {
      "name": "olist-data-analysis-and-marketing-strategy.ipynb",
      "provenance": [],
      "include_colab_link": true
    }
  },
  "cells": [
    {
      "cell_type": "markdown",
      "metadata": {
        "id": "view-in-github",
        "colab_type": "text"
      },
      "source": [
        "<a href=\"https://colab.research.google.com/github/so50935/Image-Processing/blob/master/olist_data_analysis_and_marketing_strategy.ipynb\" target=\"_parent\"><img src=\"https://colab.research.google.com/assets/colab-badge.svg\" alt=\"Open In Colab\"/></a>"
      ]
    },
    {
      "cell_type": "markdown",
      "metadata": {
        "papermill": {
          "duration": 0.053658,
          "end_time": "2020-09-16T04:40:34.813591",
          "exception": false,
          "start_time": "2020-09-16T04:40:34.759933",
          "status": "completed"
        },
        "tags": [],
        "id": "kmYo7N7uK7AF"
      },
      "source": [
        "<img src=\"http://vernonfernandes.net/assets/New Project.png\" width=\"100%\">"
      ]
    },
    {
      "cell_type": "markdown",
      "metadata": {
        "papermill": {
          "duration": 0.04857,
          "end_time": "2020-09-16T04:40:34.911763",
          "exception": false,
          "start_time": "2020-09-16T04:40:34.863193",
          "status": "completed"
        },
        "tags": [],
        "id": "aN2mFrNDK7AK"
      },
      "source": [
        "# Introduction\n",
        "\n",
        "This is a Brazilian ecommerce public dataset of orders made at Olist Store. The dataset has information of 100k orders from 2016 to 2018 made at multiple marketplaces in Brazil. Its features allows viewing an order from multiple dimensions: from order status, price, payment and freight performance to customer location, product attributes and finally reviews written by customers."
      ]
    },
    {
      "cell_type": "markdown",
      "metadata": {
        "papermill": {
          "duration": 0.049217,
          "end_time": "2020-09-16T04:40:35.011356",
          "exception": false,
          "start_time": "2020-09-16T04:40:34.962139",
          "status": "completed"
        },
        "tags": [],
        "id": "USaS9klwK7AL"
      },
      "source": [
        "For the purpose of our analysis, we will start with merging the necessary files as there are separate tables that contain information on different aspects of the transactions. Most of these files would be essential to our analysis apart from a few which tend to cater more towards the logistics and supply chain departments."
      ]
    },
    {
      "cell_type": "markdown",
      "metadata": {
        "papermill": {
          "duration": 0.049987,
          "end_time": "2020-09-16T04:40:35.111247",
          "exception": false,
          "start_time": "2020-09-16T04:40:35.061260",
          "status": "completed"
        },
        "tags": [],
        "id": "_GrekqPvK7AL"
      },
      "source": [
        "The structure of the data schema as provided by Olist can be seen below."
      ]
    },
    {
      "cell_type": "markdown",
      "metadata": {
        "papermill": {
          "duration": 0.051759,
          "end_time": "2020-09-16T04:40:35.213272",
          "exception": false,
          "start_time": "2020-09-16T04:40:35.161513",
          "status": "completed"
        },
        "tags": [],
        "id": "tkS4he9UK7AL"
      },
      "source": [
        "<img src=\"https://i.imgur.com/HRhd2Y0.png\" width=\"100%\">"
      ]
    },
    {
      "cell_type": "markdown",
      "metadata": {
        "papermill": {
          "duration": 0.048671,
          "end_time": "2020-09-16T04:40:35.311609",
          "exception": false,
          "start_time": "2020-09-16T04:40:35.262938",
          "status": "completed"
        },
        "tags": [],
        "id": "fxzgJzggK7AM"
      },
      "source": [
        "# Importing Libraries"
      ]
    },
    {
      "cell_type": "code",
      "metadata": {
        "_cell_guid": "79c7e3d0-c299-4dcb-8224-4455121ee9b0",
        "_uuid": "d629ff2d2480ee46fbb7e2d37f6b5fab8052498a",
        "execution": {
          "iopub.execute_input": "2020-09-16T04:40:35.418707Z",
          "iopub.status.busy": "2020-09-16T04:40:35.417889Z",
          "iopub.status.idle": "2020-09-16T04:40:36.553054Z",
          "shell.execute_reply": "2020-09-16T04:40:36.552039Z"
        },
        "papermill": {
          "duration": 1.192161,
          "end_time": "2020-09-16T04:40:36.553243",
          "exception": false,
          "start_time": "2020-09-16T04:40:35.361082",
          "status": "completed"
        },
        "tags": [],
        "id": "wFhUhl70K7AM"
      },
      "source": [
        "#Importing all the necessary libraries\n",
        "\n",
        "import numpy as np\n",
        "import pandas as pd\n",
        "import seaborn as sns\n",
        "import matplotlib.pyplot as plt\n",
        "import datetime as dt\n",
        "\n",
        "%matplotlib inline"
      ],
      "execution_count": 1,
      "outputs": []
    },
    {
      "cell_type": "code",
      "metadata": {
        "execution": {
          "iopub.execute_input": "2020-09-16T04:40:36.660954Z",
          "iopub.status.busy": "2020-09-16T04:40:36.659992Z",
          "iopub.status.idle": "2020-09-16T04:40:39.051646Z",
          "shell.execute_reply": "2020-09-16T04:40:39.050915Z"
        },
        "papermill": {
          "duration": 2.448454,
          "end_time": "2020-09-16T04:40:39.051791",
          "exception": false,
          "start_time": "2020-09-16T04:40:36.603337",
          "status": "completed"
        },
        "tags": [],
        "id": "CUKbgcHzK7AN"
      },
      "source": [
        "#Plotly Libraries\n",
        "\n",
        "import plotly.express as px\n",
        "import plotly.graph_objects as go\n",
        "import plotly.figure_factory as ff\n",
        "from plotly.colors import n_colors\n",
        "from plotly.subplots import make_subplots"
      ],
      "execution_count": 2,
      "outputs": []
    },
    {
      "cell_type": "markdown",
      "metadata": {
        "papermill": {
          "duration": 0.052221,
          "end_time": "2020-09-16T04:40:39.153508",
          "exception": false,
          "start_time": "2020-09-16T04:40:39.101287",
          "status": "completed"
        },
        "tags": [],
        "id": "-Fa_wsl7K7AN"
      },
      "source": [
        "# Business Value\n",
        "\n",
        "The idea behind any analysis should be to provide value to the organization. Below, I've added a few tasks that could potentially add value to the ecommerce operations at Olist or be a part of a bigger solution.\n",
        "\n",
        "The initial stages of our analysis are fairly straightforward and can be accomplished with the help of Python's several packages that make indexing, aggregation and visualization a simple task. How we apply this insight to our various Marketing pipelines might require the necessary domain knowledge. \n",
        "\n",
        "With the recent happenings around the world organizations are moving online faster than ever. Having an online presence not only gives your customer the convenience of being able to access your store from anywhere in the world, it gives your organization an edge with the amount of data that is being collected on a day to day basis. This allows for a highly targeted and customized approach to your marketing efforts, making sure that no penny is wasted.\n"
      ]
    },
    {
      "cell_type": "markdown",
      "metadata": {
        "papermill": {
          "duration": 0.048982,
          "end_time": "2020-09-16T04:40:39.255908",
          "exception": false,
          "start_time": "2020-09-16T04:40:39.206926",
          "status": "completed"
        },
        "tags": [],
        "id": "I_cycyBXK7AN"
      },
      "source": [
        "# 1. Olist Orders Dataset\n",
        "\n",
        "The **olist_orders_dataset** dataset contains the order details of all the customer purchases made. \n",
        " \n",
        "Tasks:\n",
        "\n",
        "1. Frequency of purchases per customer.\n",
        "2. Time series analysis of orders. Use of DateTime library in python to separate date and time from the necessary columns. \n",
        "3. Find out the most popular months, days and times of the day."
      ]
    },
    {
      "cell_type": "code",
      "metadata": {
        "_kg_hide-input": false,
        "_kg_hide-output": true,
        "execution": {
          "iopub.execute_input": "2020-09-16T04:40:39.365599Z",
          "iopub.status.busy": "2020-09-16T04:40:39.364773Z",
          "iopub.status.idle": "2020-09-16T04:40:39.977727Z",
          "shell.execute_reply": "2020-09-16T04:40:39.978394Z"
        },
        "papermill": {
          "duration": 0.67322,
          "end_time": "2020-09-16T04:40:39.978588",
          "exception": false,
          "start_time": "2020-09-16T04:40:39.305368",
          "status": "completed"
        },
        "tags": [],
        "colab": {
          "base_uri": "https://localhost:8080/",
          "height": 375
        },
        "id": "qX2KHKcJK7AN",
        "outputId": "0cc8873c-e86c-4fbd-be80-6e65f772c2f8"
      },
      "source": [
        "olist_orders_dataset = pd.read_csv('olist_orders_dataset.csv')\n",
        "olist_orders_dataset.head(10)"
      ],
      "execution_count": 4,
      "outputs": [
        {
          "output_type": "execute_result",
          "data": {
            "text/html": [
              "<div>\n",
              "<style scoped>\n",
              "    .dataframe tbody tr th:only-of-type {\n",
              "        vertical-align: middle;\n",
              "    }\n",
              "\n",
              "    .dataframe tbody tr th {\n",
              "        vertical-align: top;\n",
              "    }\n",
              "\n",
              "    .dataframe thead th {\n",
              "        text-align: right;\n",
              "    }\n",
              "</style>\n",
              "<table border=\"1\" class=\"dataframe\">\n",
              "  <thead>\n",
              "    <tr style=\"text-align: right;\">\n",
              "      <th></th>\n",
              "      <th>order_id</th>\n",
              "      <th>customer_id</th>\n",
              "      <th>order_status</th>\n",
              "      <th>order_purchase_timestamp</th>\n",
              "      <th>order_approved_at</th>\n",
              "      <th>order_delivered_carrier_date</th>\n",
              "      <th>order_delivered_customer_date</th>\n",
              "      <th>order_estimated_delivery_date</th>\n",
              "    </tr>\n",
              "  </thead>\n",
              "  <tbody>\n",
              "    <tr>\n",
              "      <th>0</th>\n",
              "      <td>e481f51cbdc54678b7cc49136f2d6af7</td>\n",
              "      <td>9ef432eb6251297304e76186b10a928d</td>\n",
              "      <td>delivered</td>\n",
              "      <td>2017-10-02 10:56:33</td>\n",
              "      <td>2017-10-02 11:07:15</td>\n",
              "      <td>2017-10-04 19:55:00</td>\n",
              "      <td>2017-10-10 21:25:13</td>\n",
              "      <td>2017-10-18 00:00:00</td>\n",
              "    </tr>\n",
              "    <tr>\n",
              "      <th>1</th>\n",
              "      <td>53cdb2fc8bc7dce0b6741e2150273451</td>\n",
              "      <td>b0830fb4747a6c6d20dea0b8c802d7ef</td>\n",
              "      <td>delivered</td>\n",
              "      <td>2018-07-24 20:41:37</td>\n",
              "      <td>2018-07-26 03:24:27</td>\n",
              "      <td>2018-07-26 14:31:00</td>\n",
              "      <td>2018-08-07 15:27:45</td>\n",
              "      <td>2018-08-13 00:00:00</td>\n",
              "    </tr>\n",
              "    <tr>\n",
              "      <th>2</th>\n",
              "      <td>47770eb9100c2d0c44946d9cf07ec65d</td>\n",
              "      <td>41ce2a54c0b03bf3443c3d931a367089</td>\n",
              "      <td>delivered</td>\n",
              "      <td>2018-08-08 08:38:49</td>\n",
              "      <td>2018-08-08 08:55:23</td>\n",
              "      <td>2018-08-08 13:50:00</td>\n",
              "      <td>2018-08-17 18:06:29</td>\n",
              "      <td>2018-09-04 00:00:00</td>\n",
              "    </tr>\n",
              "    <tr>\n",
              "      <th>3</th>\n",
              "      <td>949d5b44dbf5de918fe9c16f97b45f8a</td>\n",
              "      <td>f88197465ea7920adcdbec7375364d82</td>\n",
              "      <td>delivered</td>\n",
              "      <td>2017-11-18 19:28:06</td>\n",
              "      <td>2017-11-18 19:45:59</td>\n",
              "      <td>2017-11-22 13:39:59</td>\n",
              "      <td>2017-12-02 00:28:42</td>\n",
              "      <td>2017-12-15 00:00:00</td>\n",
              "    </tr>\n",
              "    <tr>\n",
              "      <th>4</th>\n",
              "      <td>ad21c59c0840e6cb83a9ceb5573f8159</td>\n",
              "      <td>8ab97904e6daea8866dbdbc4fb7aad2c</td>\n",
              "      <td>delivered</td>\n",
              "      <td>2018-02-13 21:18:39</td>\n",
              "      <td>2018-02-13 22:20:29</td>\n",
              "      <td>2018-02-14 19:46:34</td>\n",
              "      <td>2018-02-16 18:17:02</td>\n",
              "      <td>2018-02-26 00:00:00</td>\n",
              "    </tr>\n",
              "    <tr>\n",
              "      <th>5</th>\n",
              "      <td>a4591c265e18cb1dcee52889e2d8acc3</td>\n",
              "      <td>503740e9ca751ccdda7ba28e9ab8f608</td>\n",
              "      <td>delivered</td>\n",
              "      <td>2017-07-09 21:57:05</td>\n",
              "      <td>2017-07-09 22:10:13</td>\n",
              "      <td>2017-07-11 14:58:04</td>\n",
              "      <td>2017-07-26 10:57:55</td>\n",
              "      <td>2017-08-01 00:00:00</td>\n",
              "    </tr>\n",
              "    <tr>\n",
              "      <th>6</th>\n",
              "      <td>136cce7faa42fdb2cefd53fdc79a6098</td>\n",
              "      <td>ed0271e0b7da060a393796590e7b737a</td>\n",
              "      <td>invoiced</td>\n",
              "      <td>2017-04-11 12:22:08</td>\n",
              "      <td>2017-04-13 13:25:17</td>\n",
              "      <td>NaN</td>\n",
              "      <td>NaN</td>\n",
              "      <td>2017-05-09 00:00:00</td>\n",
              "    </tr>\n",
              "    <tr>\n",
              "      <th>7</th>\n",
              "      <td>6514b8ad8028c9f2cc2374ded245783f</td>\n",
              "      <td>9bdf08b4b3b52b5526ff42d37d47f222</td>\n",
              "      <td>delivered</td>\n",
              "      <td>2017-05-16 13:10:30</td>\n",
              "      <td>2017-05-16 13:22:11</td>\n",
              "      <td>2017-05-22 10:07:46</td>\n",
              "      <td>2017-05-26 12:55:51</td>\n",
              "      <td>2017-06-07 00:00:00</td>\n",
              "    </tr>\n",
              "    <tr>\n",
              "      <th>8</th>\n",
              "      <td>76c6e866289321a7c93b82b54852dc33</td>\n",
              "      <td>f54a9f0e6b351c431402b8461ea51999</td>\n",
              "      <td>delivered</td>\n",
              "      <td>2017-01-23 18:29:09</td>\n",
              "      <td>2017-01-25 02:50:47</td>\n",
              "      <td>2017-01-26 14:16:31</td>\n",
              "      <td>2017-02-02 14:08:10</td>\n",
              "      <td>2017-03-06 00:00:00</td>\n",
              "    </tr>\n",
              "    <tr>\n",
              "      <th>9</th>\n",
              "      <td>e69bfb5eb88e0ed6a785585b27e16dbf</td>\n",
              "      <td>31ad1d1b63eb9962463f764d4e6e0c9d</td>\n",
              "      <td>delivered</td>\n",
              "      <td>2017-07-29 11:55:02</td>\n",
              "      <td>2017-07-29 12:05:32</td>\n",
              "      <td>2017-08-10 19:45:24</td>\n",
              "      <td>2017-08-16 17:14:30</td>\n",
              "      <td>2017-08-23 00:00:00</td>\n",
              "    </tr>\n",
              "  </tbody>\n",
              "</table>\n",
              "</div>"
            ],
            "text/plain": [
              "                           order_id  ... order_estimated_delivery_date\n",
              "0  e481f51cbdc54678b7cc49136f2d6af7  ...           2017-10-18 00:00:00\n",
              "1  53cdb2fc8bc7dce0b6741e2150273451  ...           2018-08-13 00:00:00\n",
              "2  47770eb9100c2d0c44946d9cf07ec65d  ...           2018-09-04 00:00:00\n",
              "3  949d5b44dbf5de918fe9c16f97b45f8a  ...           2017-12-15 00:00:00\n",
              "4  ad21c59c0840e6cb83a9ceb5573f8159  ...           2018-02-26 00:00:00\n",
              "5  a4591c265e18cb1dcee52889e2d8acc3  ...           2017-08-01 00:00:00\n",
              "6  136cce7faa42fdb2cefd53fdc79a6098  ...           2017-05-09 00:00:00\n",
              "7  6514b8ad8028c9f2cc2374ded245783f  ...           2017-06-07 00:00:00\n",
              "8  76c6e866289321a7c93b82b54852dc33  ...           2017-03-06 00:00:00\n",
              "9  e69bfb5eb88e0ed6a785585b27e16dbf  ...           2017-08-23 00:00:00\n",
              "\n",
              "[10 rows x 8 columns]"
            ]
          },
          "metadata": {
            "tags": []
          },
          "execution_count": 4
        }
      ]
    },
    {
      "cell_type": "markdown",
      "metadata": {
        "papermill": {
          "duration": 0.050406,
          "end_time": "2020-09-16T04:40:40.081152",
          "exception": false,
          "start_time": "2020-09-16T04:40:40.030746",
          "status": "completed"
        },
        "tags": [],
        "id": "kFwTWi-IK7AP"
      },
      "source": [
        "# 2. Olist Sellers Dataset\n",
        "\n",
        "The **olist_sellers_dataset** dataset contains the seller location. \n",
        " \n",
        "Tasks:\n",
        "\n",
        "1. Find out the most popular cities that vendors came from."
      ]
    },
    {
      "cell_type": "code",
      "metadata": {
        "_kg_hide-output": true,
        "execution": {
          "iopub.execute_input": "2020-09-16T04:40:40.190931Z",
          "iopub.status.busy": "2020-09-16T04:40:40.189993Z",
          "iopub.status.idle": "2020-09-16T04:40:40.211767Z",
          "shell.execute_reply": "2020-09-16T04:40:40.212354Z"
        },
        "papermill": {
          "duration": 0.080089,
          "end_time": "2020-09-16T04:40:40.212527",
          "exception": false,
          "start_time": "2020-09-16T04:40:40.132438",
          "status": "completed"
        },
        "tags": [],
        "colab": {
          "base_uri": "https://localhost:8080/",
          "height": 355
        },
        "id": "4woDdUc7K7AP",
        "outputId": "369e7697-7c0a-45aa-9952-3752c4b56e60"
      },
      "source": [
        "olist_sellers_dataset = pd.read_csv('olist_sellers_dataset.csv')\n",
        "olist_sellers_dataset.head(10)"
      ],
      "execution_count": 5,
      "outputs": [
        {
          "output_type": "execute_result",
          "data": {
            "text/html": [
              "<div>\n",
              "<style scoped>\n",
              "    .dataframe tbody tr th:only-of-type {\n",
              "        vertical-align: middle;\n",
              "    }\n",
              "\n",
              "    .dataframe tbody tr th {\n",
              "        vertical-align: top;\n",
              "    }\n",
              "\n",
              "    .dataframe thead th {\n",
              "        text-align: right;\n",
              "    }\n",
              "</style>\n",
              "<table border=\"1\" class=\"dataframe\">\n",
              "  <thead>\n",
              "    <tr style=\"text-align: right;\">\n",
              "      <th></th>\n",
              "      <th>seller_id</th>\n",
              "      <th>seller_zip_code_prefix</th>\n",
              "      <th>seller_city</th>\n",
              "      <th>seller_state</th>\n",
              "    </tr>\n",
              "  </thead>\n",
              "  <tbody>\n",
              "    <tr>\n",
              "      <th>0</th>\n",
              "      <td>3442f8959a84dea7ee197c632cb2df15</td>\n",
              "      <td>13023</td>\n",
              "      <td>campinas</td>\n",
              "      <td>SP</td>\n",
              "    </tr>\n",
              "    <tr>\n",
              "      <th>1</th>\n",
              "      <td>d1b65fc7debc3361ea86b5f14c68d2e2</td>\n",
              "      <td>13844</td>\n",
              "      <td>mogi guacu</td>\n",
              "      <td>SP</td>\n",
              "    </tr>\n",
              "    <tr>\n",
              "      <th>2</th>\n",
              "      <td>ce3ad9de960102d0677a81f5d0bb7b2d</td>\n",
              "      <td>20031</td>\n",
              "      <td>rio de janeiro</td>\n",
              "      <td>RJ</td>\n",
              "    </tr>\n",
              "    <tr>\n",
              "      <th>3</th>\n",
              "      <td>c0f3eea2e14555b6faeea3dd58c1b1c3</td>\n",
              "      <td>4195</td>\n",
              "      <td>sao paulo</td>\n",
              "      <td>SP</td>\n",
              "    </tr>\n",
              "    <tr>\n",
              "      <th>4</th>\n",
              "      <td>51a04a8a6bdcb23deccc82b0b80742cf</td>\n",
              "      <td>12914</td>\n",
              "      <td>braganca paulista</td>\n",
              "      <td>SP</td>\n",
              "    </tr>\n",
              "    <tr>\n",
              "      <th>5</th>\n",
              "      <td>c240c4061717ac1806ae6ee72be3533b</td>\n",
              "      <td>20920</td>\n",
              "      <td>rio de janeiro</td>\n",
              "      <td>RJ</td>\n",
              "    </tr>\n",
              "    <tr>\n",
              "      <th>6</th>\n",
              "      <td>e49c26c3edfa46d227d5121a6b6e4d37</td>\n",
              "      <td>55325</td>\n",
              "      <td>brejao</td>\n",
              "      <td>PE</td>\n",
              "    </tr>\n",
              "    <tr>\n",
              "      <th>7</th>\n",
              "      <td>1b938a7ec6ac5061a66a3766e0e75f90</td>\n",
              "      <td>16304</td>\n",
              "      <td>penapolis</td>\n",
              "      <td>SP</td>\n",
              "    </tr>\n",
              "    <tr>\n",
              "      <th>8</th>\n",
              "      <td>768a86e36ad6aae3d03ee3c6433d61df</td>\n",
              "      <td>1529</td>\n",
              "      <td>sao paulo</td>\n",
              "      <td>SP</td>\n",
              "    </tr>\n",
              "    <tr>\n",
              "      <th>9</th>\n",
              "      <td>ccc4bbb5f32a6ab2b7066a4130f114e3</td>\n",
              "      <td>80310</td>\n",
              "      <td>curitiba</td>\n",
              "      <td>PR</td>\n",
              "    </tr>\n",
              "  </tbody>\n",
              "</table>\n",
              "</div>"
            ],
            "text/plain": [
              "                          seller_id  ...  seller_state\n",
              "0  3442f8959a84dea7ee197c632cb2df15  ...            SP\n",
              "1  d1b65fc7debc3361ea86b5f14c68d2e2  ...            SP\n",
              "2  ce3ad9de960102d0677a81f5d0bb7b2d  ...            RJ\n",
              "3  c0f3eea2e14555b6faeea3dd58c1b1c3  ...            SP\n",
              "4  51a04a8a6bdcb23deccc82b0b80742cf  ...            SP\n",
              "5  c240c4061717ac1806ae6ee72be3533b  ...            RJ\n",
              "6  e49c26c3edfa46d227d5121a6b6e4d37  ...            PE\n",
              "7  1b938a7ec6ac5061a66a3766e0e75f90  ...            SP\n",
              "8  768a86e36ad6aae3d03ee3c6433d61df  ...            SP\n",
              "9  ccc4bbb5f32a6ab2b7066a4130f114e3  ...            PR\n",
              "\n",
              "[10 rows x 4 columns]"
            ]
          },
          "metadata": {
            "tags": []
          },
          "execution_count": 5
        }
      ]
    },
    {
      "cell_type": "markdown",
      "metadata": {
        "papermill": {
          "duration": 0.051705,
          "end_time": "2020-09-16T04:40:40.316284",
          "exception": false,
          "start_time": "2020-09-16T04:40:40.264579",
          "status": "completed"
        },
        "tags": [],
        "id": "vuix1kxDK7AP"
      },
      "source": [
        "# 3. Olist Customers Dataset\n",
        "\n",
        "The **olist_customers_dataset** dataset contains the geographical details of the Olist customers. \n",
        " \n",
        "Tasks:\n",
        "\n",
        "1. Locations where most of your customers are present."
      ]
    },
    {
      "cell_type": "code",
      "metadata": {
        "_kg_hide-output": true,
        "execution": {
          "iopub.execute_input": "2020-09-16T04:40:40.438614Z",
          "iopub.status.busy": "2020-09-16T04:40:40.437397Z",
          "iopub.status.idle": "2020-09-16T04:40:40.715907Z",
          "shell.execute_reply": "2020-09-16T04:40:40.715111Z"
        },
        "papermill": {
          "duration": 0.347862,
          "end_time": "2020-09-16T04:40:40.716039",
          "exception": false,
          "start_time": "2020-09-16T04:40:40.368177",
          "status": "completed"
        },
        "tags": [],
        "colab": {
          "base_uri": "https://localhost:8080/",
          "height": 355
        },
        "id": "9dXgEqGDK7AP",
        "outputId": "93d2838a-388e-4ef7-e7a4-5a5d8d01c7cf"
      },
      "source": [
        "olist_customers_dataset = pd.read_csv('olist_customers_dataset.csv')\n",
        "olist_customers_dataset.head(10)"
      ],
      "execution_count": 6,
      "outputs": [
        {
          "output_type": "execute_result",
          "data": {
            "text/html": [
              "<div>\n",
              "<style scoped>\n",
              "    .dataframe tbody tr th:only-of-type {\n",
              "        vertical-align: middle;\n",
              "    }\n",
              "\n",
              "    .dataframe tbody tr th {\n",
              "        vertical-align: top;\n",
              "    }\n",
              "\n",
              "    .dataframe thead th {\n",
              "        text-align: right;\n",
              "    }\n",
              "</style>\n",
              "<table border=\"1\" class=\"dataframe\">\n",
              "  <thead>\n",
              "    <tr style=\"text-align: right;\">\n",
              "      <th></th>\n",
              "      <th>customer_id</th>\n",
              "      <th>customer_unique_id</th>\n",
              "      <th>customer_zip_code_prefix</th>\n",
              "      <th>customer_city</th>\n",
              "      <th>customer_state</th>\n",
              "    </tr>\n",
              "  </thead>\n",
              "  <tbody>\n",
              "    <tr>\n",
              "      <th>0</th>\n",
              "      <td>06b8999e2fba1a1fbc88172c00ba8bc7</td>\n",
              "      <td>861eff4711a542e4b93843c6dd7febb0</td>\n",
              "      <td>14409</td>\n",
              "      <td>franca</td>\n",
              "      <td>SP</td>\n",
              "    </tr>\n",
              "    <tr>\n",
              "      <th>1</th>\n",
              "      <td>18955e83d337fd6b2def6b18a428ac77</td>\n",
              "      <td>290c77bc529b7ac935b93aa66c333dc3</td>\n",
              "      <td>9790</td>\n",
              "      <td>sao bernardo do campo</td>\n",
              "      <td>SP</td>\n",
              "    </tr>\n",
              "    <tr>\n",
              "      <th>2</th>\n",
              "      <td>4e7b3e00288586ebd08712fdd0374a03</td>\n",
              "      <td>060e732b5b29e8181a18229c7b0b2b5e</td>\n",
              "      <td>1151</td>\n",
              "      <td>sao paulo</td>\n",
              "      <td>SP</td>\n",
              "    </tr>\n",
              "    <tr>\n",
              "      <th>3</th>\n",
              "      <td>b2b6027bc5c5109e529d4dc6358b12c3</td>\n",
              "      <td>259dac757896d24d7702b9acbbff3f3c</td>\n",
              "      <td>8775</td>\n",
              "      <td>mogi das cruzes</td>\n",
              "      <td>SP</td>\n",
              "    </tr>\n",
              "    <tr>\n",
              "      <th>4</th>\n",
              "      <td>4f2d8ab171c80ec8364f7c12e35b23ad</td>\n",
              "      <td>345ecd01c38d18a9036ed96c73b8d066</td>\n",
              "      <td>13056</td>\n",
              "      <td>campinas</td>\n",
              "      <td>SP</td>\n",
              "    </tr>\n",
              "    <tr>\n",
              "      <th>5</th>\n",
              "      <td>879864dab9bc3047522c92c82e1212b8</td>\n",
              "      <td>4c93744516667ad3b8f1fb645a3116a4</td>\n",
              "      <td>89254</td>\n",
              "      <td>jaragua do sul</td>\n",
              "      <td>SC</td>\n",
              "    </tr>\n",
              "    <tr>\n",
              "      <th>6</th>\n",
              "      <td>fd826e7cf63160e536e0908c76c3f441</td>\n",
              "      <td>addec96d2e059c80c30fe6871d30d177</td>\n",
              "      <td>4534</td>\n",
              "      <td>sao paulo</td>\n",
              "      <td>SP</td>\n",
              "    </tr>\n",
              "    <tr>\n",
              "      <th>7</th>\n",
              "      <td>5e274e7a0c3809e14aba7ad5aae0d407</td>\n",
              "      <td>57b2a98a409812fe9618067b6b8ebe4f</td>\n",
              "      <td>35182</td>\n",
              "      <td>timoteo</td>\n",
              "      <td>MG</td>\n",
              "    </tr>\n",
              "    <tr>\n",
              "      <th>8</th>\n",
              "      <td>5adf08e34b2e993982a47070956c5c65</td>\n",
              "      <td>1175e95fb47ddff9de6b2b06188f7e0d</td>\n",
              "      <td>81560</td>\n",
              "      <td>curitiba</td>\n",
              "      <td>PR</td>\n",
              "    </tr>\n",
              "    <tr>\n",
              "      <th>9</th>\n",
              "      <td>4b7139f34592b3a31687243a302fa75b</td>\n",
              "      <td>9afe194fb833f79e300e37e580171f22</td>\n",
              "      <td>30575</td>\n",
              "      <td>belo horizonte</td>\n",
              "      <td>MG</td>\n",
              "    </tr>\n",
              "  </tbody>\n",
              "</table>\n",
              "</div>"
            ],
            "text/plain": [
              "                        customer_id  ... customer_state\n",
              "0  06b8999e2fba1a1fbc88172c00ba8bc7  ...             SP\n",
              "1  18955e83d337fd6b2def6b18a428ac77  ...             SP\n",
              "2  4e7b3e00288586ebd08712fdd0374a03  ...             SP\n",
              "3  b2b6027bc5c5109e529d4dc6358b12c3  ...             SP\n",
              "4  4f2d8ab171c80ec8364f7c12e35b23ad  ...             SP\n",
              "5  879864dab9bc3047522c92c82e1212b8  ...             SC\n",
              "6  fd826e7cf63160e536e0908c76c3f441  ...             SP\n",
              "7  5e274e7a0c3809e14aba7ad5aae0d407  ...             MG\n",
              "8  5adf08e34b2e993982a47070956c5c65  ...             PR\n",
              "9  4b7139f34592b3a31687243a302fa75b  ...             MG\n",
              "\n",
              "[10 rows x 5 columns]"
            ]
          },
          "metadata": {
            "tags": []
          },
          "execution_count": 6
        }
      ]
    },
    {
      "cell_type": "markdown",
      "metadata": {
        "papermill": {
          "duration": 0.052809,
          "end_time": "2020-09-16T04:40:40.822490",
          "exception": false,
          "start_time": "2020-09-16T04:40:40.769681",
          "status": "completed"
        },
        "tags": [],
        "id": "4uAkC_M_K7AQ"
      },
      "source": [
        "# 4. Olist Products Dataset\n",
        "\n",
        "The **olist_products_dataset** dataset gives us the list of all products present on the Olist site. \n",
        " \n",
        "Tasks:\n",
        "\n",
        "1. Not much, other than grouping by product category to find out the most popular categories by vendors."
      ]
    },
    {
      "cell_type": "code",
      "metadata": {
        "colab": {
          "base_uri": "https://localhost:8080/",
          "height": 375
        },
        "id": "S-es8hf-S1AZ",
        "outputId": "5a01121f-98f1-425e-cfc4-5bd59a950fbd"
      },
      "source": [
        "# order items dataset\r\n",
        "order_items = pd.read_csv(\"olist_order_items_dataset.csv\")\r\n",
        "order_items.head(10)"
      ],
      "execution_count": 93,
      "outputs": [
        {
          "output_type": "execute_result",
          "data": {
            "text/html": [
              "<div>\n",
              "<style scoped>\n",
              "    .dataframe tbody tr th:only-of-type {\n",
              "        vertical-align: middle;\n",
              "    }\n",
              "\n",
              "    .dataframe tbody tr th {\n",
              "        vertical-align: top;\n",
              "    }\n",
              "\n",
              "    .dataframe thead th {\n",
              "        text-align: right;\n",
              "    }\n",
              "</style>\n",
              "<table border=\"1\" class=\"dataframe\">\n",
              "  <thead>\n",
              "    <tr style=\"text-align: right;\">\n",
              "      <th></th>\n",
              "      <th>order_id</th>\n",
              "      <th>order_item_id</th>\n",
              "      <th>product_id</th>\n",
              "      <th>seller_id</th>\n",
              "      <th>shipping_limit_date</th>\n",
              "      <th>price</th>\n",
              "      <th>freight_value</th>\n",
              "    </tr>\n",
              "  </thead>\n",
              "  <tbody>\n",
              "    <tr>\n",
              "      <th>0</th>\n",
              "      <td>00010242fe8c5a6d1ba2dd792cb16214</td>\n",
              "      <td>1</td>\n",
              "      <td>4244733e06e7ecb4970a6e2683c13e61</td>\n",
              "      <td>48436dade18ac8b2bce089ec2a041202</td>\n",
              "      <td>2017-09-19 09:45:35</td>\n",
              "      <td>58.90</td>\n",
              "      <td>13.29</td>\n",
              "    </tr>\n",
              "    <tr>\n",
              "      <th>1</th>\n",
              "      <td>00018f77f2f0320c557190d7a144bdd3</td>\n",
              "      <td>1</td>\n",
              "      <td>e5f2d52b802189ee658865ca93d83a8f</td>\n",
              "      <td>dd7ddc04e1b6c2c614352b383efe2d36</td>\n",
              "      <td>2017-05-03 11:05:13</td>\n",
              "      <td>239.90</td>\n",
              "      <td>19.93</td>\n",
              "    </tr>\n",
              "    <tr>\n",
              "      <th>2</th>\n",
              "      <td>000229ec398224ef6ca0657da4fc703e</td>\n",
              "      <td>1</td>\n",
              "      <td>c777355d18b72b67abbeef9df44fd0fd</td>\n",
              "      <td>5b51032eddd242adc84c38acab88f23d</td>\n",
              "      <td>2018-01-18 14:48:30</td>\n",
              "      <td>199.00</td>\n",
              "      <td>17.87</td>\n",
              "    </tr>\n",
              "    <tr>\n",
              "      <th>3</th>\n",
              "      <td>00024acbcdf0a6daa1e931b038114c75</td>\n",
              "      <td>1</td>\n",
              "      <td>7634da152a4610f1595efa32f14722fc</td>\n",
              "      <td>9d7a1d34a5052409006425275ba1c2b4</td>\n",
              "      <td>2018-08-15 10:10:18</td>\n",
              "      <td>12.99</td>\n",
              "      <td>12.79</td>\n",
              "    </tr>\n",
              "    <tr>\n",
              "      <th>4</th>\n",
              "      <td>00042b26cf59d7ce69dfabb4e55b4fd9</td>\n",
              "      <td>1</td>\n",
              "      <td>ac6c3623068f30de03045865e4e10089</td>\n",
              "      <td>df560393f3a51e74553ab94004ba5c87</td>\n",
              "      <td>2017-02-13 13:57:51</td>\n",
              "      <td>199.90</td>\n",
              "      <td>18.14</td>\n",
              "    </tr>\n",
              "    <tr>\n",
              "      <th>5</th>\n",
              "      <td>00048cc3ae777c65dbb7d2a0634bc1ea</td>\n",
              "      <td>1</td>\n",
              "      <td>ef92defde845ab8450f9d70c526ef70f</td>\n",
              "      <td>6426d21aca402a131fc0a5d0960a3c90</td>\n",
              "      <td>2017-05-23 03:55:27</td>\n",
              "      <td>21.90</td>\n",
              "      <td>12.69</td>\n",
              "    </tr>\n",
              "    <tr>\n",
              "      <th>6</th>\n",
              "      <td>00054e8431b9d7675808bcb819fb4a32</td>\n",
              "      <td>1</td>\n",
              "      <td>8d4f2bb7e93e6710a28f34fa83ee7d28</td>\n",
              "      <td>7040e82f899a04d1b434b795a43b4617</td>\n",
              "      <td>2017-12-14 12:10:31</td>\n",
              "      <td>19.90</td>\n",
              "      <td>11.85</td>\n",
              "    </tr>\n",
              "    <tr>\n",
              "      <th>7</th>\n",
              "      <td>000576fe39319847cbb9d288c5617fa6</td>\n",
              "      <td>1</td>\n",
              "      <td>557d850972a7d6f792fd18ae1400d9b6</td>\n",
              "      <td>5996cddab893a4652a15592fb58ab8db</td>\n",
              "      <td>2018-07-10 12:30:45</td>\n",
              "      <td>810.00</td>\n",
              "      <td>70.75</td>\n",
              "    </tr>\n",
              "    <tr>\n",
              "      <th>8</th>\n",
              "      <td>0005a1a1728c9d785b8e2b08b904576c</td>\n",
              "      <td>1</td>\n",
              "      <td>310ae3c140ff94b03219ad0adc3c778f</td>\n",
              "      <td>a416b6a846a11724393025641d4edd5e</td>\n",
              "      <td>2018-03-26 18:31:29</td>\n",
              "      <td>145.95</td>\n",
              "      <td>11.65</td>\n",
              "    </tr>\n",
              "    <tr>\n",
              "      <th>9</th>\n",
              "      <td>0005f50442cb953dcd1d21e1fb923495</td>\n",
              "      <td>1</td>\n",
              "      <td>4535b0e1091c278dfd193e5a1d63b39f</td>\n",
              "      <td>ba143b05f0110f0dc71ad71b4466ce92</td>\n",
              "      <td>2018-07-06 14:10:56</td>\n",
              "      <td>53.99</td>\n",
              "      <td>11.40</td>\n",
              "    </tr>\n",
              "  </tbody>\n",
              "</table>\n",
              "</div>"
            ],
            "text/plain": [
              "                           order_id  order_item_id  ...   price freight_value\n",
              "0  00010242fe8c5a6d1ba2dd792cb16214              1  ...   58.90         13.29\n",
              "1  00018f77f2f0320c557190d7a144bdd3              1  ...  239.90         19.93\n",
              "2  000229ec398224ef6ca0657da4fc703e              1  ...  199.00         17.87\n",
              "3  00024acbcdf0a6daa1e931b038114c75              1  ...   12.99         12.79\n",
              "4  00042b26cf59d7ce69dfabb4e55b4fd9              1  ...  199.90         18.14\n",
              "5  00048cc3ae777c65dbb7d2a0634bc1ea              1  ...   21.90         12.69\n",
              "6  00054e8431b9d7675808bcb819fb4a32              1  ...   19.90         11.85\n",
              "7  000576fe39319847cbb9d288c5617fa6              1  ...  810.00         70.75\n",
              "8  0005a1a1728c9d785b8e2b08b904576c              1  ...  145.95         11.65\n",
              "9  0005f50442cb953dcd1d21e1fb923495              1  ...   53.99         11.40\n",
              "\n",
              "[10 rows x 7 columns]"
            ]
          },
          "metadata": {
            "tags": []
          },
          "execution_count": 93
        }
      ]
    },
    {
      "cell_type": "code",
      "metadata": {
        "_kg_hide-output": true,
        "execution": {
          "iopub.execute_input": "2020-09-16T04:40:40.934157Z",
          "iopub.status.busy": "2020-09-16T04:40:40.933344Z",
          "iopub.status.idle": "2020-09-16T04:40:41.025281Z",
          "shell.execute_reply": "2020-09-16T04:40:41.024483Z"
        },
        "papermill": {
          "duration": 0.150341,
          "end_time": "2020-09-16T04:40:41.025423",
          "exception": false,
          "start_time": "2020-09-16T04:40:40.875082",
          "status": "completed"
        },
        "tags": [],
        "colab": {
          "base_uri": "https://localhost:8080/",
          "height": 375
        },
        "id": "H2HZNGd2K7AQ",
        "outputId": "05f73e30-e2a4-47d6-8ea8-a9cb764dbcc4"
      },
      "source": [
        "olist_products_dataset = pd.read_csv('olist_products_dataset.csv')\n",
        "olist_products_dataset.head(10)"
      ],
      "execution_count": 94,
      "outputs": [
        {
          "output_type": "execute_result",
          "data": {
            "text/html": [
              "<div>\n",
              "<style scoped>\n",
              "    .dataframe tbody tr th:only-of-type {\n",
              "        vertical-align: middle;\n",
              "    }\n",
              "\n",
              "    .dataframe tbody tr th {\n",
              "        vertical-align: top;\n",
              "    }\n",
              "\n",
              "    .dataframe thead th {\n",
              "        text-align: right;\n",
              "    }\n",
              "</style>\n",
              "<table border=\"1\" class=\"dataframe\">\n",
              "  <thead>\n",
              "    <tr style=\"text-align: right;\">\n",
              "      <th></th>\n",
              "      <th>product_id</th>\n",
              "      <th>product_category_name</th>\n",
              "      <th>product_name_lenght</th>\n",
              "      <th>product_description_lenght</th>\n",
              "      <th>product_photos_qty</th>\n",
              "      <th>product_weight_g</th>\n",
              "      <th>product_length_cm</th>\n",
              "      <th>product_height_cm</th>\n",
              "      <th>product_width_cm</th>\n",
              "    </tr>\n",
              "  </thead>\n",
              "  <tbody>\n",
              "    <tr>\n",
              "      <th>0</th>\n",
              "      <td>1e9e8ef04dbcff4541ed26657ea517e5</td>\n",
              "      <td>perfumaria</td>\n",
              "      <td>40.0</td>\n",
              "      <td>287.0</td>\n",
              "      <td>1.0</td>\n",
              "      <td>225.0</td>\n",
              "      <td>16.0</td>\n",
              "      <td>10.0</td>\n",
              "      <td>14.0</td>\n",
              "    </tr>\n",
              "    <tr>\n",
              "      <th>1</th>\n",
              "      <td>3aa071139cb16b67ca9e5dea641aaa2f</td>\n",
              "      <td>artes</td>\n",
              "      <td>44.0</td>\n",
              "      <td>276.0</td>\n",
              "      <td>1.0</td>\n",
              "      <td>1000.0</td>\n",
              "      <td>30.0</td>\n",
              "      <td>18.0</td>\n",
              "      <td>20.0</td>\n",
              "    </tr>\n",
              "    <tr>\n",
              "      <th>2</th>\n",
              "      <td>96bd76ec8810374ed1b65e291975717f</td>\n",
              "      <td>esporte_lazer</td>\n",
              "      <td>46.0</td>\n",
              "      <td>250.0</td>\n",
              "      <td>1.0</td>\n",
              "      <td>154.0</td>\n",
              "      <td>18.0</td>\n",
              "      <td>9.0</td>\n",
              "      <td>15.0</td>\n",
              "    </tr>\n",
              "    <tr>\n",
              "      <th>3</th>\n",
              "      <td>cef67bcfe19066a932b7673e239eb23d</td>\n",
              "      <td>bebes</td>\n",
              "      <td>27.0</td>\n",
              "      <td>261.0</td>\n",
              "      <td>1.0</td>\n",
              "      <td>371.0</td>\n",
              "      <td>26.0</td>\n",
              "      <td>4.0</td>\n",
              "      <td>26.0</td>\n",
              "    </tr>\n",
              "    <tr>\n",
              "      <th>4</th>\n",
              "      <td>9dc1a7de274444849c219cff195d0b71</td>\n",
              "      <td>utilidades_domesticas</td>\n",
              "      <td>37.0</td>\n",
              "      <td>402.0</td>\n",
              "      <td>4.0</td>\n",
              "      <td>625.0</td>\n",
              "      <td>20.0</td>\n",
              "      <td>17.0</td>\n",
              "      <td>13.0</td>\n",
              "    </tr>\n",
              "    <tr>\n",
              "      <th>5</th>\n",
              "      <td>41d3672d4792049fa1779bb35283ed13</td>\n",
              "      <td>instrumentos_musicais</td>\n",
              "      <td>60.0</td>\n",
              "      <td>745.0</td>\n",
              "      <td>1.0</td>\n",
              "      <td>200.0</td>\n",
              "      <td>38.0</td>\n",
              "      <td>5.0</td>\n",
              "      <td>11.0</td>\n",
              "    </tr>\n",
              "    <tr>\n",
              "      <th>6</th>\n",
              "      <td>732bd381ad09e530fe0a5f457d81becb</td>\n",
              "      <td>cool_stuff</td>\n",
              "      <td>56.0</td>\n",
              "      <td>1272.0</td>\n",
              "      <td>4.0</td>\n",
              "      <td>18350.0</td>\n",
              "      <td>70.0</td>\n",
              "      <td>24.0</td>\n",
              "      <td>44.0</td>\n",
              "    </tr>\n",
              "    <tr>\n",
              "      <th>7</th>\n",
              "      <td>2548af3e6e77a690cf3eb6368e9ab61e</td>\n",
              "      <td>moveis_decoracao</td>\n",
              "      <td>56.0</td>\n",
              "      <td>184.0</td>\n",
              "      <td>2.0</td>\n",
              "      <td>900.0</td>\n",
              "      <td>40.0</td>\n",
              "      <td>8.0</td>\n",
              "      <td>40.0</td>\n",
              "    </tr>\n",
              "    <tr>\n",
              "      <th>8</th>\n",
              "      <td>37cc742be07708b53a98702e77a21a02</td>\n",
              "      <td>eletrodomesticos</td>\n",
              "      <td>57.0</td>\n",
              "      <td>163.0</td>\n",
              "      <td>1.0</td>\n",
              "      <td>400.0</td>\n",
              "      <td>27.0</td>\n",
              "      <td>13.0</td>\n",
              "      <td>17.0</td>\n",
              "    </tr>\n",
              "    <tr>\n",
              "      <th>9</th>\n",
              "      <td>8c92109888e8cdf9d66dc7e463025574</td>\n",
              "      <td>brinquedos</td>\n",
              "      <td>36.0</td>\n",
              "      <td>1156.0</td>\n",
              "      <td>1.0</td>\n",
              "      <td>600.0</td>\n",
              "      <td>17.0</td>\n",
              "      <td>10.0</td>\n",
              "      <td>12.0</td>\n",
              "    </tr>\n",
              "  </tbody>\n",
              "</table>\n",
              "</div>"
            ],
            "text/plain": [
              "                         product_id  ... product_width_cm\n",
              "0  1e9e8ef04dbcff4541ed26657ea517e5  ...             14.0\n",
              "1  3aa071139cb16b67ca9e5dea641aaa2f  ...             20.0\n",
              "2  96bd76ec8810374ed1b65e291975717f  ...             15.0\n",
              "3  cef67bcfe19066a932b7673e239eb23d  ...             26.0\n",
              "4  9dc1a7de274444849c219cff195d0b71  ...             13.0\n",
              "5  41d3672d4792049fa1779bb35283ed13  ...             11.0\n",
              "6  732bd381ad09e530fe0a5f457d81becb  ...             44.0\n",
              "7  2548af3e6e77a690cf3eb6368e9ab61e  ...             40.0\n",
              "8  37cc742be07708b53a98702e77a21a02  ...             17.0\n",
              "9  8c92109888e8cdf9d66dc7e463025574  ...             12.0\n",
              "\n",
              "[10 rows x 9 columns]"
            ]
          },
          "metadata": {
            "tags": []
          },
          "execution_count": 94
        }
      ]
    },
    {
      "cell_type": "markdown",
      "metadata": {
        "papermill": {
          "duration": 0.057267,
          "end_time": "2020-09-16T04:40:41.136631",
          "exception": false,
          "start_time": "2020-09-16T04:40:41.079364",
          "status": "completed"
        },
        "tags": [],
        "id": "52NdxsB5K7AQ"
      },
      "source": [
        "# 5. Olist Payments Dataset\n",
        "\n",
        "The **olist_payments_dataset** dataset contains the payment information of all orders\n",
        " \n",
        "Tasks:\n",
        "\n",
        "1. Which is the preffered method of payment.\n",
        "2. How many installments do customers usually choose to pay in.\n",
        "3. Is there a correlation between the installments and payment value.\n",
        "4. Aggregation functions on the payment value column."
      ]
    },
    {
      "cell_type": "code",
      "metadata": {
        "_kg_hide-output": true,
        "execution": {
          "iopub.execute_input": "2020-09-16T04:40:41.254858Z",
          "iopub.status.busy": "2020-09-16T04:40:41.254077Z",
          "iopub.status.idle": "2020-09-16T04:40:41.420049Z",
          "shell.execute_reply": "2020-09-16T04:40:41.419301Z"
        },
        "papermill": {
          "duration": 0.226619,
          "end_time": "2020-09-16T04:40:41.420178",
          "exception": false,
          "start_time": "2020-09-16T04:40:41.193559",
          "status": "completed"
        },
        "tags": [],
        "colab": {
          "base_uri": "https://localhost:8080/",
          "height": 355
        },
        "id": "3716bHidK7AQ",
        "outputId": "4f47bc03-dfd8-4795-979d-aec91f4c9b51"
      },
      "source": [
        "olist_order_payments_dataset = pd.read_csv('olist_order_payments_dataset.csv')\n",
        "olist_order_payments_dataset.head(10)"
      ],
      "execution_count": 10,
      "outputs": [
        {
          "output_type": "execute_result",
          "data": {
            "text/html": [
              "<div>\n",
              "<style scoped>\n",
              "    .dataframe tbody tr th:only-of-type {\n",
              "        vertical-align: middle;\n",
              "    }\n",
              "\n",
              "    .dataframe tbody tr th {\n",
              "        vertical-align: top;\n",
              "    }\n",
              "\n",
              "    .dataframe thead th {\n",
              "        text-align: right;\n",
              "    }\n",
              "</style>\n",
              "<table border=\"1\" class=\"dataframe\">\n",
              "  <thead>\n",
              "    <tr style=\"text-align: right;\">\n",
              "      <th></th>\n",
              "      <th>order_id</th>\n",
              "      <th>payment_sequential</th>\n",
              "      <th>payment_type</th>\n",
              "      <th>payment_installments</th>\n",
              "      <th>payment_value</th>\n",
              "    </tr>\n",
              "  </thead>\n",
              "  <tbody>\n",
              "    <tr>\n",
              "      <th>0</th>\n",
              "      <td>b81ef226f3fe1789b1e8b2acac839d17</td>\n",
              "      <td>1</td>\n",
              "      <td>credit_card</td>\n",
              "      <td>8</td>\n",
              "      <td>99.33</td>\n",
              "    </tr>\n",
              "    <tr>\n",
              "      <th>1</th>\n",
              "      <td>a9810da82917af2d9aefd1278f1dcfa0</td>\n",
              "      <td>1</td>\n",
              "      <td>credit_card</td>\n",
              "      <td>1</td>\n",
              "      <td>24.39</td>\n",
              "    </tr>\n",
              "    <tr>\n",
              "      <th>2</th>\n",
              "      <td>25e8ea4e93396b6fa0d3dd708e76c1bd</td>\n",
              "      <td>1</td>\n",
              "      <td>credit_card</td>\n",
              "      <td>1</td>\n",
              "      <td>65.71</td>\n",
              "    </tr>\n",
              "    <tr>\n",
              "      <th>3</th>\n",
              "      <td>ba78997921bbcdc1373bb41e913ab953</td>\n",
              "      <td>1</td>\n",
              "      <td>credit_card</td>\n",
              "      <td>8</td>\n",
              "      <td>107.78</td>\n",
              "    </tr>\n",
              "    <tr>\n",
              "      <th>4</th>\n",
              "      <td>42fdf880ba16b47b59251dd489d4441a</td>\n",
              "      <td>1</td>\n",
              "      <td>credit_card</td>\n",
              "      <td>2</td>\n",
              "      <td>128.45</td>\n",
              "    </tr>\n",
              "    <tr>\n",
              "      <th>5</th>\n",
              "      <td>298fcdf1f73eb413e4d26d01b25bc1cd</td>\n",
              "      <td>1</td>\n",
              "      <td>credit_card</td>\n",
              "      <td>2</td>\n",
              "      <td>96.12</td>\n",
              "    </tr>\n",
              "    <tr>\n",
              "      <th>6</th>\n",
              "      <td>771ee386b001f06208a7419e4fc1bbd7</td>\n",
              "      <td>1</td>\n",
              "      <td>credit_card</td>\n",
              "      <td>1</td>\n",
              "      <td>81.16</td>\n",
              "    </tr>\n",
              "    <tr>\n",
              "      <th>7</th>\n",
              "      <td>3d7239c394a212faae122962df514ac7</td>\n",
              "      <td>1</td>\n",
              "      <td>credit_card</td>\n",
              "      <td>3</td>\n",
              "      <td>51.84</td>\n",
              "    </tr>\n",
              "    <tr>\n",
              "      <th>8</th>\n",
              "      <td>1f78449c87a54faf9e96e88ba1491fa9</td>\n",
              "      <td>1</td>\n",
              "      <td>credit_card</td>\n",
              "      <td>6</td>\n",
              "      <td>341.09</td>\n",
              "    </tr>\n",
              "    <tr>\n",
              "      <th>9</th>\n",
              "      <td>0573b5e23cbd798006520e1d5b4c6714</td>\n",
              "      <td>1</td>\n",
              "      <td>boleto</td>\n",
              "      <td>1</td>\n",
              "      <td>51.95</td>\n",
              "    </tr>\n",
              "  </tbody>\n",
              "</table>\n",
              "</div>"
            ],
            "text/plain": [
              "                           order_id  ...  payment_value\n",
              "0  b81ef226f3fe1789b1e8b2acac839d17  ...          99.33\n",
              "1  a9810da82917af2d9aefd1278f1dcfa0  ...          24.39\n",
              "2  25e8ea4e93396b6fa0d3dd708e76c1bd  ...          65.71\n",
              "3  ba78997921bbcdc1373bb41e913ab953  ...         107.78\n",
              "4  42fdf880ba16b47b59251dd489d4441a  ...         128.45\n",
              "5  298fcdf1f73eb413e4d26d01b25bc1cd  ...          96.12\n",
              "6  771ee386b001f06208a7419e4fc1bbd7  ...          81.16\n",
              "7  3d7239c394a212faae122962df514ac7  ...          51.84\n",
              "8  1f78449c87a54faf9e96e88ba1491fa9  ...         341.09\n",
              "9  0573b5e23cbd798006520e1d5b4c6714  ...          51.95\n",
              "\n",
              "[10 rows x 5 columns]"
            ]
          },
          "metadata": {
            "tags": []
          },
          "execution_count": 10
        }
      ]
    },
    {
      "cell_type": "markdown",
      "metadata": {
        "papermill": {
          "duration": 0.057431,
          "end_time": "2020-09-16T04:40:41.531792",
          "exception": false,
          "start_time": "2020-09-16T04:40:41.474361",
          "status": "completed"
        },
        "tags": [],
        "id": "lbR92VNPK7AR"
      },
      "source": [
        "# 6. Olist Geolocation Dataset\n",
        "\n",
        "The **olist_geolocation_dataset** dataset contains the physical location where purchases were made.\n",
        " \n",
        "Tasks:\n",
        "\n",
        "1. Plot the map data usling plotly."
      ]
    },
    {
      "cell_type": "code",
      "metadata": {
        "_kg_hide-output": true,
        "execution": {
          "iopub.execute_input": "2020-09-16T04:40:41.659526Z",
          "iopub.status.busy": "2020-09-16T04:40:41.658710Z",
          "iopub.status.idle": "2020-09-16T04:40:42.735489Z",
          "shell.execute_reply": "2020-09-16T04:40:42.734696Z"
        },
        "papermill": {
          "duration": 1.137064,
          "end_time": "2020-09-16T04:40:42.735633",
          "exception": false,
          "start_time": "2020-09-16T04:40:41.598569",
          "status": "completed"
        },
        "tags": [],
        "colab": {
          "base_uri": "https://localhost:8080/",
          "height": 355
        },
        "id": "OVQpFQifK7AR",
        "outputId": "3c0f63d9-624b-4df1-d34a-89f28855693e"
      },
      "source": [
        "olist_geolocation_dataset = pd.read_csv('olist_geolocation_dataset.csv')\n",
        "olist_geolocation_dataset.head(10)"
      ],
      "execution_count": 12,
      "outputs": [
        {
          "output_type": "execute_result",
          "data": {
            "text/html": [
              "<div>\n",
              "<style scoped>\n",
              "    .dataframe tbody tr th:only-of-type {\n",
              "        vertical-align: middle;\n",
              "    }\n",
              "\n",
              "    .dataframe tbody tr th {\n",
              "        vertical-align: top;\n",
              "    }\n",
              "\n",
              "    .dataframe thead th {\n",
              "        text-align: right;\n",
              "    }\n",
              "</style>\n",
              "<table border=\"1\" class=\"dataframe\">\n",
              "  <thead>\n",
              "    <tr style=\"text-align: right;\">\n",
              "      <th></th>\n",
              "      <th>geolocation_zip_code_prefix</th>\n",
              "      <th>geolocation_lat</th>\n",
              "      <th>geolocation_lng</th>\n",
              "      <th>geolocation_city</th>\n",
              "      <th>geolocation_state</th>\n",
              "    </tr>\n",
              "  </thead>\n",
              "  <tbody>\n",
              "    <tr>\n",
              "      <th>0</th>\n",
              "      <td>1037</td>\n",
              "      <td>-23.545621</td>\n",
              "      <td>-46.639292</td>\n",
              "      <td>sao paulo</td>\n",
              "      <td>SP</td>\n",
              "    </tr>\n",
              "    <tr>\n",
              "      <th>1</th>\n",
              "      <td>1046</td>\n",
              "      <td>-23.546081</td>\n",
              "      <td>-46.644820</td>\n",
              "      <td>sao paulo</td>\n",
              "      <td>SP</td>\n",
              "    </tr>\n",
              "    <tr>\n",
              "      <th>2</th>\n",
              "      <td>1046</td>\n",
              "      <td>-23.546129</td>\n",
              "      <td>-46.642951</td>\n",
              "      <td>sao paulo</td>\n",
              "      <td>SP</td>\n",
              "    </tr>\n",
              "    <tr>\n",
              "      <th>3</th>\n",
              "      <td>1041</td>\n",
              "      <td>-23.544392</td>\n",
              "      <td>-46.639499</td>\n",
              "      <td>sao paulo</td>\n",
              "      <td>SP</td>\n",
              "    </tr>\n",
              "    <tr>\n",
              "      <th>4</th>\n",
              "      <td>1035</td>\n",
              "      <td>-23.541578</td>\n",
              "      <td>-46.641607</td>\n",
              "      <td>sao paulo</td>\n",
              "      <td>SP</td>\n",
              "    </tr>\n",
              "    <tr>\n",
              "      <th>5</th>\n",
              "      <td>1012</td>\n",
              "      <td>-23.547762</td>\n",
              "      <td>-46.635361</td>\n",
              "      <td>são paulo</td>\n",
              "      <td>SP</td>\n",
              "    </tr>\n",
              "    <tr>\n",
              "      <th>6</th>\n",
              "      <td>1047</td>\n",
              "      <td>-23.546273</td>\n",
              "      <td>-46.641225</td>\n",
              "      <td>sao paulo</td>\n",
              "      <td>SP</td>\n",
              "    </tr>\n",
              "    <tr>\n",
              "      <th>7</th>\n",
              "      <td>1013</td>\n",
              "      <td>-23.546923</td>\n",
              "      <td>-46.634264</td>\n",
              "      <td>sao paulo</td>\n",
              "      <td>SP</td>\n",
              "    </tr>\n",
              "    <tr>\n",
              "      <th>8</th>\n",
              "      <td>1029</td>\n",
              "      <td>-23.543769</td>\n",
              "      <td>-46.634278</td>\n",
              "      <td>sao paulo</td>\n",
              "      <td>SP</td>\n",
              "    </tr>\n",
              "    <tr>\n",
              "      <th>9</th>\n",
              "      <td>1011</td>\n",
              "      <td>-23.547640</td>\n",
              "      <td>-46.636032</td>\n",
              "      <td>sao paulo</td>\n",
              "      <td>SP</td>\n",
              "    </tr>\n",
              "  </tbody>\n",
              "</table>\n",
              "</div>"
            ],
            "text/plain": [
              "   geolocation_zip_code_prefix  ...  geolocation_state\n",
              "0                         1037  ...                 SP\n",
              "1                         1046  ...                 SP\n",
              "2                         1046  ...                 SP\n",
              "3                         1041  ...                 SP\n",
              "4                         1035  ...                 SP\n",
              "5                         1012  ...                 SP\n",
              "6                         1047  ...                 SP\n",
              "7                         1013  ...                 SP\n",
              "8                         1029  ...                 SP\n",
              "9                         1011  ...                 SP\n",
              "\n",
              "[10 rows x 5 columns]"
            ]
          },
          "metadata": {
            "tags": []
          },
          "execution_count": 12
        }
      ]
    },
    {
      "cell_type": "markdown",
      "metadata": {
        "papermill": {
          "duration": 0.054975,
          "end_time": "2020-09-16T04:40:42.850060",
          "exception": false,
          "start_time": "2020-09-16T04:40:42.795085",
          "status": "completed"
        },
        "tags": [],
        "id": "wsv4Wn_SK7AR"
      },
      "source": [
        "# 7. Olist Order Reviews Dataset\n",
        "\n",
        "The **olist_order_reviews_dataset** dataset contains review data of the orders made.\n",
        " \n",
        "Tasks:\n",
        "\n",
        "1. For now only review score can be used but NLP can be used in further use cases."
      ]
    },
    {
      "cell_type": "code",
      "metadata": {
        "_kg_hide-output": true,
        "execution": {
          "iopub.execute_input": "2020-09-16T04:40:42.970402Z",
          "iopub.status.busy": "2020-09-16T04:40:42.969603Z",
          "iopub.status.idle": "2020-09-16T04:40:43.386646Z",
          "shell.execute_reply": "2020-09-16T04:40:43.385782Z"
        },
        "papermill": {
          "duration": 0.479328,
          "end_time": "2020-09-16T04:40:43.386793",
          "exception": false,
          "start_time": "2020-09-16T04:40:42.907465",
          "status": "completed"
        },
        "tags": [],
        "colab": {
          "base_uri": "https://localhost:8080/",
          "height": 427
        },
        "id": "LJBV22-IK7AR",
        "outputId": "0a8edf1c-9c76-4ea8-f0e3-035c07c71ede"
      },
      "source": [
        "olist_order_reviews_dataset = pd.read_csv('olist_order_reviews_dataset.csv')\n",
        "olist_order_reviews_dataset.head(10)"
      ],
      "execution_count": 14,
      "outputs": [
        {
          "output_type": "execute_result",
          "data": {
            "text/html": [
              "<div>\n",
              "<style scoped>\n",
              "    .dataframe tbody tr th:only-of-type {\n",
              "        vertical-align: middle;\n",
              "    }\n",
              "\n",
              "    .dataframe tbody tr th {\n",
              "        vertical-align: top;\n",
              "    }\n",
              "\n",
              "    .dataframe thead th {\n",
              "        text-align: right;\n",
              "    }\n",
              "</style>\n",
              "<table border=\"1\" class=\"dataframe\">\n",
              "  <thead>\n",
              "    <tr style=\"text-align: right;\">\n",
              "      <th></th>\n",
              "      <th>review_id</th>\n",
              "      <th>order_id</th>\n",
              "      <th>review_score</th>\n",
              "      <th>review_comment_title</th>\n",
              "      <th>review_comment_message</th>\n",
              "      <th>review_creation_date</th>\n",
              "      <th>review_answer_timestamp</th>\n",
              "    </tr>\n",
              "  </thead>\n",
              "  <tbody>\n",
              "    <tr>\n",
              "      <th>0</th>\n",
              "      <td>7bc2406110b926393aa56f80a40eba40</td>\n",
              "      <td>73fc7af87114b39712e6da79b0a377eb</td>\n",
              "      <td>4</td>\n",
              "      <td>NaN</td>\n",
              "      <td>NaN</td>\n",
              "      <td>2018-01-18 00:00:00</td>\n",
              "      <td>2018-01-18 21:46:59</td>\n",
              "    </tr>\n",
              "    <tr>\n",
              "      <th>1</th>\n",
              "      <td>80e641a11e56f04c1ad469d5645fdfde</td>\n",
              "      <td>a548910a1c6147796b98fdf73dbeba33</td>\n",
              "      <td>5</td>\n",
              "      <td>NaN</td>\n",
              "      <td>NaN</td>\n",
              "      <td>2018-03-10 00:00:00</td>\n",
              "      <td>2018-03-11 03:05:13</td>\n",
              "    </tr>\n",
              "    <tr>\n",
              "      <th>2</th>\n",
              "      <td>228ce5500dc1d8e020d8d1322874b6f0</td>\n",
              "      <td>f9e4b658b201a9f2ecdecbb34bed034b</td>\n",
              "      <td>5</td>\n",
              "      <td>NaN</td>\n",
              "      <td>NaN</td>\n",
              "      <td>2018-02-17 00:00:00</td>\n",
              "      <td>2018-02-18 14:36:24</td>\n",
              "    </tr>\n",
              "    <tr>\n",
              "      <th>3</th>\n",
              "      <td>e64fb393e7b32834bb789ff8bb30750e</td>\n",
              "      <td>658677c97b385a9be170737859d3511b</td>\n",
              "      <td>5</td>\n",
              "      <td>NaN</td>\n",
              "      <td>Recebi bem antes do prazo estipulado.</td>\n",
              "      <td>2017-04-21 00:00:00</td>\n",
              "      <td>2017-04-21 22:02:06</td>\n",
              "    </tr>\n",
              "    <tr>\n",
              "      <th>4</th>\n",
              "      <td>f7c4243c7fe1938f181bec41a392bdeb</td>\n",
              "      <td>8e6bfb81e283fa7e4f11123a3fb894f1</td>\n",
              "      <td>5</td>\n",
              "      <td>NaN</td>\n",
              "      <td>Parabéns lojas lannister adorei comprar pela I...</td>\n",
              "      <td>2018-03-01 00:00:00</td>\n",
              "      <td>2018-03-02 10:26:53</td>\n",
              "    </tr>\n",
              "    <tr>\n",
              "      <th>5</th>\n",
              "      <td>15197aa66ff4d0650b5434f1b46cda19</td>\n",
              "      <td>b18dcdf73be66366873cd26c5724d1dc</td>\n",
              "      <td>1</td>\n",
              "      <td>NaN</td>\n",
              "      <td>NaN</td>\n",
              "      <td>2018-04-13 00:00:00</td>\n",
              "      <td>2018-04-16 00:39:37</td>\n",
              "    </tr>\n",
              "    <tr>\n",
              "      <th>6</th>\n",
              "      <td>07f9bee5d1b850860defd761afa7ff16</td>\n",
              "      <td>e48aa0d2dcec3a2e87348811bcfdf22b</td>\n",
              "      <td>5</td>\n",
              "      <td>NaN</td>\n",
              "      <td>NaN</td>\n",
              "      <td>2017-07-16 00:00:00</td>\n",
              "      <td>2017-07-18 19:30:34</td>\n",
              "    </tr>\n",
              "    <tr>\n",
              "      <th>7</th>\n",
              "      <td>7c6400515c67679fbee952a7525281ef</td>\n",
              "      <td>c31a859e34e3adac22f376954e19b39d</td>\n",
              "      <td>5</td>\n",
              "      <td>NaN</td>\n",
              "      <td>NaN</td>\n",
              "      <td>2018-08-14 00:00:00</td>\n",
              "      <td>2018-08-14 21:36:06</td>\n",
              "    </tr>\n",
              "    <tr>\n",
              "      <th>8</th>\n",
              "      <td>a3f6f7f6f433de0aefbb97da197c554c</td>\n",
              "      <td>9c214ac970e84273583ab523dfafd09b</td>\n",
              "      <td>5</td>\n",
              "      <td>NaN</td>\n",
              "      <td>NaN</td>\n",
              "      <td>2017-05-17 00:00:00</td>\n",
              "      <td>2017-05-18 12:05:37</td>\n",
              "    </tr>\n",
              "    <tr>\n",
              "      <th>9</th>\n",
              "      <td>8670d52e15e00043ae7de4c01cc2fe06</td>\n",
              "      <td>b9bf720beb4ab3728760088589c62129</td>\n",
              "      <td>4</td>\n",
              "      <td>recomendo</td>\n",
              "      <td>aparelho eficiente. no site a marca do aparelh...</td>\n",
              "      <td>2018-05-22 00:00:00</td>\n",
              "      <td>2018-05-23 16:45:47</td>\n",
              "    </tr>\n",
              "  </tbody>\n",
              "</table>\n",
              "</div>"
            ],
            "text/plain": [
              "                          review_id  ... review_answer_timestamp\n",
              "0  7bc2406110b926393aa56f80a40eba40  ...     2018-01-18 21:46:59\n",
              "1  80e641a11e56f04c1ad469d5645fdfde  ...     2018-03-11 03:05:13\n",
              "2  228ce5500dc1d8e020d8d1322874b6f0  ...     2018-02-18 14:36:24\n",
              "3  e64fb393e7b32834bb789ff8bb30750e  ...     2017-04-21 22:02:06\n",
              "4  f7c4243c7fe1938f181bec41a392bdeb  ...     2018-03-02 10:26:53\n",
              "5  15197aa66ff4d0650b5434f1b46cda19  ...     2018-04-16 00:39:37\n",
              "6  07f9bee5d1b850860defd761afa7ff16  ...     2017-07-18 19:30:34\n",
              "7  7c6400515c67679fbee952a7525281ef  ...     2018-08-14 21:36:06\n",
              "8  a3f6f7f6f433de0aefbb97da197c554c  ...     2017-05-18 12:05:37\n",
              "9  8670d52e15e00043ae7de4c01cc2fe06  ...     2018-05-23 16:45:47\n",
              "\n",
              "[10 rows x 7 columns]"
            ]
          },
          "metadata": {
            "tags": []
          },
          "execution_count": 14
        }
      ]
    },
    {
      "cell_type": "markdown",
      "metadata": {
        "papermill": {
          "duration": 0.057048,
          "end_time": "2020-09-16T04:40:43.501879",
          "exception": false,
          "start_time": "2020-09-16T04:40:43.444831",
          "status": "completed"
        },
        "tags": [],
        "id": "rAhyqwooK7AS"
      },
      "source": [
        "# 8. Olist Order Items Dataset\n",
        "\n",
        "The **olist_order_items_dataset** dataset maps the order data to the product data and seller, it also gives us the freight value and price of the product in a specific order.\n",
        " \n",
        "Tasks:\n",
        "\n",
        "1. Grouping by order_id to find out trends by price and freight value.\n",
        "2. Analyzing seller data. Which sellers were better at selling which products. \n",
        "3. Is there a correlation between seller and price of products sold."
      ]
    },
    {
      "cell_type": "code",
      "metadata": {
        "_kg_hide-output": true,
        "execution": {
          "iopub.execute_input": "2020-09-16T04:40:43.629364Z",
          "iopub.status.busy": "2020-09-16T04:40:43.628517Z",
          "iopub.status.idle": "2020-09-16T04:40:44.020883Z",
          "shell.execute_reply": "2020-09-16T04:40:44.021520Z"
        },
        "papermill": {
          "duration": 0.455856,
          "end_time": "2020-09-16T04:40:44.021689",
          "exception": false,
          "start_time": "2020-09-16T04:40:43.565833",
          "status": "completed"
        },
        "tags": [],
        "colab": {
          "base_uri": "https://localhost:8080/",
          "height": 375
        },
        "id": "WsyHw2NUK7AS",
        "outputId": "2a9c8379-e83e-41c1-e6e8-0556895ddf90"
      },
      "source": [
        "olist_order_items_dataset = pd.read_csv('olist_order_items_dataset.csv')\n",
        "olist_order_items_dataset.head(10)"
      ],
      "execution_count": 16,
      "outputs": [
        {
          "output_type": "execute_result",
          "data": {
            "text/html": [
              "<div>\n",
              "<style scoped>\n",
              "    .dataframe tbody tr th:only-of-type {\n",
              "        vertical-align: middle;\n",
              "    }\n",
              "\n",
              "    .dataframe tbody tr th {\n",
              "        vertical-align: top;\n",
              "    }\n",
              "\n",
              "    .dataframe thead th {\n",
              "        text-align: right;\n",
              "    }\n",
              "</style>\n",
              "<table border=\"1\" class=\"dataframe\">\n",
              "  <thead>\n",
              "    <tr style=\"text-align: right;\">\n",
              "      <th></th>\n",
              "      <th>order_id</th>\n",
              "      <th>order_item_id</th>\n",
              "      <th>product_id</th>\n",
              "      <th>seller_id</th>\n",
              "      <th>shipping_limit_date</th>\n",
              "      <th>price</th>\n",
              "      <th>freight_value</th>\n",
              "    </tr>\n",
              "  </thead>\n",
              "  <tbody>\n",
              "    <tr>\n",
              "      <th>0</th>\n",
              "      <td>00010242fe8c5a6d1ba2dd792cb16214</td>\n",
              "      <td>1</td>\n",
              "      <td>4244733e06e7ecb4970a6e2683c13e61</td>\n",
              "      <td>48436dade18ac8b2bce089ec2a041202</td>\n",
              "      <td>2017-09-19 09:45:35</td>\n",
              "      <td>58.90</td>\n",
              "      <td>13.29</td>\n",
              "    </tr>\n",
              "    <tr>\n",
              "      <th>1</th>\n",
              "      <td>00018f77f2f0320c557190d7a144bdd3</td>\n",
              "      <td>1</td>\n",
              "      <td>e5f2d52b802189ee658865ca93d83a8f</td>\n",
              "      <td>dd7ddc04e1b6c2c614352b383efe2d36</td>\n",
              "      <td>2017-05-03 11:05:13</td>\n",
              "      <td>239.90</td>\n",
              "      <td>19.93</td>\n",
              "    </tr>\n",
              "    <tr>\n",
              "      <th>2</th>\n",
              "      <td>000229ec398224ef6ca0657da4fc703e</td>\n",
              "      <td>1</td>\n",
              "      <td>c777355d18b72b67abbeef9df44fd0fd</td>\n",
              "      <td>5b51032eddd242adc84c38acab88f23d</td>\n",
              "      <td>2018-01-18 14:48:30</td>\n",
              "      <td>199.00</td>\n",
              "      <td>17.87</td>\n",
              "    </tr>\n",
              "    <tr>\n",
              "      <th>3</th>\n",
              "      <td>00024acbcdf0a6daa1e931b038114c75</td>\n",
              "      <td>1</td>\n",
              "      <td>7634da152a4610f1595efa32f14722fc</td>\n",
              "      <td>9d7a1d34a5052409006425275ba1c2b4</td>\n",
              "      <td>2018-08-15 10:10:18</td>\n",
              "      <td>12.99</td>\n",
              "      <td>12.79</td>\n",
              "    </tr>\n",
              "    <tr>\n",
              "      <th>4</th>\n",
              "      <td>00042b26cf59d7ce69dfabb4e55b4fd9</td>\n",
              "      <td>1</td>\n",
              "      <td>ac6c3623068f30de03045865e4e10089</td>\n",
              "      <td>df560393f3a51e74553ab94004ba5c87</td>\n",
              "      <td>2017-02-13 13:57:51</td>\n",
              "      <td>199.90</td>\n",
              "      <td>18.14</td>\n",
              "    </tr>\n",
              "    <tr>\n",
              "      <th>5</th>\n",
              "      <td>00048cc3ae777c65dbb7d2a0634bc1ea</td>\n",
              "      <td>1</td>\n",
              "      <td>ef92defde845ab8450f9d70c526ef70f</td>\n",
              "      <td>6426d21aca402a131fc0a5d0960a3c90</td>\n",
              "      <td>2017-05-23 03:55:27</td>\n",
              "      <td>21.90</td>\n",
              "      <td>12.69</td>\n",
              "    </tr>\n",
              "    <tr>\n",
              "      <th>6</th>\n",
              "      <td>00054e8431b9d7675808bcb819fb4a32</td>\n",
              "      <td>1</td>\n",
              "      <td>8d4f2bb7e93e6710a28f34fa83ee7d28</td>\n",
              "      <td>7040e82f899a04d1b434b795a43b4617</td>\n",
              "      <td>2017-12-14 12:10:31</td>\n",
              "      <td>19.90</td>\n",
              "      <td>11.85</td>\n",
              "    </tr>\n",
              "    <tr>\n",
              "      <th>7</th>\n",
              "      <td>000576fe39319847cbb9d288c5617fa6</td>\n",
              "      <td>1</td>\n",
              "      <td>557d850972a7d6f792fd18ae1400d9b6</td>\n",
              "      <td>5996cddab893a4652a15592fb58ab8db</td>\n",
              "      <td>2018-07-10 12:30:45</td>\n",
              "      <td>810.00</td>\n",
              "      <td>70.75</td>\n",
              "    </tr>\n",
              "    <tr>\n",
              "      <th>8</th>\n",
              "      <td>0005a1a1728c9d785b8e2b08b904576c</td>\n",
              "      <td>1</td>\n",
              "      <td>310ae3c140ff94b03219ad0adc3c778f</td>\n",
              "      <td>a416b6a846a11724393025641d4edd5e</td>\n",
              "      <td>2018-03-26 18:31:29</td>\n",
              "      <td>145.95</td>\n",
              "      <td>11.65</td>\n",
              "    </tr>\n",
              "    <tr>\n",
              "      <th>9</th>\n",
              "      <td>0005f50442cb953dcd1d21e1fb923495</td>\n",
              "      <td>1</td>\n",
              "      <td>4535b0e1091c278dfd193e5a1d63b39f</td>\n",
              "      <td>ba143b05f0110f0dc71ad71b4466ce92</td>\n",
              "      <td>2018-07-06 14:10:56</td>\n",
              "      <td>53.99</td>\n",
              "      <td>11.40</td>\n",
              "    </tr>\n",
              "  </tbody>\n",
              "</table>\n",
              "</div>"
            ],
            "text/plain": [
              "                           order_id  order_item_id  ...   price freight_value\n",
              "0  00010242fe8c5a6d1ba2dd792cb16214              1  ...   58.90         13.29\n",
              "1  00018f77f2f0320c557190d7a144bdd3              1  ...  239.90         19.93\n",
              "2  000229ec398224ef6ca0657da4fc703e              1  ...  199.00         17.87\n",
              "3  00024acbcdf0a6daa1e931b038114c75              1  ...   12.99         12.79\n",
              "4  00042b26cf59d7ce69dfabb4e55b4fd9              1  ...  199.90         18.14\n",
              "5  00048cc3ae777c65dbb7d2a0634bc1ea              1  ...   21.90         12.69\n",
              "6  00054e8431b9d7675808bcb819fb4a32              1  ...   19.90         11.85\n",
              "7  000576fe39319847cbb9d288c5617fa6              1  ...  810.00         70.75\n",
              "8  0005a1a1728c9d785b8e2b08b904576c              1  ...  145.95         11.65\n",
              "9  0005f50442cb953dcd1d21e1fb923495              1  ...   53.99         11.40\n",
              "\n",
              "[10 rows x 7 columns]"
            ]
          },
          "metadata": {
            "tags": []
          },
          "execution_count": 16
        }
      ]
    },
    {
      "cell_type": "markdown",
      "metadata": {
        "papermill": {
          "duration": 0.058646,
          "end_time": "2020-09-16T04:40:44.137142",
          "exception": false,
          "start_time": "2020-09-16T04:40:44.078496",
          "status": "completed"
        },
        "tags": [],
        "id": "oJTJejZGK7AS"
      },
      "source": [
        "# 9. Product Category Name Translation\n",
        "\n",
        "The **product_category_name_translation** dataset contains translation of product category."
      ]
    },
    {
      "cell_type": "code",
      "metadata": {
        "_kg_hide-output": true,
        "execution": {
          "iopub.execute_input": "2020-09-16T04:40:44.262655Z",
          "iopub.status.busy": "2020-09-16T04:40:44.261503Z",
          "iopub.status.idle": "2020-09-16T04:40:44.276747Z",
          "shell.execute_reply": "2020-09-16T04:40:44.276090Z"
        },
        "papermill": {
          "duration": 0.081067,
          "end_time": "2020-09-16T04:40:44.276890",
          "exception": false,
          "start_time": "2020-09-16T04:40:44.195823",
          "status": "completed"
        },
        "tags": [],
        "colab": {
          "base_uri": "https://localhost:8080/",
          "height": 355
        },
        "id": "mQLhTL9kK7AT",
        "outputId": "d7eca00f-583a-46e7-ff4b-eb247ccc9478"
      },
      "source": [
        "product_category_name_translation = pd.read_csv('product_category_name_translation.csv')\n",
        "product_category_name_translation.head(10)"
      ],
      "execution_count": 57,
      "outputs": [
        {
          "output_type": "execute_result",
          "data": {
            "text/html": [
              "<div>\n",
              "<style scoped>\n",
              "    .dataframe tbody tr th:only-of-type {\n",
              "        vertical-align: middle;\n",
              "    }\n",
              "\n",
              "    .dataframe tbody tr th {\n",
              "        vertical-align: top;\n",
              "    }\n",
              "\n",
              "    .dataframe thead th {\n",
              "        text-align: right;\n",
              "    }\n",
              "</style>\n",
              "<table border=\"1\" class=\"dataframe\">\n",
              "  <thead>\n",
              "    <tr style=\"text-align: right;\">\n",
              "      <th></th>\n",
              "      <th>product_category_name</th>\n",
              "      <th>product_category_name_english</th>\n",
              "    </tr>\n",
              "  </thead>\n",
              "  <tbody>\n",
              "    <tr>\n",
              "      <th>0</th>\n",
              "      <td>beleza_saude</td>\n",
              "      <td>health_beauty</td>\n",
              "    </tr>\n",
              "    <tr>\n",
              "      <th>1</th>\n",
              "      <td>informatica_acessorios</td>\n",
              "      <td>computers_accessories</td>\n",
              "    </tr>\n",
              "    <tr>\n",
              "      <th>2</th>\n",
              "      <td>automotivo</td>\n",
              "      <td>auto</td>\n",
              "    </tr>\n",
              "    <tr>\n",
              "      <th>3</th>\n",
              "      <td>cama_mesa_banho</td>\n",
              "      <td>bed_bath_table</td>\n",
              "    </tr>\n",
              "    <tr>\n",
              "      <th>4</th>\n",
              "      <td>moveis_decoracao</td>\n",
              "      <td>furniture_decor</td>\n",
              "    </tr>\n",
              "    <tr>\n",
              "      <th>5</th>\n",
              "      <td>esporte_lazer</td>\n",
              "      <td>sports_leisure</td>\n",
              "    </tr>\n",
              "    <tr>\n",
              "      <th>6</th>\n",
              "      <td>perfumaria</td>\n",
              "      <td>perfumery</td>\n",
              "    </tr>\n",
              "    <tr>\n",
              "      <th>7</th>\n",
              "      <td>utilidades_domesticas</td>\n",
              "      <td>housewares</td>\n",
              "    </tr>\n",
              "    <tr>\n",
              "      <th>8</th>\n",
              "      <td>telefonia</td>\n",
              "      <td>telephony</td>\n",
              "    </tr>\n",
              "    <tr>\n",
              "      <th>9</th>\n",
              "      <td>relogios_presentes</td>\n",
              "      <td>watches_gifts</td>\n",
              "    </tr>\n",
              "  </tbody>\n",
              "</table>\n",
              "</div>"
            ],
            "text/plain": [
              "    product_category_name product_category_name_english\n",
              "0            beleza_saude                 health_beauty\n",
              "1  informatica_acessorios         computers_accessories\n",
              "2              automotivo                          auto\n",
              "3         cama_mesa_banho                bed_bath_table\n",
              "4        moveis_decoracao               furniture_decor\n",
              "5           esporte_lazer                sports_leisure\n",
              "6              perfumaria                     perfumery\n",
              "7   utilidades_domesticas                    housewares\n",
              "8               telefonia                     telephony\n",
              "9      relogios_presentes                 watches_gifts"
            ]
          },
          "metadata": {
            "tags": []
          },
          "execution_count": 57
        }
      ]
    },
    {
      "cell_type": "markdown",
      "metadata": {
        "papermill": {
          "duration": 0.057165,
          "end_time": "2020-09-16T04:40:44.392912",
          "exception": false,
          "start_time": "2020-09-16T04:40:44.335747",
          "status": "completed"
        },
        "tags": [],
        "id": "3x6OdfMcK7AT"
      },
      "source": [
        "<img src=\"http://vernonfernandes.net/assets/1.png\" width=\"100%\">"
      ]
    },
    {
      "cell_type": "markdown",
      "metadata": {
        "papermill": {
          "duration": 0.057622,
          "end_time": "2020-09-16T04:40:44.508113",
          "exception": false,
          "start_time": "2020-09-16T04:40:44.450491",
          "status": "completed"
        },
        "tags": [],
        "id": "Z4nW6tvyK7AT"
      },
      "source": [
        "Before any analysis begins, we need to merge the available CSV files. This can be a tricky part of our pipeline as mistakes can multiply down the road. "
      ]
    },
    {
      "cell_type": "code",
      "metadata": {
        "_kg_hide-input": true,
        "execution": {
          "iopub.execute_input": "2020-09-16T04:40:44.636629Z",
          "iopub.status.busy": "2020-09-16T04:40:44.635388Z",
          "iopub.status.idle": "2020-09-16T04:40:45.842729Z",
          "shell.execute_reply": "2020-09-16T04:40:45.842075Z"
        },
        "papermill": {
          "duration": 1.274866,
          "end_time": "2020-09-16T04:40:45.842870",
          "exception": false,
          "start_time": "2020-09-16T04:40:44.568004",
          "status": "completed"
        },
        "tags": [],
        "id": "CAsnrM7GK7AT"
      },
      "source": [
        "df = olist_orders_dataset.merge(olist_order_reviews_dataset, on='order_id', how='left')\n",
        "df = df.merge(olist_order_payments_dataset, on='order_id', how='left')\n",
        "df_1 = olist_order_items_dataset.merge(olist_sellers_dataset, on='seller_id', how='left')\n",
        "df_1 = df_1.merge(olist_products_dataset, on='product_id', how='left')\n",
        "df = df.merge(df_1, on='order_id', how='left')\n",
        "df = df.merge(olist_customers_dataset, on='customer_id', how='left')"
      ],
      "execution_count": 58,
      "outputs": []
    },
    {
      "cell_type": "markdown",
      "metadata": {
        "papermill": {
          "duration": 0.05936,
          "end_time": "2020-09-16T04:40:45.960428",
          "exception": false,
          "start_time": "2020-09-16T04:40:45.901068",
          "status": "completed"
        },
        "tags": [],
        "id": "HnyUYfW_K7AU"
      },
      "source": [
        "As you can see, the dataset contains a lot of missing information, most of it however does not provide too much value to our Marketing specific analysis. "
      ]
    },
    {
      "cell_type": "code",
      "metadata": {
        "execution": {
          "iopub.execute_input": "2020-09-16T04:40:46.187500Z",
          "iopub.status.busy": "2020-09-16T04:40:46.186452Z",
          "iopub.status.idle": "2020-09-16T04:40:46.413898Z",
          "shell.execute_reply": "2020-09-16T04:40:46.413097Z"
        },
        "papermill": {
          "duration": 0.394593,
          "end_time": "2020-09-16T04:40:46.414027",
          "exception": false,
          "start_time": "2020-09-16T04:40:46.019434",
          "status": "completed"
        },
        "tags": [],
        "colab": {
          "base_uri": "https://localhost:8080/"
        },
        "id": "Ox_oM1MrK7AU",
        "outputId": "5c2ce080-8144-4f02-8b62-4e33d0e1e5ba"
      },
      "source": [
        "df.isna().sum()"
      ],
      "execution_count": 59,
      "outputs": [
        {
          "output_type": "execute_result",
          "data": {
            "text/plain": [
              "order_id                              0\n",
              "customer_id                           0\n",
              "order_status                          0\n",
              "order_purchase_timestamp              0\n",
              "order_approved_at                   177\n",
              "order_delivered_carrier_date       2086\n",
              "order_delivered_customer_date      3421\n",
              "order_estimated_delivery_date         0\n",
              "review_id                             0\n",
              "review_score                          0\n",
              "review_comment_title             104962\n",
              "review_comment_message            67901\n",
              "review_creation_date                  0\n",
              "review_answer_timestamp               0\n",
              "payment_sequential                    3\n",
              "payment_type                          3\n",
              "payment_installments                  3\n",
              "payment_value                         3\n",
              "order_item_id                       833\n",
              "product_id                          833\n",
              "seller_id                           833\n",
              "shipping_limit_date                 833\n",
              "price                               833\n",
              "freight_value                       833\n",
              "seller_zip_code_prefix              833\n",
              "seller_city                         833\n",
              "seller_state                        833\n",
              "product_category_name              2542\n",
              "product_name_lenght                2542\n",
              "product_description_lenght         2542\n",
              "product_photos_qty                 2542\n",
              "product_weight_g                    853\n",
              "product_length_cm                   853\n",
              "product_height_cm                   853\n",
              "product_width_cm                    853\n",
              "customer_unique_id                    0\n",
              "customer_zip_code_prefix              0\n",
              "customer_city                         0\n",
              "customer_state                        0\n",
              "dtype: int64"
            ]
          },
          "metadata": {
            "tags": []
          },
          "execution_count": 59
        }
      ]
    },
    {
      "cell_type": "code",
      "metadata": {
        "_kg_hide-input": true,
        "execution": {
          "iopub.execute_input": "2020-09-16T04:40:46.547800Z",
          "iopub.status.busy": "2020-09-16T04:40:46.546503Z",
          "iopub.status.idle": "2020-09-16T04:40:46.754577Z",
          "shell.execute_reply": "2020-09-16T04:40:46.753709Z"
        },
        "papermill": {
          "duration": 0.282294,
          "end_time": "2020-09-16T04:40:46.754730",
          "exception": false,
          "start_time": "2020-09-16T04:40:46.472436",
          "status": "completed"
        },
        "tags": [],
        "id": "2v1GcNj4K7AU"
      },
      "source": [
        "df.drop(['review_comment_title','review_comment_message', 'review_creation_date','review_answer_timestamp', 'shipping_limit_date', 'product_weight_g',\n",
        "       'product_length_cm', 'product_height_cm', 'product_width_cm', 'order_delivered_carrier_date',\n",
        "       'order_delivered_customer_date', 'order_estimated_delivery_date',\n",
        "       'order_approved_at'], axis=1, inplace = True)"
      ],
      "execution_count": 60,
      "outputs": []
    },
    {
      "cell_type": "code",
      "metadata": {
        "execution": {
          "iopub.execute_input": "2020-09-16T04:40:46.883332Z",
          "iopub.status.busy": "2020-09-16T04:40:46.882433Z",
          "iopub.status.idle": "2020-09-16T04:40:51.451351Z",
          "shell.execute_reply": "2020-09-16T04:40:51.452002Z"
        },
        "papermill": {
          "duration": 4.635862,
          "end_time": "2020-09-16T04:40:51.452171",
          "exception": false,
          "start_time": "2020-09-16T04:40:46.816309",
          "status": "completed"
        },
        "tags": [],
        "colab": {
          "base_uri": "https://localhost:8080/",
          "height": 685
        },
        "id": "FuQlL08qK7AU",
        "outputId": "bdf0ab2a-688a-4794-956a-6ff301205913"
      },
      "source": [
        "plt.figure(figsize=(16,9))\n",
        "sns.heatmap(df.isna(), cmap=\"viridis\")"
      ],
      "execution_count": 61,
      "outputs": [
        {
          "output_type": "execute_result",
          "data": {
            "text/plain": [
              "<matplotlib.axes._subplots.AxesSubplot at 0x7f201955f0b8>"
            ]
          },
          "metadata": {
            "tags": []
          },
          "execution_count": 61
        },
        {
          "output_type": "display_data",
          "data": {
            "image/png": "[encoded data removed]",
            "text/plain": [
              "<Figure size 1152x648 with 2 Axes>"
            ]
          },
          "metadata": {
            "tags": [],
            "needs_background": "light"
          }
        }
      ]
    },
    {
      "cell_type": "code",
      "metadata": {
        "_kg_hide-input": true,
        "execution": {
          "iopub.execute_input": "2020-09-16T04:40:51.597513Z",
          "iopub.status.busy": "2020-09-16T04:40:51.590280Z",
          "iopub.status.idle": "2020-09-16T04:40:52.256818Z",
          "shell.execute_reply": "2020-09-16T04:40:52.256110Z"
        },
        "papermill": {
          "duration": 0.739599,
          "end_time": "2020-09-16T04:40:52.256949",
          "exception": false,
          "start_time": "2020-09-16T04:40:51.517350",
          "status": "completed"
        },
        "tags": [],
        "id": "okzoDI7QK7AV"
      },
      "source": [
        "df.drop_duplicates(inplace=True)"
      ],
      "execution_count": 64,
      "outputs": []
    },
    {
      "cell_type": "code",
      "metadata": {
        "_kg_hide-input": true,
        "execution": {
          "iopub.execute_input": "2020-09-16T04:40:52.409488Z",
          "iopub.status.busy": "2020-09-16T04:40:52.408673Z",
          "iopub.status.idle": "2020-09-16T04:40:52.414280Z",
          "shell.execute_reply": "2020-09-16T04:40:52.414932Z"
        },
        "papermill": {
          "duration": 0.09442,
          "end_time": "2020-09-16T04:40:52.415095",
          "exception": false,
          "start_time": "2020-09-16T04:40:52.320675",
          "status": "completed"
        },
        "tags": [],
        "id": "F8gFbtD8K7AV"
      },
      "source": [
        "values = {'product_category_name': 0, 'product_name_lenght': 0, 'product_description_lenght': 0, 'product_photos_qty': 0}\n",
        "df.fillna(value=values, inplace=True)"
      ],
      "execution_count": 65,
      "outputs": []
    },
    {
      "cell_type": "code",
      "metadata": {
        "execution": {
          "iopub.execute_input": "2020-09-16T04:40:52.575256Z",
          "iopub.status.busy": "2020-09-16T04:40:52.574113Z",
          "iopub.status.idle": "2020-09-16T04:40:52.580062Z",
          "shell.execute_reply": "2020-09-16T04:40:52.579315Z"
        },
        "papermill": {
          "duration": 0.096753,
          "end_time": "2020-09-16T04:40:52.580199",
          "exception": false,
          "start_time": "2020-09-16T04:40:52.483446",
          "status": "completed"
        },
        "tags": [],
        "id": "5KrXgExkK7AV"
      },
      "source": [
        "df_canc = df[df['order_status'] == 'canceled']"
      ],
      "execution_count": 66,
      "outputs": []
    },
    {
      "cell_type": "code",
      "metadata": {
        "execution": {
          "iopub.execute_input": "2020-09-16T04:40:52.740017Z",
          "iopub.status.busy": "2020-09-16T04:40:52.738841Z",
          "iopub.status.idle": "2020-09-16T04:40:52.745071Z",
          "shell.execute_reply": "2020-09-16T04:40:52.744301Z"
        },
        "papermill": {
          "duration": 0.098199,
          "end_time": "2020-09-16T04:40:52.745205",
          "exception": false,
          "start_time": "2020-09-16T04:40:52.647006",
          "status": "completed"
        },
        "tags": [],
        "id": "EWSTLXzkK7AV"
      },
      "source": [
        "df_unavailable = df[df['order_status'] == 'unavailable']"
      ],
      "execution_count": 67,
      "outputs": []
    },
    {
      "cell_type": "markdown",
      "metadata": {
        "papermill": {
          "duration": 0.064123,
          "end_time": "2020-09-16T04:40:52.873550",
          "exception": false,
          "start_time": "2020-09-16T04:40:52.809427",
          "status": "completed"
        },
        "tags": [],
        "id": "QXT0ei00K7AV"
      },
      "source": [
        "Understandably, most of our missing information belongs to the 'unavailable' and 'cancelled' orders."
      ]
    },
    {
      "cell_type": "code",
      "metadata": {
        "execution": {
          "iopub.execute_input": "2020-09-16T04:40:53.008523Z",
          "iopub.status.busy": "2020-09-16T04:40:53.007409Z",
          "iopub.status.idle": "2020-09-16T04:40:53.021064Z",
          "shell.execute_reply": "2020-09-16T04:40:53.020301Z"
        },
        "papermill": {
          "duration": 0.084486,
          "end_time": "2020-09-16T04:40:53.021193",
          "exception": false,
          "start_time": "2020-09-16T04:40:52.936707",
          "status": "completed"
        },
        "tags": [],
        "colab": {
          "base_uri": "https://localhost:8080/",
          "height": 202
        },
        "id": "88RD5HYiK7AV",
        "outputId": "311e67f6-ec64-4d3d-fdec-f7dcf38854cb"
      },
      "source": [
        "pd.DataFrame(df[df['order_item_id'].isna()]['order_status'].value_counts())"
      ],
      "execution_count": 68,
      "outputs": [
        {
          "output_type": "execute_result",
          "data": {
            "text/html": [
              "<div>\n",
              "<style scoped>\n",
              "    .dataframe tbody tr th:only-of-type {\n",
              "        vertical-align: middle;\n",
              "    }\n",
              "\n",
              "    .dataframe tbody tr th {\n",
              "        vertical-align: top;\n",
              "    }\n",
              "\n",
              "    .dataframe thead th {\n",
              "        text-align: right;\n",
              "    }\n",
              "</style>\n",
              "<table border=\"1\" class=\"dataframe\">\n",
              "  <thead>\n",
              "    <tr style=\"text-align: right;\">\n",
              "      <th></th>\n",
              "      <th>order_status</th>\n",
              "    </tr>\n",
              "  </thead>\n",
              "  <tbody>\n",
              "    <tr>\n",
              "      <th>unavailable</th>\n",
              "      <td>645</td>\n",
              "    </tr>\n",
              "    <tr>\n",
              "      <th>canceled</th>\n",
              "      <td>180</td>\n",
              "    </tr>\n",
              "    <tr>\n",
              "      <th>created</th>\n",
              "      <td>5</td>\n",
              "    </tr>\n",
              "    <tr>\n",
              "      <th>invoiced</th>\n",
              "      <td>2</td>\n",
              "    </tr>\n",
              "    <tr>\n",
              "      <th>shipped</th>\n",
              "      <td>1</td>\n",
              "    </tr>\n",
              "  </tbody>\n",
              "</table>\n",
              "</div>"
            ],
            "text/plain": [
              "             order_status\n",
              "unavailable           645\n",
              "canceled              180\n",
              "created                 5\n",
              "invoiced                2\n",
              "shipped                 1"
            ]
          },
          "metadata": {
            "tags": []
          },
          "execution_count": 68
        }
      ]
    },
    {
      "cell_type": "code",
      "metadata": {
        "_kg_hide-input": true,
        "execution": {
          "iopub.execute_input": "2020-09-16T04:40:53.162090Z",
          "iopub.status.busy": "2020-09-16T04:40:53.160945Z",
          "iopub.status.idle": "2020-09-16T04:40:53.240872Z",
          "shell.execute_reply": "2020-09-16T04:40:53.239818Z"
        },
        "papermill": {
          "duration": 0.155165,
          "end_time": "2020-09-16T04:40:53.241060",
          "exception": false,
          "start_time": "2020-09-16T04:40:53.085895",
          "status": "completed"
        },
        "tags": [],
        "id": "SKcJdZ4HK7AW"
      },
      "source": [
        "df.dropna(subset=['order_item_id'], inplace=True)"
      ],
      "execution_count": 69,
      "outputs": []
    },
    {
      "cell_type": "code",
      "metadata": {
        "_kg_hide-input": true,
        "execution": {
          "iopub.execute_input": "2020-09-16T04:40:53.381901Z",
          "iopub.status.busy": "2020-09-16T04:40:53.380890Z",
          "iopub.status.idle": "2020-09-16T04:40:53.428535Z",
          "shell.execute_reply": "2020-09-16T04:40:53.427763Z"
        },
        "papermill": {
          "duration": 0.11951,
          "end_time": "2020-09-16T04:40:53.428673",
          "exception": false,
          "start_time": "2020-09-16T04:40:53.309163",
          "status": "completed"
        },
        "tags": [],
        "id": "U20qMEFjK7AW"
      },
      "source": [
        "df.dropna(subset=['payment_sequential'], inplace=True)"
      ],
      "execution_count": 70,
      "outputs": []
    },
    {
      "cell_type": "code",
      "metadata": {
        "_kg_hide-output": true,
        "execution": {
          "iopub.execute_input": "2020-09-16T04:40:53.805049Z",
          "iopub.status.busy": "2020-09-16T04:40:53.804006Z",
          "iopub.status.idle": "2020-09-16T04:40:53.838803Z",
          "shell.execute_reply": "2020-09-16T04:40:53.837957Z"
        },
        "papermill": {
          "duration": 0.345519,
          "end_time": "2020-09-16T04:40:53.838938",
          "exception": false,
          "start_time": "2020-09-16T04:40:53.493419",
          "status": "completed"
        },
        "tags": [],
        "colab": {
          "base_uri": "https://localhost:8080/"
        },
        "id": "NkwaIG8MK7AW",
        "outputId": "38ae99d6-82d8-4680-be28-34f9551438a4"
      },
      "source": [
        "df.info()"
      ],
      "execution_count": 71,
      "outputs": [
        {
          "output_type": "stream",
          "text": [
            "<class 'pandas.core.frame.DataFrame'>\n",
            "Int64Index: 118315 entries, 0 to 119150\n",
            "Data columns (total 26 columns):\n",
            " #   Column                      Non-Null Count   Dtype  \n",
            "---  ------                      --------------   -----  \n",
            " 0   order_id                    118315 non-null  object \n",
            " 1   customer_id                 118315 non-null  object \n",
            " 2   order_status                118315 non-null  object \n",
            " 3   order_purchase_timestamp    118315 non-null  object \n",
            " 4   review_id                   118315 non-null  object \n",
            " 5   review_score                118315 non-null  int64  \n",
            " 6   payment_sequential          118315 non-null  float64\n",
            " 7   payment_type                118315 non-null  object \n",
            " 8   payment_installments        118315 non-null  float64\n",
            " 9   payment_value               118315 non-null  float64\n",
            " 10  order_item_id               118315 non-null  float64\n",
            " 11  product_id                  118315 non-null  object \n",
            " 12  seller_id                   118315 non-null  object \n",
            " 13  price                       118315 non-null  float64\n",
            " 14  freight_value               118315 non-null  float64\n",
            " 15  seller_zip_code_prefix      118315 non-null  float64\n",
            " 16  seller_city                 118315 non-null  object \n",
            " 17  seller_state                118315 non-null  object \n",
            " 18  product_category_name       118315 non-null  object \n",
            " 19  product_name_lenght         118315 non-null  float64\n",
            " 20  product_description_lenght  118315 non-null  float64\n",
            " 21  product_photos_qty          118315 non-null  float64\n",
            " 22  customer_unique_id          118315 non-null  object \n",
            " 23  customer_zip_code_prefix    118315 non-null  int64  \n",
            " 24  customer_city               118315 non-null  object \n",
            " 25  customer_state              118315 non-null  object \n",
            "dtypes: float64(10), int64(2), object(14)\n",
            "memory usage: 24.4+ MB\n"
          ],
          "name": "stdout"
        }
      ]
    },
    {
      "cell_type": "code",
      "metadata": {
        "execution": {
          "iopub.execute_input": "2020-09-16T04:40:53.975015Z",
          "iopub.status.busy": "2020-09-16T04:40:53.973991Z",
          "iopub.status.idle": "2020-09-16T04:40:53.977405Z",
          "shell.execute_reply": "2020-09-16T04:40:53.976788Z"
        },
        "papermill": {
          "duration": 0.072387,
          "end_time": "2020-09-16T04:40:53.977540",
          "exception": false,
          "start_time": "2020-09-16T04:40:53.905153",
          "status": "completed"
        },
        "tags": [],
        "id": "JMuurCqOK7AW"
      },
      "source": [
        "#df.to_csv('final_olist.csv', index = False, sep=',', encoding='utf-8')"
      ],
      "execution_count": 72,
      "outputs": []
    },
    {
      "cell_type": "markdown",
      "metadata": {
        "papermill": {
          "duration": 0.065341,
          "end_time": "2020-09-16T04:40:54.107642",
          "exception": false,
          "start_time": "2020-09-16T04:40:54.042301",
          "status": "completed"
        },
        "tags": [],
        "id": "7YraO2HAK7AW"
      },
      "source": [
        "<img src=\"http://vernonfernandes.net/assets/3.png\" width=\"100%\">"
      ]
    },
    {
      "cell_type": "code",
      "metadata": {
        "execution": {
          "iopub.execute_input": "2020-09-16T04:40:54.250858Z",
          "iopub.status.busy": "2020-09-16T04:40:54.249652Z",
          "iopub.status.idle": "2020-09-16T04:40:54.540153Z",
          "shell.execute_reply": "2020-09-16T04:40:54.539387Z"
        },
        "papermill": {
          "duration": 0.365884,
          "end_time": "2020-09-16T04:40:54.540321",
          "exception": false,
          "start_time": "2020-09-16T04:40:54.174437",
          "status": "completed"
        },
        "tags": [],
        "colab": {
          "base_uri": "https://localhost:8080/",
          "height": 446
        },
        "id": "GLge1E6ZK7AW",
        "outputId": "779f3bca-83d1-4b16-c895-f0bec57d46a5"
      },
      "source": [
        "#1. Frequency of purchases per customer.\n",
        "pd.DataFrame(df.groupby(['customer_id'])['order_id'].count().sort_values(ascending = False))"
      ],
      "execution_count": 73,
      "outputs": [
        {
          "output_type": "execute_result",
          "data": {
            "text/html": [
              "<div>\n",
              "<style scoped>\n",
              "    .dataframe tbody tr th:only-of-type {\n",
              "        vertical-align: middle;\n",
              "    }\n",
              "\n",
              "    .dataframe tbody tr th {\n",
              "        vertical-align: top;\n",
              "    }\n",
              "\n",
              "    .dataframe thead th {\n",
              "        text-align: right;\n",
              "    }\n",
              "</style>\n",
              "<table border=\"1\" class=\"dataframe\">\n",
              "  <thead>\n",
              "    <tr style=\"text-align: right;\">\n",
              "      <th></th>\n",
              "      <th>order_id</th>\n",
              "    </tr>\n",
              "    <tr>\n",
              "      <th>customer_id</th>\n",
              "      <th></th>\n",
              "    </tr>\n",
              "  </thead>\n",
              "  <tbody>\n",
              "    <tr>\n",
              "      <th>270c23a11d024a44c896d1894b261a83</th>\n",
              "      <td>63</td>\n",
              "    </tr>\n",
              "    <tr>\n",
              "      <th>13aa59158da63ba0e93ec6ac2c07aacb</th>\n",
              "      <td>38</td>\n",
              "    </tr>\n",
              "    <tr>\n",
              "      <th>9af2372a1e49340278e7c1ef8d749f34</th>\n",
              "      <td>29</td>\n",
              "    </tr>\n",
              "    <tr>\n",
              "      <th>92cd3ec6e2d643d4ebd0e3d6238f69e2</th>\n",
              "      <td>26</td>\n",
              "    </tr>\n",
              "    <tr>\n",
              "      <th>d22f25a9fadfb1abbc2e29395b1239f4</th>\n",
              "      <td>24</td>\n",
              "    </tr>\n",
              "    <tr>\n",
              "      <th>...</th>\n",
              "      <td>...</td>\n",
              "    </tr>\n",
              "    <tr>\n",
              "      <th>a4a0c32813e4d6b4f6dd95dd11dc62f1</th>\n",
              "      <td>1</td>\n",
              "    </tr>\n",
              "    <tr>\n",
              "      <th>a4a31639efca4450f58e07417152b15e</th>\n",
              "      <td>1</td>\n",
              "    </tr>\n",
              "    <tr>\n",
              "      <th>a4a4bc6742b800e480f8e5f1e8cc1100</th>\n",
              "      <td>1</td>\n",
              "    </tr>\n",
              "    <tr>\n",
              "      <th>a4a5f407999f3fdea0c1cd239a9df7fb</th>\n",
              "      <td>1</td>\n",
              "    </tr>\n",
              "    <tr>\n",
              "      <th>00012a2ce6f8dcda20d059ce98491703</th>\n",
              "      <td>1</td>\n",
              "    </tr>\n",
              "  </tbody>\n",
              "</table>\n",
              "<p>98665 rows × 1 columns</p>\n",
              "</div>"
            ],
            "text/plain": [
              "                                  order_id\n",
              "customer_id                               \n",
              "270c23a11d024a44c896d1894b261a83        63\n",
              "13aa59158da63ba0e93ec6ac2c07aacb        38\n",
              "9af2372a1e49340278e7c1ef8d749f34        29\n",
              "92cd3ec6e2d643d4ebd0e3d6238f69e2        26\n",
              "d22f25a9fadfb1abbc2e29395b1239f4        24\n",
              "...                                    ...\n",
              "a4a0c32813e4d6b4f6dd95dd11dc62f1         1\n",
              "a4a31639efca4450f58e07417152b15e         1\n",
              "a4a4bc6742b800e480f8e5f1e8cc1100         1\n",
              "a4a5f407999f3fdea0c1cd239a9df7fb         1\n",
              "00012a2ce6f8dcda20d059ce98491703         1\n",
              "\n",
              "[98665 rows x 1 columns]"
            ]
          },
          "metadata": {
            "tags": []
          },
          "execution_count": 73
        }
      ]
    },
    {
      "cell_type": "code",
      "metadata": {
        "execution": {
          "iopub.execute_input": "2020-09-16T04:40:54.746575Z",
          "iopub.status.busy": "2020-09-16T04:40:54.745486Z",
          "iopub.status.idle": "2020-09-16T04:40:54.772968Z",
          "shell.execute_reply": "2020-09-16T04:40:54.771823Z"
        },
        "papermill": {
          "duration": 0.162767,
          "end_time": "2020-09-16T04:40:54.773162",
          "exception": false,
          "start_time": "2020-09-16T04:40:54.610395",
          "status": "completed"
        },
        "tags": [],
        "id": "g7CcPXnXK7AX"
      },
      "source": [
        "#2. Time series analysis of orders. Use of DateTime library in python to separate date and time from the necessary columns.\n",
        "df['order_purchase_timestamp'] = pd.to_datetime(df['order_purchase_timestamp'])"
      ],
      "execution_count": 74,
      "outputs": []
    },
    {
      "cell_type": "code",
      "metadata": {
        "execution": {
          "iopub.execute_input": "2020-09-16T04:40:54.937010Z",
          "iopub.status.busy": "2020-09-16T04:40:54.935980Z",
          "iopub.status.idle": "2020-09-16T04:40:55.001005Z",
          "shell.execute_reply": "2020-09-16T04:40:55.000161Z"
        },
        "papermill": {
          "duration": 0.141271,
          "end_time": "2020-09-16T04:40:55.001136",
          "exception": false,
          "start_time": "2020-09-16T04:40:54.859865",
          "status": "completed"
        },
        "tags": [],
        "id": "o2DASM6jK7AX"
      },
      "source": [
        "df['year_of_purchase'] = pd.DatetimeIndex(df['order_purchase_timestamp']).year\n",
        "df['month_of_purchase'] = pd.DatetimeIndex(df['order_purchase_timestamp']).month\n",
        "df['date_of_purchase'] = pd.DatetimeIndex(df['order_purchase_timestamp']).day\n",
        "df['time_of_purchase'] = pd.DatetimeIndex(df['order_purchase_timestamp']).hour"
      ],
      "execution_count": 75,
      "outputs": []
    },
    {
      "cell_type": "code",
      "metadata": {
        "execution": {
          "iopub.execute_input": "2020-09-16T04:40:55.142501Z",
          "iopub.status.busy": "2020-09-16T04:40:55.141184Z",
          "iopub.status.idle": "2020-09-16T04:40:55.148340Z",
          "shell.execute_reply": "2020-09-16T04:40:55.148958Z"
        },
        "papermill": {
          "duration": 0.081785,
          "end_time": "2020-09-16T04:40:55.149131",
          "exception": false,
          "start_time": "2020-09-16T04:40:55.067346",
          "status": "completed"
        },
        "tags": [],
        "id": "6N-LjomQK7AX"
      },
      "source": [
        "monthly_orders = pd.DataFrame(df.groupby(['month_of_purchase'])['month_of_purchase'].count())"
      ],
      "execution_count": 76,
      "outputs": []
    },
    {
      "cell_type": "code",
      "metadata": {
        "_kg_hide-input": true,
        "execution": {
          "iopub.execute_input": "2020-09-16T04:40:55.298129Z",
          "iopub.status.busy": "2020-09-16T04:40:55.297074Z",
          "iopub.status.idle": "2020-09-16T04:40:55.300645Z",
          "shell.execute_reply": "2020-09-16T04:40:55.299413Z"
        },
        "papermill": {
          "duration": 0.083191,
          "end_time": "2020-09-16T04:40:55.300843",
          "exception": false,
          "start_time": "2020-09-16T04:40:55.217652",
          "status": "completed"
        },
        "tags": [],
        "id": "YOuV5znhK7AX"
      },
      "source": [
        "monthly_orders = monthly_orders.rename(index={1: 'January', 2: 'February', 3: 'March', 4: 'April', 5:'May', 6:'June', 7:'July',8:'August', 9:'September', 10:'October', 11:'November', 12:'December'})"
      ],
      "execution_count": 77,
      "outputs": []
    },
    {
      "cell_type": "code",
      "metadata": {
        "execution": {
          "iopub.execute_input": "2020-09-16T04:40:55.471249Z",
          "iopub.status.busy": "2020-09-16T04:40:55.470141Z",
          "iopub.status.idle": "2020-09-16T04:40:55.475762Z",
          "shell.execute_reply": "2020-09-16T04:40:55.475103Z"
        },
        "papermill": {
          "duration": 0.082121,
          "end_time": "2020-09-16T04:40:55.475902",
          "exception": false,
          "start_time": "2020-09-16T04:40:55.393781",
          "status": "completed"
        },
        "tags": [],
        "colab": {
          "base_uri": "https://localhost:8080/",
          "height": 447
        },
        "id": "N3KRzs6hK7AX",
        "outputId": "a162b2e9-910d-4b35-bca5-3f3828633699"
      },
      "source": [
        "monthly_orders"
      ],
      "execution_count": 78,
      "outputs": [
        {
          "output_type": "execute_result",
          "data": {
            "text/html": [
              "<div>\n",
              "<style scoped>\n",
              "    .dataframe tbody tr th:only-of-type {\n",
              "        vertical-align: middle;\n",
              "    }\n",
              "\n",
              "    .dataframe tbody tr th {\n",
              "        vertical-align: top;\n",
              "    }\n",
              "\n",
              "    .dataframe thead th {\n",
              "        text-align: right;\n",
              "    }\n",
              "</style>\n",
              "<table border=\"1\" class=\"dataframe\">\n",
              "  <thead>\n",
              "    <tr style=\"text-align: right;\">\n",
              "      <th></th>\n",
              "      <th>month_of_purchase</th>\n",
              "    </tr>\n",
              "    <tr>\n",
              "      <th>month_of_purchase</th>\n",
              "      <th></th>\n",
              "    </tr>\n",
              "  </thead>\n",
              "  <tbody>\n",
              "    <tr>\n",
              "      <th>January</th>\n",
              "      <td>9626</td>\n",
              "    </tr>\n",
              "    <tr>\n",
              "      <th>February</th>\n",
              "      <td>10098</td>\n",
              "    </tr>\n",
              "    <tr>\n",
              "      <th>March</th>\n",
              "      <td>11793</td>\n",
              "    </tr>\n",
              "    <tr>\n",
              "      <th>April</th>\n",
              "      <td>11137</td>\n",
              "    </tr>\n",
              "    <tr>\n",
              "      <th>May</th>\n",
              "      <td>12676</td>\n",
              "    </tr>\n",
              "    <tr>\n",
              "      <th>June</th>\n",
              "      <td>11218</td>\n",
              "    </tr>\n",
              "    <tr>\n",
              "      <th>July</th>\n",
              "      <td>12243</td>\n",
              "    </tr>\n",
              "    <tr>\n",
              "      <th>August</th>\n",
              "      <td>12688</td>\n",
              "    </tr>\n",
              "    <tr>\n",
              "      <th>September</th>\n",
              "      <td>5141</td>\n",
              "    </tr>\n",
              "    <tr>\n",
              "      <th>October</th>\n",
              "      <td>6003</td>\n",
              "    </tr>\n",
              "    <tr>\n",
              "      <th>November</th>\n",
              "      <td>9096</td>\n",
              "    </tr>\n",
              "    <tr>\n",
              "      <th>December</th>\n",
              "      <td>6596</td>\n",
              "    </tr>\n",
              "  </tbody>\n",
              "</table>\n",
              "</div>"
            ],
            "text/plain": [
              "                   month_of_purchase\n",
              "month_of_purchase                   \n",
              "January                         9626\n",
              "February                       10098\n",
              "March                          11793\n",
              "April                          11137\n",
              "May                            12676\n",
              "June                           11218\n",
              "July                           12243\n",
              "August                         12688\n",
              "September                       5141\n",
              "October                         6003\n",
              "November                        9096\n",
              "December                        6596"
            ]
          },
          "metadata": {
            "tags": []
          },
          "execution_count": 78
        }
      ]
    },
    {
      "cell_type": "code",
      "metadata": {
        "execution": {
          "iopub.execute_input": "2020-09-16T04:40:55.623038Z",
          "iopub.status.busy": "2020-09-16T04:40:55.622208Z",
          "iopub.status.idle": "2020-09-16T04:40:55.853655Z",
          "shell.execute_reply": "2020-09-16T04:40:55.853023Z"
        },
        "papermill": {
          "duration": 0.309129,
          "end_time": "2020-09-16T04:40:55.853798",
          "exception": false,
          "start_time": "2020-09-16T04:40:55.544669",
          "status": "completed"
        },
        "tags": [],
        "colab": {
          "base_uri": "https://localhost:8080/",
          "height": 542
        },
        "id": "UpxlhVrjK7AY",
        "outputId": "4cc618c6-ef38-45cc-b73c-f29ff794f618"
      },
      "source": [
        "fig = go.Figure(data=go.Scatter(x=monthly_orders.index,\n",
        "                                y=monthly_orders['month_of_purchase'],\n",
        "                                mode='lines+markers')) # hover text goes here\n",
        "fig.update_layout(title='Months With Most Orders',xaxis_title=\"Month\",yaxis_title=\"Number of Orders\")\n",
        "fig.update_yaxes(type=\"log\")\n",
        "fig.show()"
      ],
      "execution_count": 79,
      "outputs": [
        {
          "output_type": "display_data",
          "data": {
            "text/html": [
              "<html>\n",
              "<head><meta charset=\"utf-8\" /></head>\n",
              "<body>\n",
              "    <div>\n",
              "            <script src=\"https://cdnjs.cloudflare.com/ajax/libs/mathjax/2.7.5/MathJax.js?config=TeX-AMS-MML_SVG\"></script><script type=\"text/javascript\">if (window.MathJax) {MathJax.Hub.Config({SVG: {font: \"STIX-Web\"}});}</script>\n",
              "                <script type=\"text/javascript\">window.PlotlyConfig = {MathJaxConfig: 'local'};</script>\n",
              "        <script src=\"https://cdn.plot.ly/plotly-latest.min.js\"></script>    \n",
              "            <div id=\"be307ebe-7b6d-40ab-9195-b297216ebb86\" class=\"plotly-graph-div\" style=\"height:525px; width:100%;\"></div>\n",
              "            <script type=\"text/javascript\">\n",
              "                \n",
              "                    window.PLOTLYENV=window.PLOTLYENV || {};\n",
              "                    \n",
              "                if (document.getElementById(\"be307ebe-7b6d-40ab-9195-b297216ebb86\")) {\n",
              "                    Plotly.newPlot(\n",
              "                        'be307ebe-7b6d-40ab-9195-b297216ebb86',\n",
              "                        [{\"mode\": \"lines+markers\", \"type\": \"scatter\", \"x\": [\"January\", \"February\", \"March\", \"April\", \"May\", \"June\", \"July\", \"August\", \"September\", \"October\", \"November\", \"December\"], \"y\": [9626, 10098, 11793, 11137, 12676, 11218, 12243, 12688, 5141, 6003, 9096, 6596]}],\n",
              "                        {\"template\": {\"data\": {\"bar\": [{\"error_x\": {\"color\": \"#2a3f5f\"}, \"error_y\": {\"color\": \"#2a3f5f\"}, \"marker\": {\"line\": {\"color\": \"#E5ECF6\", \"width\": 0.5}}, \"type\": \"bar\"}], \"barpolar\": [{\"marker\": {\"line\": {\"color\": \"#E5ECF6\", \"width\": 0.5}}, \"type\": \"barpolar\"}], \"carpet\": [{\"aaxis\": {\"endlinecolor\": \"#2a3f5f\", \"gridcolor\": \"white\", \"linecolor\": \"white\", \"minorgridcolor\": \"white\", \"startlinecolor\": \"#2a3f5f\"}, \"baxis\": {\"endlinecolor\": \"#2a3f5f\", \"gridcolor\": \"white\", \"linecolor\": \"white\", \"minorgridcolor\": \"white\", \"startlinecolor\": \"#2a3f5f\"}, \"type\": \"carpet\"}], \"choropleth\": [{\"colorbar\": {\"outlinewidth\": 0, \"ticks\": \"\"}, \"type\": \"choropleth\"}], \"contour\": [{\"colorbar\": {\"outlinewidth\": 0, \"ticks\": \"\"}, \"colorscale\": [[0.0, \"#0d0887\"], [0.1111111111111111, \"#46039f\"], [0.2222222222222222, \"#7201a8\"], [0.3333333333333333, \"#9c179e\"], [0.4444444444444444, \"#bd3786\"], [0.5555555555555556, \"#d8576b\"], [0.6666666666666666, \"#ed7953\"], [0.7777777777777778, \"#fb9f3a\"], [0.8888888888888888, \"#fdca26\"], [1.0, \"#f0f921\"]], \"type\": \"contour\"}], \"contourcarpet\": [{\"colorbar\": {\"outlinewidth\": 0, \"ticks\": \"\"}, \"type\": \"contourcarpet\"}], \"heatmap\": [{\"colorbar\": {\"outlinewidth\": 0, \"ticks\": \"\"}, \"colorscale\": [[0.0, \"#0d0887\"], [0.1111111111111111, \"#46039f\"], [0.2222222222222222, \"#7201a8\"], [0.3333333333333333, \"#9c179e\"], [0.4444444444444444, \"#bd3786\"], [0.5555555555555556, \"#d8576b\"], [0.6666666666666666, \"#ed7953\"], [0.7777777777777778, \"#fb9f3a\"], [0.8888888888888888, \"#fdca26\"], [1.0, \"#f0f921\"]], \"type\": \"heatmap\"}], \"heatmapgl\": [{\"colorbar\": {\"outlinewidth\": 0, \"ticks\": \"\"}, \"colorscale\": [[0.0, \"#0d0887\"], [0.1111111111111111, \"#46039f\"], [0.2222222222222222, \"#7201a8\"], [0.3333333333333333, \"#9c179e\"], [0.4444444444444444, \"#bd3786\"], [0.5555555555555556, \"#d8576b\"], [0.6666666666666666, \"#ed7953\"], [0.7777777777777778, \"#fb9f3a\"], [0.8888888888888888, \"#fdca26\"], [1.0, \"#f0f921\"]], \"type\": \"heatmapgl\"}], \"histogram\": [{\"marker\": {\"colorbar\": {\"outlinewidth\": 0, \"ticks\": \"\"}}, \"type\": \"histogram\"}], \"histogram2d\": [{\"colorbar\": {\"outlinewidth\": 0, \"ticks\": \"\"}, \"colorscale\": [[0.0, \"#0d0887\"], [0.1111111111111111, \"#46039f\"], [0.2222222222222222, \"#7201a8\"], [0.3333333333333333, \"#9c179e\"], [0.4444444444444444, \"#bd3786\"], [0.5555555555555556, \"#d8576b\"], [0.6666666666666666, \"#ed7953\"], [0.7777777777777778, \"#fb9f3a\"], [0.8888888888888888, \"#fdca26\"], [1.0, \"#f0f921\"]], \"type\": \"histogram2d\"}], \"histogram2dcontour\": [{\"colorbar\": {\"outlinewidth\": 0, \"ticks\": \"\"}, \"colorscale\": [[0.0, \"#0d0887\"], [0.1111111111111111, \"#46039f\"], [0.2222222222222222, \"#7201a8\"], [0.3333333333333333, \"#9c179e\"], [0.4444444444444444, \"#bd3786\"], [0.5555555555555556, \"#d8576b\"], [0.6666666666666666, \"#ed7953\"], [0.7777777777777778, \"#fb9f3a\"], [0.8888888888888888, \"#fdca26\"], [1.0, \"#f0f921\"]], \"type\": \"histogram2dcontour\"}], \"mesh3d\": [{\"colorbar\": {\"outlinewidth\": 0, \"ticks\": \"\"}, \"type\": \"mesh3d\"}], \"parcoords\": [{\"line\": {\"colorbar\": {\"outlinewidth\": 0, \"ticks\": \"\"}}, \"type\": \"parcoords\"}], \"pie\": [{\"automargin\": true, \"type\": \"pie\"}], \"scatter\": [{\"marker\": {\"colorbar\": {\"outlinewidth\": 0, \"ticks\": \"\"}}, \"type\": \"scatter\"}], \"scatter3d\": [{\"line\": {\"colorbar\": {\"outlinewidth\": 0, \"ticks\": \"\"}}, \"marker\": {\"colorbar\": {\"outlinewidth\": 0, \"ticks\": \"\"}}, \"type\": \"scatter3d\"}], \"scattercarpet\": [{\"marker\": {\"colorbar\": {\"outlinewidth\": 0, \"ticks\": \"\"}}, \"type\": \"scattercarpet\"}], \"scattergeo\": [{\"marker\": {\"colorbar\": {\"outlinewidth\": 0, \"ticks\": \"\"}}, \"type\": \"scattergeo\"}], \"scattergl\": [{\"marker\": {\"colorbar\": {\"outlinewidth\": 0, \"ticks\": \"\"}}, \"type\": \"scattergl\"}], \"scattermapbox\": [{\"marker\": {\"colorbar\": {\"outlinewidth\": 0, \"ticks\": \"\"}}, \"type\": \"scattermapbox\"}], \"scatterpolar\": [{\"marker\": {\"colorbar\": {\"outlinewidth\": 0, \"ticks\": \"\"}}, \"type\": \"scatterpolar\"}], \"scatterpolargl\": [{\"marker\": {\"colorbar\": {\"outlinewidth\": 0, \"ticks\": \"\"}}, \"type\": \"scatterpolargl\"}], \"scatterternary\": [{\"marker\": {\"colorbar\": {\"outlinewidth\": 0, \"ticks\": \"\"}}, \"type\": \"scatterternary\"}], \"surface\": [{\"colorbar\": {\"outlinewidth\": 0, \"ticks\": \"\"}, \"colorscale\": [[0.0, \"#0d0887\"], [0.1111111111111111, \"#46039f\"], [0.2222222222222222, \"#7201a8\"], [0.3333333333333333, \"#9c179e\"], [0.4444444444444444, \"#bd3786\"], [0.5555555555555556, \"#d8576b\"], [0.6666666666666666, \"#ed7953\"], [0.7777777777777778, \"#fb9f3a\"], [0.8888888888888888, \"#fdca26\"], [1.0, \"#f0f921\"]], \"type\": \"surface\"}], \"table\": [{\"cells\": {\"fill\": {\"color\": \"#EBF0F8\"}, \"line\": {\"color\": \"white\"}}, \"header\": {\"fill\": {\"color\": \"#C8D4E3\"}, \"line\": {\"color\": \"white\"}}, \"type\": \"table\"}]}, \"layout\": {\"annotationdefaults\": {\"arrowcolor\": \"#2a3f5f\", \"arrowhead\": 0, \"arrowwidth\": 1}, \"coloraxis\": {\"colorbar\": {\"outlinewidth\": 0, \"ticks\": \"\"}}, \"colorscale\": {\"diverging\": [[0, \"#8e0152\"], [0.1, \"#c51b7d\"], [0.2, \"#de77ae\"], [0.3, \"#f1b6da\"], [0.4, \"#fde0ef\"], [0.5, \"#f7f7f7\"], [0.6, \"#e6f5d0\"], [0.7, \"#b8e186\"], [0.8, \"#7fbc41\"], [0.9, \"#4d9221\"], [1, \"#276419\"]], \"sequential\": [[0.0, \"#0d0887\"], [0.1111111111111111, \"#46039f\"], [0.2222222222222222, \"#7201a8\"], [0.3333333333333333, \"#9c179e\"], [0.4444444444444444, \"#bd3786\"], [0.5555555555555556, \"#d8576b\"], [0.6666666666666666, \"#ed7953\"], [0.7777777777777778, \"#fb9f3a\"], [0.8888888888888888, \"#fdca26\"], [1.0, \"#f0f921\"]], \"sequentialminus\": [[0.0, \"#0d0887\"], [0.1111111111111111, \"#46039f\"], [0.2222222222222222, \"#7201a8\"], [0.3333333333333333, \"#9c179e\"], [0.4444444444444444, \"#bd3786\"], [0.5555555555555556, \"#d8576b\"], [0.6666666666666666, \"#ed7953\"], [0.7777777777777778, \"#fb9f3a\"], [0.8888888888888888, \"#fdca26\"], [1.0, \"#f0f921\"]]}, \"colorway\": [\"#636efa\", \"#EF553B\", \"#00cc96\", \"#ab63fa\", \"#FFA15A\", \"#19d3f3\", \"#FF6692\", \"#B6E880\", \"#FF97FF\", \"#FECB52\"], \"font\": {\"color\": \"#2a3f5f\"}, \"geo\": {\"bgcolor\": \"white\", \"lakecolor\": \"white\", \"landcolor\": \"#E5ECF6\", \"showlakes\": true, \"showland\": true, \"subunitcolor\": \"white\"}, \"hoverlabel\": {\"align\": \"left\"}, \"hovermode\": \"closest\", \"mapbox\": {\"style\": \"light\"}, \"paper_bgcolor\": \"white\", \"plot_bgcolor\": \"#E5ECF6\", \"polar\": {\"angularaxis\": {\"gridcolor\": \"white\", \"linecolor\": \"white\", \"ticks\": \"\"}, \"bgcolor\": \"#E5ECF6\", \"radialaxis\": {\"gridcolor\": \"white\", \"linecolor\": \"white\", \"ticks\": \"\"}}, \"scene\": {\"xaxis\": {\"backgroundcolor\": \"#E5ECF6\", \"gridcolor\": \"white\", \"gridwidth\": 2, \"linecolor\": \"white\", \"showbackground\": true, \"ticks\": \"\", \"zerolinecolor\": \"white\"}, \"yaxis\": {\"backgroundcolor\": \"#E5ECF6\", \"gridcolor\": \"white\", \"gridwidth\": 2, \"linecolor\": \"white\", \"showbackground\": true, \"ticks\": \"\", \"zerolinecolor\": \"white\"}, \"zaxis\": {\"backgroundcolor\": \"#E5ECF6\", \"gridcolor\": \"white\", \"gridwidth\": 2, \"linecolor\": \"white\", \"showbackground\": true, \"ticks\": \"\", \"zerolinecolor\": \"white\"}}, \"shapedefaults\": {\"line\": {\"color\": \"#2a3f5f\"}}, \"ternary\": {\"aaxis\": {\"gridcolor\": \"white\", \"linecolor\": \"white\", \"ticks\": \"\"}, \"baxis\": {\"gridcolor\": \"white\", \"linecolor\": \"white\", \"ticks\": \"\"}, \"bgcolor\": \"#E5ECF6\", \"caxis\": {\"gridcolor\": \"white\", \"linecolor\": \"white\", \"ticks\": \"\"}}, \"title\": {\"x\": 0.05}, \"xaxis\": {\"automargin\": true, \"gridcolor\": \"white\", \"linecolor\": \"white\", \"ticks\": \"\", \"title\": {\"standoff\": 15}, \"zerolinecolor\": \"white\", \"zerolinewidth\": 2}, \"yaxis\": {\"automargin\": true, \"gridcolor\": \"white\", \"linecolor\": \"white\", \"ticks\": \"\", \"title\": {\"standoff\": 15}, \"zerolinecolor\": \"white\", \"zerolinewidth\": 2}}}, \"title\": {\"text\": \"Months With Most Orders\"}, \"xaxis\": {\"title\": {\"text\": \"Month\"}}, \"yaxis\": {\"title\": {\"text\": \"Number of Orders\"}, \"type\": \"log\"}},\n",
              "                        {\"responsive\": true}\n",
              "                    ).then(function(){\n",
              "                            \n",
              "var gd = document.getElementById('be307ebe-7b6d-40ab-9195-b297216ebb86');\n",
              "var x = new MutationObserver(function (mutations, observer) {{\n",
              "        var display = window.getComputedStyle(gd).display;\n",
              "        if (!display || display === 'none') {{\n",
              "            console.log([gd, 'removed!']);\n",
              "            Plotly.purge(gd);\n",
              "            observer.disconnect();\n",
              "        }}\n",
              "}});\n",
              "\n",
              "// Listen for the removal of the full notebook cells\n",
              "var notebookContainer = gd.closest('#notebook-container');\n",
              "if (notebookContainer) {{\n",
              "    x.observe(notebookContainer, {childList: true});\n",
              "}}\n",
              "\n",
              "// Listen for the clearing of the current output cell\n",
              "var outputEl = gd.closest('.output');\n",
              "if (outputEl) {{\n",
              "    x.observe(outputEl, {childList: true});\n",
              "}}\n",
              "\n",
              "                        })\n",
              "                };\n",
              "                \n",
              "            </script>\n",
              "        </div>\n",
              "</body>\n",
              "</html>"
            ]
          },
          "metadata": {
            "tags": []
          }
        }
      ]
    },
    {
      "cell_type": "code",
      "metadata": {
        "_kg_hide-input": true,
        "execution": {
          "iopub.execute_input": "2020-09-16T04:40:56.011615Z",
          "iopub.status.busy": "2020-09-16T04:40:56.001659Z",
          "iopub.status.idle": "2020-09-16T04:40:56.175376Z",
          "shell.execute_reply": "2020-09-16T04:40:56.174530Z"
        },
        "papermill": {
          "duration": 0.252637,
          "end_time": "2020-09-16T04:40:56.175518",
          "exception": false,
          "start_time": "2020-09-16T04:40:55.922881",
          "status": "completed"
        },
        "tags": [],
        "id": "Cxe4pdPtK7AY"
      },
      "source": [
        "monthly_analysis_jan = pd.DataFrame(df[df['month_of_purchase'] == 1].groupby(['date_of_purchase'])['date_of_purchase'].count())\n",
        "monthly_analysis_feb = pd.DataFrame(df[df['month_of_purchase'] == 2].groupby(['date_of_purchase'])['date_of_purchase'].count())\n",
        "monthly_analysis_mar = pd.DataFrame(df[df['month_of_purchase'] == 3].groupby(['date_of_purchase'])['date_of_purchase'].count())\n",
        "monthly_analysis_apr = pd.DataFrame(df[df['month_of_purchase'] == 4].groupby(['date_of_purchase'])['date_of_purchase'].count())\n",
        "monthly_analysis_may = pd.DataFrame(df[df['month_of_purchase'] == 5].groupby(['date_of_purchase'])['date_of_purchase'].count())\n",
        "monthly_analysis_jun = pd.DataFrame(df[df['month_of_purchase'] == 6].groupby(['date_of_purchase'])['date_of_purchase'].count())\n",
        "monthly_analysis_jul = pd.DataFrame(df[df['month_of_purchase'] == 7].groupby(['date_of_purchase'])['date_of_purchase'].count())\n",
        "monthly_analysis_aug = pd.DataFrame(df[df['month_of_purchase'] == 8].groupby(['date_of_purchase'])['date_of_purchase'].count())\n",
        "monthly_analysis_sep = pd.DataFrame(df[df['month_of_purchase'] == 9].groupby(['date_of_purchase'])['date_of_purchase'].count())\n",
        "monthly_analysis_oct = pd.DataFrame(df[df['month_of_purchase'] == 10].groupby(['date_of_purchase'])['date_of_purchase'].count())\n",
        "monthly_analysis_nov = pd.DataFrame(df[df['month_of_purchase'] == 11].groupby(['date_of_purchase'])['date_of_purchase'].count())\n",
        "monthly_analysis_dec = pd.DataFrame(df[df['month_of_purchase'] == 12].groupby(['date_of_purchase'])['date_of_purchase'].count())"
      ],
      "execution_count": 80,
      "outputs": []
    },
    {
      "cell_type": "code",
      "metadata": {
        "_kg_hide-input": true,
        "execution": {
          "iopub.execute_input": "2020-09-16T04:40:56.342802Z",
          "iopub.status.busy": "2020-09-16T04:40:56.334089Z",
          "iopub.status.idle": "2020-09-16T04:40:56.379160Z",
          "shell.execute_reply": "2020-09-16T04:40:56.378412Z"
        },
        "papermill": {
          "duration": 0.134802,
          "end_time": "2020-09-16T04:40:56.379319",
          "exception": false,
          "start_time": "2020-09-16T04:40:56.244517",
          "status": "completed"
        },
        "tags": [],
        "colab": {
          "base_uri": "https://localhost:8080/",
          "height": 542
        },
        "id": "t1SWvjzbK7AY",
        "outputId": "019d37ca-5224-4bfa-957c-af01a604329e"
      },
      "source": [
        "fig = go.Figure()\n",
        "\n",
        "fig.add_trace(go.Scatter(x=monthly_analysis_jan.index, y=monthly_analysis_jan['date_of_purchase'], name ='January',\n",
        "                         line=dict(color='blue', width=2)))\n",
        "\n",
        "fig.add_trace(go.Scatter(x=monthly_analysis_feb.index, y=monthly_analysis_feb['date_of_purchase'], name ='February',\n",
        "                         line=dict(color='yellow', width=2)))\n",
        "\n",
        "fig.add_trace(go.Scatter(x=monthly_analysis_mar.index, y=monthly_analysis_mar['date_of_purchase'], name ='March',\n",
        "                         line=dict(color='green', width=2)))\n",
        "\n",
        "fig.add_trace(go.Scatter(x=monthly_analysis_apr.index, y=monthly_analysis_apr['date_of_purchase'], name ='April',\n",
        "                         line=dict(color='red', width=2)))\n",
        "\n",
        "fig.add_trace(go.Scatter(x=monthly_analysis_may.index, y=monthly_analysis_may['date_of_purchase'], name ='May',\n",
        "                         line=dict(color='grey', width=2)))\n",
        "\n",
        "fig.add_trace(go.Scatter(x=monthly_analysis_jun.index, y=monthly_analysis_jun['date_of_purchase'], name ='June',\n",
        "                         line=dict(color='black', width=2)))\n",
        "\n",
        "fig.add_trace(go.Scatter(x=monthly_analysis_jul.index, y=monthly_analysis_jul['date_of_purchase'], name ='July',\n",
        "                         line=dict(color='purple', width=2)))\n",
        "\n",
        "fig.add_trace(go.Scatter(x=monthly_analysis_aug.index, y=monthly_analysis_aug['date_of_purchase'], name ='August', \n",
        "                         line=dict(color='violet', width=2)))\n",
        "\n",
        "fig.add_trace(go.Scatter(x=monthly_analysis_sep.index, y=monthly_analysis_sep['date_of_purchase'], name ='September', \n",
        "                         line=dict(color='royalblue', width=2)))\n",
        "\n",
        "fig.add_trace(go.Scatter(x=monthly_analysis_oct.index, y=monthly_analysis_oct['date_of_purchase'], name ='October', \n",
        "                         line=dict(color='darkblue', width=2)))\n",
        "\n",
        "fig.add_trace(go.Scatter(x=monthly_analysis_nov.index, y=monthly_analysis_nov['date_of_purchase'], name ='November', \n",
        "                         line=dict(color='darkred', width=2)))\n",
        "\n",
        "fig.add_trace(go.Scatter(x=monthly_analysis_dec.index, y=monthly_analysis_dec['date_of_purchase'], name ='December', \n",
        "                         line=dict(color='darkgreen', width=2)))\n",
        "\n",
        "fig.update_layout(title='Monthly Analysis (Double click on name in legend)',xaxis_title=\"Date\",yaxis_title=\"Number of Orders\")\n",
        "\n",
        "fig.show()"
      ],
      "execution_count": 81,
      "outputs": [
        {
          "output_type": "display_data",
          "data": {
            "text/html": [
              "<html>\n",
              "<head><meta charset=\"utf-8\" /></head>\n",
              "<body>\n",
              "    <div>\n",
              "            <script src=\"https://cdnjs.cloudflare.com/ajax/libs/mathjax/2.7.5/MathJax.js?config=TeX-AMS-MML_SVG\"></script><script type=\"text/javascript\">if (window.MathJax) {MathJax.Hub.Config({SVG: {font: \"STIX-Web\"}});}</script>\n",
              "                <script type=\"text/javascript\">window.PlotlyConfig = {MathJaxConfig: 'local'};</script>\n",
              "        <script src=\"https://cdn.plot.ly/plotly-latest.min.js\"></script>    \n",
              "            <div id=\"654c389d-3cae-430a-9eb3-89f5f5633718\" class=\"plotly-graph-div\" style=\"height:525px; width:100%;\"></div>\n",
              "            <script type=\"text/javascript\">\n",
              "                \n",
              "                    window.PLOTLYENV=window.PLOTLYENV || {};\n",
              "                    \n",
              "                if (document.getElementById(\"654c389d-3cae-430a-9eb3-89f5f5633718\")) {\n",
              "                    Plotly.newPlot(\n",
              "                        '654c389d-3cae-430a-9eb3-89f5f5633718',\n",
              "                        [{\"line\": {\"color\": \"blue\", \"width\": 2}, \"name\": \"January\", \"type\": \"scatter\", \"x\": [1, 2, 3, 4, 5, 6, 7, 8, 9, 10, 11, 12, 13, 14, 15, 16, 17, 18, 19, 20, 21, 22, 23, 24, 25, 26, 27, 28, 29, 30, 31], \"y\": [89, 252, 259, 296, 287, 280, 232, 346, 286, 331, 339, 319, 269, 282, 383, 400, 367, 324, 306, 248, 261, 407, 380, 338, 345, 386, 273, 213, 347, 396, 385]}, {\"line\": {\"color\": \"yellow\", \"width\": 2}, \"name\": \"February\", \"type\": \"scatter\", \"x\": [1, 2, 3, 4, 5, 6, 7, 8, 9, 10, 11, 12, 13, 14, 15, 16, 17, 18, 19, 20, 21, 22, 23, 24, 25, 26, 27, 28], \"y\": [354, 343, 285, 310, 412, 401, 446, 369, 334, 277, 247, 343, 362, 472, 391, 316, 284, 313, 353, 400, 373, 456, 348, 315, 325, 391, 441, 437]}, {\"line\": {\"color\": \"green\", \"width\": 2}, \"name\": \"March\", \"type\": \"scatter\", \"x\": [1, 2, 3, 4, 5, 6, 7, 8, 9, 10, 11, 12, 13, 14, 15, 16, 17, 18, 19, 20, 21, 22, 23, 24, 25, 26, 27, 28, 29, 30, 31], \"y\": [452, 401, 321, 350, 430, 436, 406, 383, 385, 325, 341, 341, 407, 363, 480, 446, 280, 332, 436, 501, 444, 435, 399, 279, 337, 406, 426, 372, 321, 285, 273]}, {\"line\": {\"color\": \"red\", \"width\": 2}, \"name\": \"April\", \"type\": \"scatter\", \"x\": [1, 2, 3, 4, 5, 6, 7, 8, 9, 10, 11, 12, 13, 14, 15, 16, 17, 18, 19, 20, 21, 22, 23, 24, 25, 26, 27, 28, 29, 30], \"y\": [311, 432, 383, 417, 425, 333, 288, 298, 374, 330, 416, 372, 309, 237, 327, 396, 400, 423, 489, 391, 266, 341, 437, 470, 452, 453, 399, 318, 287, 363]}, {\"line\": {\"color\": \"grey\", \"width\": 2}, \"name\": \"May\", \"type\": \"scatter\", \"x\": [1, 2, 3, 4, 5, 6, 7, 8, 9, 10, 11, 12, 13, 14, 15, 16, 17, 18, 19, 20, 21, 22, 23, 24, 25, 26, 27, 28, 29, 30, 31], \"y\": [441, 513, 491, 438, 361, 376, 556, 531, 571, 478, 445, 415, 337, 559, 635, 612, 436, 430, 369, 283, 413, 422, 312, 303, 265, 212, 218, 287, 379, 291, 297]}, {\"line\": {\"color\": \"black\", \"width\": 2}, \"name\": \"June\", \"type\": \"scatter\", \"x\": [1, 2, 3, 4, 5, 6, 7, 8, 9, 10, 11, 12, 13, 14, 15, 16, 17, 18, 19, 20, 21, 22, 23, 24, 25, 26, 27, 28, 29, 30], \"y\": [366, 311, 336, 378, 426, 445, 439, 408, 324, 319, 493, 470, 472, 391, 352, 297, 280, 404, 463, 378, 316, 314, 296, 304, 422, 405, 410, 428, 330, 241]}, {\"line\": {\"color\": \"purple\", \"width\": 2}, \"name\": \"July\", \"type\": \"scatter\", \"x\": [1, 2, 3, 4, 5, 6, 7, 8, 9, 10, 11, 12, 13, 14, 15, 16, 17, 18, 19, 20, 21, 22, 23, 24, 25, 26, 27, 28, 29, 30, 31], \"y\": [288, 357, 380, 442, 403, 311, 267, 244, 266, 322, 342, 316, 385, 341, 288, 421, 459, 605, 483, 493, 359, 352, 468, 503, 511, 476, 377, 371, 377, 473, 563]}, {\"line\": {\"color\": \"violet\", \"width\": 2}, \"name\": \"August\", \"type\": \"scatter\", \"x\": [1, 2, 3, 4, 5, 6, 7, 8, 9, 10, 11, 12, 13, 14, 15, 16, 17, 18, 19, 20, 21, 22, 23, 24, 25, 26, 27, 28, 29, 30, 31], \"y\": [559, 522, 532, 447, 451, 571, 636, 592, 503, 478, 395, 349, 439, 532, 550, 589, 474, 384, 366, 415, 487, 384, 326, 272, 218, 191, 225, 234, 176, 213, 178]}, {\"line\": {\"color\": \"royalblue\", \"width\": 2}, \"name\": \"September\", \"type\": \"scatter\", \"x\": [1, 2, 3, 4, 5, 6, 7, 8, 9, 10, 11, 12, 13, 14, 15, 16, 17, 18, 19, 20, 21, 22, 23, 24, 25, 26, 27, 28, 29, 30], \"y\": [197, 127, 150, 175, 208, 171, 111, 136, 122, 167, 208, 254, 236, 207, 173, 142, 143, 227, 192, 196, 179, 171, 138, 133, 160, 204, 179, 174, 137, 124]}, {\"line\": {\"color\": \"darkblue\", \"width\": 2}, \"name\": \"October\", \"type\": \"scatter\", \"x\": [1, 2, 3, 4, 5, 6, 7, 8, 9, 10, 11, 12, 13, 14, 15, 16, 17, 18, 19, 20, 21, 22, 23, 24, 25, 26, 27, 28, 29, 30, 31], \"y\": [154, 181, 236, 261, 235, 221, 172, 196, 271, 261, 189, 162, 173, 138, 144, 242, 281, 228, 201, 141, 135, 192, 206, 200, 177, 187, 167, 107, 168, 180, 197]}, {\"line\": {\"color\": \"darkred\", \"width\": 2}, \"name\": \"November\", \"type\": \"scatter\", \"x\": [1, 2, 3, 4, 5, 6, 7, 8, 9, 10, 11, 12, 13, 14, 15, 16, 17, 18, 19, 20, 21, 22, 23, 24, 25, 26, 27, 28, 29, 30], \"y\": [131, 150, 176, 142, 168, 214, 183, 210, 234, 210, 178, 190, 239, 229, 231, 280, 233, 180, 181, 270, 268, 243, 356, 1425, 639, 482, 504, 449, 384, 317]}, {\"line\": {\"color\": \"darkgreen\", \"width\": 2}, \"name\": \"December\", \"type\": \"scatter\", \"x\": [1, 2, 3, 4, 5, 6, 7, 8, 9, 10, 11, 12, 13, 14, 15, 16, 17, 18, 19, 20, 21, 22, 23, 24, 25, 26, 27, 28, 29, 30, 31], \"y\": [339, 240, 265, 373, 331, 338, 266, 263, 179, 225, 300, 309, 275, 217, 215, 153, 164, 237, 210, 204, 161, 128, 124, 66, 105, 195, 188, 161, 174, 109, 82]}],\n",
              "                        {\"template\": {\"data\": {\"bar\": [{\"error_x\": {\"color\": \"#2a3f5f\"}, \"error_y\": {\"color\": \"#2a3f5f\"}, \"marker\": {\"line\": {\"color\": \"#E5ECF6\", \"width\": 0.5}}, \"type\": \"bar\"}], \"barpolar\": [{\"marker\": {\"line\": {\"color\": \"#E5ECF6\", \"width\": 0.5}}, \"type\": \"barpolar\"}], \"carpet\": [{\"aaxis\": {\"endlinecolor\": \"#2a3f5f\", \"gridcolor\": \"white\", \"linecolor\": \"white\", \"minorgridcolor\": \"white\", \"startlinecolor\": \"#2a3f5f\"}, \"baxis\": {\"endlinecolor\": \"#2a3f5f\", \"gridcolor\": \"white\", \"linecolor\": \"white\", \"minorgridcolor\": \"white\", \"startlinecolor\": \"#2a3f5f\"}, \"type\": \"carpet\"}], \"choropleth\": [{\"colorbar\": {\"outlinewidth\": 0, \"ticks\": \"\"}, \"type\": \"choropleth\"}], \"contour\": [{\"colorbar\": {\"outlinewidth\": 0, \"ticks\": \"\"}, \"colorscale\": [[0.0, \"#0d0887\"], [0.1111111111111111, \"#46039f\"], [0.2222222222222222, \"#7201a8\"], [0.3333333333333333, \"#9c179e\"], [0.4444444444444444, \"#bd3786\"], [0.5555555555555556, \"#d8576b\"], [0.6666666666666666, \"#ed7953\"], [0.7777777777777778, \"#fb9f3a\"], [0.8888888888888888, \"#fdca26\"], [1.0, \"#f0f921\"]], \"type\": \"contour\"}], \"contourcarpet\": [{\"colorbar\": {\"outlinewidth\": 0, \"ticks\": \"\"}, \"type\": \"contourcarpet\"}], \"heatmap\": [{\"colorbar\": {\"outlinewidth\": 0, \"ticks\": \"\"}, \"colorscale\": [[0.0, \"#0d0887\"], [0.1111111111111111, \"#46039f\"], [0.2222222222222222, \"#7201a8\"], [0.3333333333333333, \"#9c179e\"], [0.4444444444444444, \"#bd3786\"], [0.5555555555555556, \"#d8576b\"], [0.6666666666666666, \"#ed7953\"], [0.7777777777777778, \"#fb9f3a\"], [0.8888888888888888, \"#fdca26\"], [1.0, \"#f0f921\"]], \"type\": \"heatmap\"}], \"heatmapgl\": [{\"colorbar\": {\"outlinewidth\": 0, \"ticks\": \"\"}, \"colorscale\": [[0.0, \"#0d0887\"], [0.1111111111111111, \"#46039f\"], [0.2222222222222222, \"#7201a8\"], [0.3333333333333333, \"#9c179e\"], [0.4444444444444444, \"#bd3786\"], [0.5555555555555556, \"#d8576b\"], [0.6666666666666666, \"#ed7953\"], [0.7777777777777778, \"#fb9f3a\"], [0.8888888888888888, \"#fdca26\"], [1.0, \"#f0f921\"]], \"type\": \"heatmapgl\"}], \"histogram\": [{\"marker\": {\"colorbar\": {\"outlinewidth\": 0, \"ticks\": \"\"}}, \"type\": \"histogram\"}], \"histogram2d\": [{\"colorbar\": {\"outlinewidth\": 0, \"ticks\": \"\"}, \"colorscale\": [[0.0, \"#0d0887\"], [0.1111111111111111, \"#46039f\"], [0.2222222222222222, \"#7201a8\"], [0.3333333333333333, \"#9c179e\"], [0.4444444444444444, \"#bd3786\"], [0.5555555555555556, \"#d8576b\"], [0.6666666666666666, \"#ed7953\"], [0.7777777777777778, \"#fb9f3a\"], [0.8888888888888888, \"#fdca26\"], [1.0, \"#f0f921\"]], \"type\": \"histogram2d\"}], \"histogram2dcontour\": [{\"colorbar\": {\"outlinewidth\": 0, \"ticks\": \"\"}, \"colorscale\": [[0.0, \"#0d0887\"], [0.1111111111111111, \"#46039f\"], [0.2222222222222222, \"#7201a8\"], [0.3333333333333333, \"#9c179e\"], [0.4444444444444444, \"#bd3786\"], [0.5555555555555556, \"#d8576b\"], [0.6666666666666666, \"#ed7953\"], [0.7777777777777778, \"#fb9f3a\"], [0.8888888888888888, \"#fdca26\"], [1.0, \"#f0f921\"]], \"type\": \"histogram2dcontour\"}], \"mesh3d\": [{\"colorbar\": {\"outlinewidth\": 0, \"ticks\": \"\"}, \"type\": \"mesh3d\"}], \"parcoords\": [{\"line\": {\"colorbar\": {\"outlinewidth\": 0, \"ticks\": \"\"}}, \"type\": \"parcoords\"}], \"pie\": [{\"automargin\": true, \"type\": \"pie\"}], \"scatter\": [{\"marker\": {\"colorbar\": {\"outlinewidth\": 0, \"ticks\": \"\"}}, \"type\": \"scatter\"}], \"scatter3d\": [{\"line\": {\"colorbar\": {\"outlinewidth\": 0, \"ticks\": \"\"}}, \"marker\": {\"colorbar\": {\"outlinewidth\": 0, \"ticks\": \"\"}}, \"type\": \"scatter3d\"}], \"scattercarpet\": [{\"marker\": {\"colorbar\": {\"outlinewidth\": 0, \"ticks\": \"\"}}, \"type\": \"scattercarpet\"}], \"scattergeo\": [{\"marker\": {\"colorbar\": {\"outlinewidth\": 0, \"ticks\": \"\"}}, \"type\": \"scattergeo\"}], \"scattergl\": [{\"marker\": {\"colorbar\": {\"outlinewidth\": 0, \"ticks\": \"\"}}, \"type\": \"scattergl\"}], \"scattermapbox\": [{\"marker\": {\"colorbar\": {\"outlinewidth\": 0, \"ticks\": \"\"}}, \"type\": \"scattermapbox\"}], \"scatterpolar\": [{\"marker\": {\"colorbar\": {\"outlinewidth\": 0, \"ticks\": \"\"}}, \"type\": \"scatterpolar\"}], \"scatterpolargl\": [{\"marker\": {\"colorbar\": {\"outlinewidth\": 0, \"ticks\": \"\"}}, \"type\": \"scatterpolargl\"}], \"scatterternary\": [{\"marker\": {\"colorbar\": {\"outlinewidth\": 0, \"ticks\": \"\"}}, \"type\": \"scatterternary\"}], \"surface\": [{\"colorbar\": {\"outlinewidth\": 0, \"ticks\": \"\"}, \"colorscale\": [[0.0, \"#0d0887\"], [0.1111111111111111, \"#46039f\"], [0.2222222222222222, \"#7201a8\"], [0.3333333333333333, \"#9c179e\"], [0.4444444444444444, \"#bd3786\"], [0.5555555555555556, \"#d8576b\"], [0.6666666666666666, \"#ed7953\"], [0.7777777777777778, \"#fb9f3a\"], [0.8888888888888888, \"#fdca26\"], [1.0, \"#f0f921\"]], \"type\": \"surface\"}], \"table\": [{\"cells\": {\"fill\": {\"color\": \"#EBF0F8\"}, \"line\": {\"color\": \"white\"}}, \"header\": {\"fill\": {\"color\": \"#C8D4E3\"}, \"line\": {\"color\": \"white\"}}, \"type\": \"table\"}]}, \"layout\": {\"annotationdefaults\": {\"arrowcolor\": \"#2a3f5f\", \"arrowhead\": 0, \"arrowwidth\": 1}, \"coloraxis\": {\"colorbar\": {\"outlinewidth\": 0, \"ticks\": \"\"}}, \"colorscale\": {\"diverging\": [[0, \"#8e0152\"], [0.1, \"#c51b7d\"], [0.2, \"#de77ae\"], [0.3, \"#f1b6da\"], [0.4, \"#fde0ef\"], [0.5, \"#f7f7f7\"], [0.6, \"#e6f5d0\"], [0.7, \"#b8e186\"], [0.8, \"#7fbc41\"], [0.9, \"#4d9221\"], [1, \"#276419\"]], \"sequential\": [[0.0, \"#0d0887\"], [0.1111111111111111, \"#46039f\"], [0.2222222222222222, \"#7201a8\"], [0.3333333333333333, \"#9c179e\"], [0.4444444444444444, \"#bd3786\"], [0.5555555555555556, \"#d8576b\"], [0.6666666666666666, \"#ed7953\"], [0.7777777777777778, \"#fb9f3a\"], [0.8888888888888888, \"#fdca26\"], [1.0, \"#f0f921\"]], \"sequentialminus\": [[0.0, \"#0d0887\"], [0.1111111111111111, \"#46039f\"], [0.2222222222222222, \"#7201a8\"], [0.3333333333333333, \"#9c179e\"], [0.4444444444444444, \"#bd3786\"], [0.5555555555555556, \"#d8576b\"], [0.6666666666666666, \"#ed7953\"], [0.7777777777777778, \"#fb9f3a\"], [0.8888888888888888, \"#fdca26\"], [1.0, \"#f0f921\"]]}, \"colorway\": [\"#636efa\", \"#EF553B\", \"#00cc96\", \"#ab63fa\", \"#FFA15A\", \"#19d3f3\", \"#FF6692\", \"#B6E880\", \"#FF97FF\", \"#FECB52\"], \"font\": {\"color\": \"#2a3f5f\"}, \"geo\": {\"bgcolor\": \"white\", \"lakecolor\": \"white\", \"landcolor\": \"#E5ECF6\", \"showlakes\": true, \"showland\": true, \"subunitcolor\": \"white\"}, \"hoverlabel\": {\"align\": \"left\"}, \"hovermode\": \"closest\", \"mapbox\": {\"style\": \"light\"}, \"paper_bgcolor\": \"white\", \"plot_bgcolor\": \"#E5ECF6\", \"polar\": {\"angularaxis\": {\"gridcolor\": \"white\", \"linecolor\": \"white\", \"ticks\": \"\"}, \"bgcolor\": \"#E5ECF6\", \"radialaxis\": {\"gridcolor\": \"white\", \"linecolor\": \"white\", \"ticks\": \"\"}}, \"scene\": {\"xaxis\": {\"backgroundcolor\": \"#E5ECF6\", \"gridcolor\": \"white\", \"gridwidth\": 2, \"linecolor\": \"white\", \"showbackground\": true, \"ticks\": \"\", \"zerolinecolor\": \"white\"}, \"yaxis\": {\"backgroundcolor\": \"#E5ECF6\", \"gridcolor\": \"white\", \"gridwidth\": 2, \"linecolor\": \"white\", \"showbackground\": true, \"ticks\": \"\", \"zerolinecolor\": \"white\"}, \"zaxis\": {\"backgroundcolor\": \"#E5ECF6\", \"gridcolor\": \"white\", \"gridwidth\": 2, \"linecolor\": \"white\", \"showbackground\": true, \"ticks\": \"\", \"zerolinecolor\": \"white\"}}, \"shapedefaults\": {\"line\": {\"color\": \"#2a3f5f\"}}, \"ternary\": {\"aaxis\": {\"gridcolor\": \"white\", \"linecolor\": \"white\", \"ticks\": \"\"}, \"baxis\": {\"gridcolor\": \"white\", \"linecolor\": \"white\", \"ticks\": \"\"}, \"bgcolor\": \"#E5ECF6\", \"caxis\": {\"gridcolor\": \"white\", \"linecolor\": \"white\", \"ticks\": \"\"}}, \"title\": {\"x\": 0.05}, \"xaxis\": {\"automargin\": true, \"gridcolor\": \"white\", \"linecolor\": \"white\", \"ticks\": \"\", \"title\": {\"standoff\": 15}, \"zerolinecolor\": \"white\", \"zerolinewidth\": 2}, \"yaxis\": {\"automargin\": true, \"gridcolor\": \"white\", \"linecolor\": \"white\", \"ticks\": \"\", \"title\": {\"standoff\": 15}, \"zerolinecolor\": \"white\", \"zerolinewidth\": 2}}}, \"title\": {\"text\": \"Monthly Analysis (Double click on name in legend)\"}, \"xaxis\": {\"title\": {\"text\": \"Date\"}}, \"yaxis\": {\"title\": {\"text\": \"Number of Orders\"}}},\n",
              "                        {\"responsive\": true}\n",
              "                    ).then(function(){\n",
              "                            \n",
              "var gd = document.getElementById('654c389d-3cae-430a-9eb3-89f5f5633718');\n",
              "var x = new MutationObserver(function (mutations, observer) {{\n",
              "        var display = window.getComputedStyle(gd).display;\n",
              "        if (!display || display === 'none') {{\n",
              "            console.log([gd, 'removed!']);\n",
              "            Plotly.purge(gd);\n",
              "            observer.disconnect();\n",
              "        }}\n",
              "}});\n",
              "\n",
              "// Listen for the removal of the full notebook cells\n",
              "var notebookContainer = gd.closest('#notebook-container');\n",
              "if (notebookContainer) {{\n",
              "    x.observe(notebookContainer, {childList: true});\n",
              "}}\n",
              "\n",
              "// Listen for the clearing of the current output cell\n",
              "var outputEl = gd.closest('.output');\n",
              "if (outputEl) {{\n",
              "    x.observe(outputEl, {childList: true});\n",
              "}}\n",
              "\n",
              "                        })\n",
              "                };\n",
              "                \n",
              "            </script>\n",
              "        </div>\n",
              "</body>\n",
              "</html>"
            ]
          },
          "metadata": {
            "tags": []
          }
        }
      ]
    },
    {
      "cell_type": "code",
      "metadata": {
        "execution": {
          "iopub.execute_input": "2020-09-16T04:40:56.533539Z",
          "iopub.status.busy": "2020-09-16T04:40:56.532339Z",
          "iopub.status.idle": "2020-09-16T04:40:56.541681Z",
          "shell.execute_reply": "2020-09-16T04:40:56.542599Z"
        },
        "papermill": {
          "duration": 0.092798,
          "end_time": "2020-09-16T04:40:56.542856",
          "exception": false,
          "start_time": "2020-09-16T04:40:56.450058",
          "status": "completed"
        },
        "tags": [],
        "id": "dveEiLkNK7AY"
      },
      "source": [
        "time_purchase= df.groupby(['time_of_purchase']).agg({'time_of_purchase':'count'}).rename(columns={'time_of_purchase':'Count'})"
      ],
      "execution_count": 82,
      "outputs": []
    },
    {
      "cell_type": "code",
      "metadata": {
        "execution": {
          "iopub.execute_input": "2020-09-16T04:40:56.694812Z",
          "iopub.status.busy": "2020-09-16T04:40:56.693964Z",
          "iopub.status.idle": "2020-09-16T04:40:56.833018Z",
          "shell.execute_reply": "2020-09-16T04:40:56.832230Z"
        },
        "papermill": {
          "duration": 0.219148,
          "end_time": "2020-09-16T04:40:56.833147",
          "exception": false,
          "start_time": "2020-09-16T04:40:56.613999",
          "status": "completed"
        },
        "tags": [],
        "colab": {
          "base_uri": "https://localhost:8080/",
          "height": 542
        },
        "id": "dBegLEJ8K7AZ",
        "outputId": "ff1ac939-716d-4892-98eb-914e996f3a7f"
      },
      "source": [
        "fig = go.Figure(data=go.Scatter(x=time_purchase.index,\n",
        "                                y=time_purchase['Count'],\n",
        "                                mode='markers',\n",
        "                                marker=dict(\n",
        "                                size=time_purchase['Count']*0.008))) # hover text goes here\n",
        "fig.update_layout(title='Purchase Times',xaxis_title=\"Hour\",yaxis_title=\"Number of Orders\")\n",
        "fig.show()"
      ],
      "execution_count": 83,
      "outputs": [
        {
          "output_type": "display_data",
          "data": {
            "text/html": [
              "<html>\n",
              "<head><meta charset=\"utf-8\" /></head>\n",
              "<body>\n",
              "    <div>\n",
              "            <script src=\"https://cdnjs.cloudflare.com/ajax/libs/mathjax/2.7.5/MathJax.js?config=TeX-AMS-MML_SVG\"></script><script type=\"text/javascript\">if (window.MathJax) {MathJax.Hub.Config({SVG: {font: \"STIX-Web\"}});}</script>\n",
              "                <script type=\"text/javascript\">window.PlotlyConfig = {MathJaxConfig: 'local'};</script>\n",
              "        <script src=\"https://cdn.plot.ly/plotly-latest.min.js\"></script>    \n",
              "            <div id=\"2dd33e0d-c048-4c76-a843-cbb59996909f\" class=\"plotly-graph-div\" style=\"height:525px; width:100%;\"></div>\n",
              "            <script type=\"text/javascript\">\n",
              "                \n",
              "                    window.PLOTLYENV=window.PLOTLYENV || {};\n",
              "                    \n",
              "                if (document.getElementById(\"2dd33e0d-c048-4c76-a843-cbb59996909f\")) {\n",
              "                    Plotly.newPlot(\n",
              "                        '2dd33e0d-c048-4c76-a843-cbb59996909f',\n",
              "                        [{\"marker\": {\"size\": [23.344, 10.776, 4.888, 2.6, 2.04, 1.8, 4.5840000000000005, 11.4, 28.2, 45.384, 59.016, 62.472, 57.808, 61.88, 63.608000000000004, 61.232, 64.176, 58.432, 55.224000000000004, 56.112, 58.168, 58.328, 55.808, 39.24]}, \"mode\": \"markers\", \"type\": \"scatter\", \"x\": [0, 1, 2, 3, 4, 5, 6, 7, 8, 9, 10, 11, 12, 13, 14, 15, 16, 17, 18, 19, 20, 21, 22, 23], \"y\": [2918, 1347, 611, 325, 255, 225, 573, 1425, 3525, 5673, 7377, 7809, 7226, 7735, 7951, 7654, 8022, 7304, 6903, 7014, 7271, 7291, 6976, 4905]}],\n",
              "                        {\"template\": {\"data\": {\"bar\": [{\"error_x\": {\"color\": \"#2a3f5f\"}, \"error_y\": {\"color\": \"#2a3f5f\"}, \"marker\": {\"line\": {\"color\": \"#E5ECF6\", \"width\": 0.5}}, \"type\": \"bar\"}], \"barpolar\": [{\"marker\": {\"line\": {\"color\": \"#E5ECF6\", \"width\": 0.5}}, \"type\": \"barpolar\"}], \"carpet\": [{\"aaxis\": {\"endlinecolor\": \"#2a3f5f\", \"gridcolor\": \"white\", \"linecolor\": \"white\", \"minorgridcolor\": \"white\", \"startlinecolor\": \"#2a3f5f\"}, \"baxis\": {\"endlinecolor\": \"#2a3f5f\", \"gridcolor\": \"white\", \"linecolor\": \"white\", \"minorgridcolor\": \"white\", \"startlinecolor\": \"#2a3f5f\"}, \"type\": \"carpet\"}], \"choropleth\": [{\"colorbar\": {\"outlinewidth\": 0, \"ticks\": \"\"}, \"type\": \"choropleth\"}], \"contour\": [{\"colorbar\": {\"outlinewidth\": 0, \"ticks\": \"\"}, \"colorscale\": [[0.0, \"#0d0887\"], [0.1111111111111111, \"#46039f\"], [0.2222222222222222, \"#7201a8\"], [0.3333333333333333, \"#9c179e\"], [0.4444444444444444, \"#bd3786\"], [0.5555555555555556, \"#d8576b\"], [0.6666666666666666, \"#ed7953\"], [0.7777777777777778, \"#fb9f3a\"], [0.8888888888888888, \"#fdca26\"], [1.0, \"#f0f921\"]], \"type\": \"contour\"}], \"contourcarpet\": [{\"colorbar\": {\"outlinewidth\": 0, \"ticks\": \"\"}, \"type\": \"contourcarpet\"}], \"heatmap\": [{\"colorbar\": {\"outlinewidth\": 0, \"ticks\": \"\"}, \"colorscale\": [[0.0, \"#0d0887\"], [0.1111111111111111, \"#46039f\"], [0.2222222222222222, \"#7201a8\"], [0.3333333333333333, \"#9c179e\"], [0.4444444444444444, \"#bd3786\"], [0.5555555555555556, \"#d8576b\"], [0.6666666666666666, \"#ed7953\"], [0.7777777777777778, \"#fb9f3a\"], [0.8888888888888888, \"#fdca26\"], [1.0, \"#f0f921\"]], \"type\": \"heatmap\"}], \"heatmapgl\": [{\"colorbar\": {\"outlinewidth\": 0, \"ticks\": \"\"}, \"colorscale\": [[0.0, \"#0d0887\"], [0.1111111111111111, \"#46039f\"], [0.2222222222222222, \"#7201a8\"], [0.3333333333333333, \"#9c179e\"], [0.4444444444444444, \"#bd3786\"], [0.5555555555555556, \"#d8576b\"], [0.6666666666666666, \"#ed7953\"], [0.7777777777777778, \"#fb9f3a\"], [0.8888888888888888, \"#fdca26\"], [1.0, \"#f0f921\"]], \"type\": \"heatmapgl\"}], \"histogram\": [{\"marker\": {\"colorbar\": {\"outlinewidth\": 0, \"ticks\": \"\"}}, \"type\": \"histogram\"}], \"histogram2d\": [{\"colorbar\": {\"outlinewidth\": 0, \"ticks\": \"\"}, \"colorscale\": [[0.0, \"#0d0887\"], [0.1111111111111111, \"#46039f\"], [0.2222222222222222, \"#7201a8\"], [0.3333333333333333, \"#9c179e\"], [0.4444444444444444, \"#bd3786\"], [0.5555555555555556, \"#d8576b\"], [0.6666666666666666, \"#ed7953\"], [0.7777777777777778, \"#fb9f3a\"], [0.8888888888888888, \"#fdca26\"], [1.0, \"#f0f921\"]], \"type\": \"histogram2d\"}], \"histogram2dcontour\": [{\"colorbar\": {\"outlinewidth\": 0, \"ticks\": \"\"}, \"colorscale\": [[0.0, \"#0d0887\"], [0.1111111111111111, \"#46039f\"], [0.2222222222222222, \"#7201a8\"], [0.3333333333333333, \"#9c179e\"], [0.4444444444444444, \"#bd3786\"], [0.5555555555555556, \"#d8576b\"], [0.6666666666666666, \"#ed7953\"], [0.7777777777777778, \"#fb9f3a\"], [0.8888888888888888, \"#fdca26\"], [1.0, \"#f0f921\"]], \"type\": \"histogram2dcontour\"}], \"mesh3d\": [{\"colorbar\": {\"outlinewidth\": 0, \"ticks\": \"\"}, \"type\": \"mesh3d\"}], \"parcoords\": [{\"line\": {\"colorbar\": {\"outlinewidth\": 0, \"ticks\": \"\"}}, \"type\": \"parcoords\"}], \"pie\": [{\"automargin\": true, \"type\": \"pie\"}], \"scatter\": [{\"marker\": {\"colorbar\": {\"outlinewidth\": 0, \"ticks\": \"\"}}, \"type\": \"scatter\"}], \"scatter3d\": [{\"line\": {\"colorbar\": {\"outlinewidth\": 0, \"ticks\": \"\"}}, \"marker\": {\"colorbar\": {\"outlinewidth\": 0, \"ticks\": \"\"}}, \"type\": \"scatter3d\"}], \"scattercarpet\": [{\"marker\": {\"colorbar\": {\"outlinewidth\": 0, \"ticks\": \"\"}}, \"type\": \"scattercarpet\"}], \"scattergeo\": [{\"marker\": {\"colorbar\": {\"outlinewidth\": 0, \"ticks\": \"\"}}, \"type\": \"scattergeo\"}], \"scattergl\": [{\"marker\": {\"colorbar\": {\"outlinewidth\": 0, \"ticks\": \"\"}}, \"type\": \"scattergl\"}], \"scattermapbox\": [{\"marker\": {\"colorbar\": {\"outlinewidth\": 0, \"ticks\": \"\"}}, \"type\": \"scattermapbox\"}], \"scatterpolar\": [{\"marker\": {\"colorbar\": {\"outlinewidth\": 0, \"ticks\": \"\"}}, \"type\": \"scatterpolar\"}], \"scatterpolargl\": [{\"marker\": {\"colorbar\": {\"outlinewidth\": 0, \"ticks\": \"\"}}, \"type\": \"scatterpolargl\"}], \"scatterternary\": [{\"marker\": {\"colorbar\": {\"outlinewidth\": 0, \"ticks\": \"\"}}, \"type\": \"scatterternary\"}], \"surface\": [{\"colorbar\": {\"outlinewidth\": 0, \"ticks\": \"\"}, \"colorscale\": [[0.0, \"#0d0887\"], [0.1111111111111111, \"#46039f\"], [0.2222222222222222, \"#7201a8\"], [0.3333333333333333, \"#9c179e\"], [0.4444444444444444, \"#bd3786\"], [0.5555555555555556, \"#d8576b\"], [0.6666666666666666, \"#ed7953\"], [0.7777777777777778, \"#fb9f3a\"], [0.8888888888888888, \"#fdca26\"], [1.0, \"#f0f921\"]], \"type\": \"surface\"}], \"table\": [{\"cells\": {\"fill\": {\"color\": \"#EBF0F8\"}, \"line\": {\"color\": \"white\"}}, \"header\": {\"fill\": {\"color\": \"#C8D4E3\"}, \"line\": {\"color\": \"white\"}}, \"type\": \"table\"}]}, \"layout\": {\"annotationdefaults\": {\"arrowcolor\": \"#2a3f5f\", \"arrowhead\": 0, \"arrowwidth\": 1}, \"coloraxis\": {\"colorbar\": {\"outlinewidth\": 0, \"ticks\": \"\"}}, \"colorscale\": {\"diverging\": [[0, \"#8e0152\"], [0.1, \"#c51b7d\"], [0.2, \"#de77ae\"], [0.3, \"#f1b6da\"], [0.4, \"#fde0ef\"], [0.5, \"#f7f7f7\"], [0.6, \"#e6f5d0\"], [0.7, \"#b8e186\"], [0.8, \"#7fbc41\"], [0.9, \"#4d9221\"], [1, \"#276419\"]], \"sequential\": [[0.0, \"#0d0887\"], [0.1111111111111111, \"#46039f\"], [0.2222222222222222, \"#7201a8\"], [0.3333333333333333, \"#9c179e\"], [0.4444444444444444, \"#bd3786\"], [0.5555555555555556, \"#d8576b\"], [0.6666666666666666, \"#ed7953\"], [0.7777777777777778, \"#fb9f3a\"], [0.8888888888888888, \"#fdca26\"], [1.0, \"#f0f921\"]], \"sequentialminus\": [[0.0, \"#0d0887\"], [0.1111111111111111, \"#46039f\"], [0.2222222222222222, \"#7201a8\"], [0.3333333333333333, \"#9c179e\"], [0.4444444444444444, \"#bd3786\"], [0.5555555555555556, \"#d8576b\"], [0.6666666666666666, \"#ed7953\"], [0.7777777777777778, \"#fb9f3a\"], [0.8888888888888888, \"#fdca26\"], [1.0, \"#f0f921\"]]}, \"colorway\": [\"#636efa\", \"#EF553B\", \"#00cc96\", \"#ab63fa\", \"#FFA15A\", \"#19d3f3\", \"#FF6692\", \"#B6E880\", \"#FF97FF\", \"#FECB52\"], \"font\": {\"color\": \"#2a3f5f\"}, \"geo\": {\"bgcolor\": \"white\", \"lakecolor\": \"white\", \"landcolor\": \"#E5ECF6\", \"showlakes\": true, \"showland\": true, \"subunitcolor\": \"white\"}, \"hoverlabel\": {\"align\": \"left\"}, \"hovermode\": \"closest\", \"mapbox\": {\"style\": \"light\"}, \"paper_bgcolor\": \"white\", \"plot_bgcolor\": \"#E5ECF6\", \"polar\": {\"angularaxis\": {\"gridcolor\": \"white\", \"linecolor\": \"white\", \"ticks\": \"\"}, \"bgcolor\": \"#E5ECF6\", \"radialaxis\": {\"gridcolor\": \"white\", \"linecolor\": \"white\", \"ticks\": \"\"}}, \"scene\": {\"xaxis\": {\"backgroundcolor\": \"#E5ECF6\", \"gridcolor\": \"white\", \"gridwidth\": 2, \"linecolor\": \"white\", \"showbackground\": true, \"ticks\": \"\", \"zerolinecolor\": \"white\"}, \"yaxis\": {\"backgroundcolor\": \"#E5ECF6\", \"gridcolor\": \"white\", \"gridwidth\": 2, \"linecolor\": \"white\", \"showbackground\": true, \"ticks\": \"\", \"zerolinecolor\": \"white\"}, \"zaxis\": {\"backgroundcolor\": \"#E5ECF6\", \"gridcolor\": \"white\", \"gridwidth\": 2, \"linecolor\": \"white\", \"showbackground\": true, \"ticks\": \"\", \"zerolinecolor\": \"white\"}}, \"shapedefaults\": {\"line\": {\"color\": \"#2a3f5f\"}}, \"ternary\": {\"aaxis\": {\"gridcolor\": \"white\", \"linecolor\": \"white\", \"ticks\": \"\"}, \"baxis\": {\"gridcolor\": \"white\", \"linecolor\": \"white\", \"ticks\": \"\"}, \"bgcolor\": \"#E5ECF6\", \"caxis\": {\"gridcolor\": \"white\", \"linecolor\": \"white\", \"ticks\": \"\"}}, \"title\": {\"x\": 0.05}, \"xaxis\": {\"automargin\": true, \"gridcolor\": \"white\", \"linecolor\": \"white\", \"ticks\": \"\", \"title\": {\"standoff\": 15}, \"zerolinecolor\": \"white\", \"zerolinewidth\": 2}, \"yaxis\": {\"automargin\": true, \"gridcolor\": \"white\", \"linecolor\": \"white\", \"ticks\": \"\", \"title\": {\"standoff\": 15}, \"zerolinecolor\": \"white\", \"zerolinewidth\": 2}}}, \"title\": {\"text\": \"Purchase Times\"}, \"xaxis\": {\"title\": {\"text\": \"Hour\"}}, \"yaxis\": {\"title\": {\"text\": \"Number of Orders\"}}},\n",
              "                        {\"responsive\": true}\n",
              "                    ).then(function(){\n",
              "                            \n",
              "var gd = document.getElementById('2dd33e0d-c048-4c76-a843-cbb59996909f');\n",
              "var x = new MutationObserver(function (mutations, observer) {{\n",
              "        var display = window.getComputedStyle(gd).display;\n",
              "        if (!display || display === 'none') {{\n",
              "            console.log([gd, 'removed!']);\n",
              "            Plotly.purge(gd);\n",
              "            observer.disconnect();\n",
              "        }}\n",
              "}});\n",
              "\n",
              "// Listen for the removal of the full notebook cells\n",
              "var notebookContainer = gd.closest('#notebook-container');\n",
              "if (notebookContainer) {{\n",
              "    x.observe(notebookContainer, {childList: true});\n",
              "}}\n",
              "\n",
              "// Listen for the clearing of the current output cell\n",
              "var outputEl = gd.closest('.output');\n",
              "if (outputEl) {{\n",
              "    x.observe(outputEl, {childList: true});\n",
              "}}\n",
              "\n",
              "                        })\n",
              "                };\n",
              "                \n",
              "            </script>\n",
              "        </div>\n",
              "</body>\n",
              "</html>"
            ]
          },
          "metadata": {
            "tags": []
          }
        }
      ]
    },
    {
      "cell_type": "code",
      "metadata": {
        "execution": {
          "iopub.execute_input": "2020-09-16T04:40:57.014372Z",
          "iopub.status.busy": "2020-09-16T04:40:57.012954Z",
          "iopub.status.idle": "2020-09-16T04:40:57.052037Z",
          "shell.execute_reply": "2020-09-16T04:40:57.051079Z"
        },
        "papermill": {
          "duration": 0.14778,
          "end_time": "2020-09-16T04:40:57.052257",
          "exception": false,
          "start_time": "2020-09-16T04:40:56.904477",
          "status": "completed"
        },
        "tags": [],
        "id": "htlKQ9qfK7AZ"
      },
      "source": [
        "popular_cities_seller = pd.DataFrame(df['seller_city'].value_counts())\n",
        "popular_cities_customer = pd.DataFrame(df['customer_city'].value_counts())"
      ],
      "execution_count": 84,
      "outputs": []
    },
    {
      "cell_type": "code",
      "metadata": {
        "execution": {
          "iopub.execute_input": "2020-09-16T04:40:57.206678Z",
          "iopub.status.busy": "2020-09-16T04:40:57.205904Z",
          "iopub.status.idle": "2020-09-16T04:40:57.229177Z",
          "shell.execute_reply": "2020-09-16T04:40:57.228536Z"
        },
        "papermill": {
          "duration": 0.101988,
          "end_time": "2020-09-16T04:40:57.229323",
          "exception": false,
          "start_time": "2020-09-16T04:40:57.127335",
          "status": "completed"
        },
        "tags": [],
        "colab": {
          "base_uri": "https://localhost:8080/",
          "height": 542
        },
        "id": "dzQ1vHYtK7AZ",
        "outputId": "170ec9ae-df3f-416e-e409-ec0068f46826"
      },
      "source": [
        "fig = go.Figure(go.Bar(y=popular_cities_seller.head(20).index, x=popular_cities_seller['seller_city'].head(20), \n",
        "                      orientation=\"h\"))\n",
        "\n",
        "fig.update_layout(title_text='Top Cities For Sellers',xaxis_title=\"No. of Orders\")\n",
        "fig.update_xaxes(type=\"log\")\n",
        "fig.show()"
      ],
      "execution_count": 85,
      "outputs": [
        {
          "output_type": "display_data",
          "data": {
            "text/html": [
              "<html>\n",
              "<head><meta charset=\"utf-8\" /></head>\n",
              "<body>\n",
              "    <div>\n",
              "            <script src=\"https://cdnjs.cloudflare.com/ajax/libs/mathjax/2.7.5/MathJax.js?config=TeX-AMS-MML_SVG\"></script><script type=\"text/javascript\">if (window.MathJax) {MathJax.Hub.Config({SVG: {font: \"STIX-Web\"}});}</script>\n",
              "                <script type=\"text/javascript\">window.PlotlyConfig = {MathJaxConfig: 'local'};</script>\n",
              "        <script src=\"https://cdn.plot.ly/plotly-latest.min.js\"></script>    \n",
              "            <div id=\"f7ba9b09-d2c0-4fd6-8e27-fdf7c43744ff\" class=\"plotly-graph-div\" style=\"height:525px; width:100%;\"></div>\n",
              "            <script type=\"text/javascript\">\n",
              "                \n",
              "                    window.PLOTLYENV=window.PLOTLYENV || {};\n",
              "                    \n",
              "                if (document.getElementById(\"f7ba9b09-d2c0-4fd6-8e27-fdf7c43744ff\")) {\n",
              "                    Plotly.newPlot(\n",
              "                        'f7ba9b09-d2c0-4fd6-8e27-fdf7c43744ff',\n",
              "                        [{\"orientation\": \"h\", \"type\": \"bar\", \"x\": [29294, 8375, 3158, 3149, 2693, 2688, 2535, 2456, 2374, 2293, 2036, 1761, 1459, 1400, 1385, 1255, 1186, 1185, 1011, 973], \"y\": [\"sao paulo\", \"ibitinga\", \"curitiba\", \"santo andre\", \"sao jose do rio preto\", \"belo horizonte\", \"rio de janeiro\", \"guarulhos\", \"ribeirao preto\", \"maringa\", \"piracicaba\", \"itaquaquecetuba\", \"campinas\", \"salto\", \"praia grande\", \"campo limpo paulista\", \"guariba\", \"sao bernardo do campo\", \"jacarei\", \"limeira\"]}],\n",
              "                        {\"template\": {\"data\": {\"bar\": [{\"error_x\": {\"color\": \"#2a3f5f\"}, \"error_y\": {\"color\": \"#2a3f5f\"}, \"marker\": {\"line\": {\"color\": \"#E5ECF6\", \"width\": 0.5}}, \"type\": \"bar\"}], \"barpolar\": [{\"marker\": {\"line\": {\"color\": \"#E5ECF6\", \"width\": 0.5}}, \"type\": \"barpolar\"}], \"carpet\": [{\"aaxis\": {\"endlinecolor\": \"#2a3f5f\", \"gridcolor\": \"white\", \"linecolor\": \"white\", \"minorgridcolor\": \"white\", \"startlinecolor\": \"#2a3f5f\"}, \"baxis\": {\"endlinecolor\": \"#2a3f5f\", \"gridcolor\": \"white\", \"linecolor\": \"white\", \"minorgridcolor\": \"white\", \"startlinecolor\": \"#2a3f5f\"}, \"type\": \"carpet\"}], \"choropleth\": [{\"colorbar\": {\"outlinewidth\": 0, \"ticks\": \"\"}, \"type\": \"choropleth\"}], \"contour\": [{\"colorbar\": {\"outlinewidth\": 0, \"ticks\": \"\"}, \"colorscale\": [[0.0, \"#0d0887\"], [0.1111111111111111, \"#46039f\"], [0.2222222222222222, \"#7201a8\"], [0.3333333333333333, \"#9c179e\"], [0.4444444444444444, \"#bd3786\"], [0.5555555555555556, \"#d8576b\"], [0.6666666666666666, \"#ed7953\"], [0.7777777777777778, \"#fb9f3a\"], [0.8888888888888888, \"#fdca26\"], [1.0, \"#f0f921\"]], \"type\": \"contour\"}], \"contourcarpet\": [{\"colorbar\": {\"outlinewidth\": 0, \"ticks\": \"\"}, \"type\": \"contourcarpet\"}], \"heatmap\": [{\"colorbar\": {\"outlinewidth\": 0, \"ticks\": \"\"}, \"colorscale\": [[0.0, \"#0d0887\"], [0.1111111111111111, \"#46039f\"], [0.2222222222222222, \"#7201a8\"], [0.3333333333333333, \"#9c179e\"], [0.4444444444444444, \"#bd3786\"], [0.5555555555555556, \"#d8576b\"], [0.6666666666666666, \"#ed7953\"], [0.7777777777777778, \"#fb9f3a\"], [0.8888888888888888, \"#fdca26\"], [1.0, \"#f0f921\"]], \"type\": \"heatmap\"}], \"heatmapgl\": [{\"colorbar\": {\"outlinewidth\": 0, \"ticks\": \"\"}, \"colorscale\": [[0.0, \"#0d0887\"], [0.1111111111111111, \"#46039f\"], [0.2222222222222222, \"#7201a8\"], [0.3333333333333333, \"#9c179e\"], [0.4444444444444444, \"#bd3786\"], [0.5555555555555556, \"#d8576b\"], [0.6666666666666666, \"#ed7953\"], [0.7777777777777778, \"#fb9f3a\"], [0.8888888888888888, \"#fdca26\"], [1.0, \"#f0f921\"]], \"type\": \"heatmapgl\"}], \"histogram\": [{\"marker\": {\"colorbar\": {\"outlinewidth\": 0, \"ticks\": \"\"}}, \"type\": \"histogram\"}], \"histogram2d\": [{\"colorbar\": {\"outlinewidth\": 0, \"ticks\": \"\"}, \"colorscale\": [[0.0, \"#0d0887\"], [0.1111111111111111, \"#46039f\"], [0.2222222222222222, \"#7201a8\"], [0.3333333333333333, \"#9c179e\"], [0.4444444444444444, \"#bd3786\"], [0.5555555555555556, \"#d8576b\"], [0.6666666666666666, \"#ed7953\"], [0.7777777777777778, \"#fb9f3a\"], [0.8888888888888888, \"#fdca26\"], [1.0, \"#f0f921\"]], \"type\": \"histogram2d\"}], \"histogram2dcontour\": [{\"colorbar\": {\"outlinewidth\": 0, \"ticks\": \"\"}, \"colorscale\": [[0.0, \"#0d0887\"], [0.1111111111111111, \"#46039f\"], [0.2222222222222222, \"#7201a8\"], [0.3333333333333333, \"#9c179e\"], [0.4444444444444444, \"#bd3786\"], [0.5555555555555556, \"#d8576b\"], [0.6666666666666666, \"#ed7953\"], [0.7777777777777778, \"#fb9f3a\"], [0.8888888888888888, \"#fdca26\"], [1.0, \"#f0f921\"]], \"type\": \"histogram2dcontour\"}], \"mesh3d\": [{\"colorbar\": {\"outlinewidth\": 0, \"ticks\": \"\"}, \"type\": \"mesh3d\"}], \"parcoords\": [{\"line\": {\"colorbar\": {\"outlinewidth\": 0, \"ticks\": \"\"}}, \"type\": \"parcoords\"}], \"pie\": [{\"automargin\": true, \"type\": \"pie\"}], \"scatter\": [{\"marker\": {\"colorbar\": {\"outlinewidth\": 0, \"ticks\": \"\"}}, \"type\": \"scatter\"}], \"scatter3d\": [{\"line\": {\"colorbar\": {\"outlinewidth\": 0, \"ticks\": \"\"}}, \"marker\": {\"colorbar\": {\"outlinewidth\": 0, \"ticks\": \"\"}}, \"type\": \"scatter3d\"}], \"scattercarpet\": [{\"marker\": {\"colorbar\": {\"outlinewidth\": 0, \"ticks\": \"\"}}, \"type\": \"scattercarpet\"}], \"scattergeo\": [{\"marker\": {\"colorbar\": {\"outlinewidth\": 0, \"ticks\": \"\"}}, \"type\": \"scattergeo\"}], \"scattergl\": [{\"marker\": {\"colorbar\": {\"outlinewidth\": 0, \"ticks\": \"\"}}, \"type\": \"scattergl\"}], \"scattermapbox\": [{\"marker\": {\"colorbar\": {\"outlinewidth\": 0, \"ticks\": \"\"}}, \"type\": \"scattermapbox\"}], \"scatterpolar\": [{\"marker\": {\"colorbar\": {\"outlinewidth\": 0, \"ticks\": \"\"}}, \"type\": \"scatterpolar\"}], \"scatterpolargl\": [{\"marker\": {\"colorbar\": {\"outlinewidth\": 0, \"ticks\": \"\"}}, \"type\": \"scatterpolargl\"}], \"scatterternary\": [{\"marker\": {\"colorbar\": {\"outlinewidth\": 0, \"ticks\": \"\"}}, \"type\": \"scatterternary\"}], \"surface\": [{\"colorbar\": {\"outlinewidth\": 0, \"ticks\": \"\"}, \"colorscale\": [[0.0, \"#0d0887\"], [0.1111111111111111, \"#46039f\"], [0.2222222222222222, \"#7201a8\"], [0.3333333333333333, \"#9c179e\"], [0.4444444444444444, \"#bd3786\"], [0.5555555555555556, \"#d8576b\"], [0.6666666666666666, \"#ed7953\"], [0.7777777777777778, \"#fb9f3a\"], [0.8888888888888888, \"#fdca26\"], [1.0, \"#f0f921\"]], \"type\": \"surface\"}], \"table\": [{\"cells\": {\"fill\": {\"color\": \"#EBF0F8\"}, \"line\": {\"color\": \"white\"}}, \"header\": {\"fill\": {\"color\": \"#C8D4E3\"}, \"line\": {\"color\": \"white\"}}, \"type\": \"table\"}]}, \"layout\": {\"annotationdefaults\": {\"arrowcolor\": \"#2a3f5f\", \"arrowhead\": 0, \"arrowwidth\": 1}, \"coloraxis\": {\"colorbar\": {\"outlinewidth\": 0, \"ticks\": \"\"}}, \"colorscale\": {\"diverging\": [[0, \"#8e0152\"], [0.1, \"#c51b7d\"], [0.2, \"#de77ae\"], [0.3, \"#f1b6da\"], [0.4, \"#fde0ef\"], [0.5, \"#f7f7f7\"], [0.6, \"#e6f5d0\"], [0.7, \"#b8e186\"], [0.8, \"#7fbc41\"], [0.9, \"#4d9221\"], [1, \"#276419\"]], \"sequential\": [[0.0, \"#0d0887\"], [0.1111111111111111, \"#46039f\"], [0.2222222222222222, \"#7201a8\"], [0.3333333333333333, \"#9c179e\"], [0.4444444444444444, \"#bd3786\"], [0.5555555555555556, \"#d8576b\"], [0.6666666666666666, \"#ed7953\"], [0.7777777777777778, \"#fb9f3a\"], [0.8888888888888888, \"#fdca26\"], [1.0, \"#f0f921\"]], \"sequentialminus\": [[0.0, \"#0d0887\"], [0.1111111111111111, \"#46039f\"], [0.2222222222222222, \"#7201a8\"], [0.3333333333333333, \"#9c179e\"], [0.4444444444444444, \"#bd3786\"], [0.5555555555555556, \"#d8576b\"], [0.6666666666666666, \"#ed7953\"], [0.7777777777777778, \"#fb9f3a\"], [0.8888888888888888, \"#fdca26\"], [1.0, \"#f0f921\"]]}, \"colorway\": [\"#636efa\", \"#EF553B\", \"#00cc96\", \"#ab63fa\", \"#FFA15A\", \"#19d3f3\", \"#FF6692\", \"#B6E880\", \"#FF97FF\", \"#FECB52\"], \"font\": {\"color\": \"#2a3f5f\"}, \"geo\": {\"bgcolor\": \"white\", \"lakecolor\": \"white\", \"landcolor\": \"#E5ECF6\", \"showlakes\": true, \"showland\": true, \"subunitcolor\": \"white\"}, \"hoverlabel\": {\"align\": \"left\"}, \"hovermode\": \"closest\", \"mapbox\": {\"style\": \"light\"}, \"paper_bgcolor\": \"white\", \"plot_bgcolor\": \"#E5ECF6\", \"polar\": {\"angularaxis\": {\"gridcolor\": \"white\", \"linecolor\": \"white\", \"ticks\": \"\"}, \"bgcolor\": \"#E5ECF6\", \"radialaxis\": {\"gridcolor\": \"white\", \"linecolor\": \"white\", \"ticks\": \"\"}}, \"scene\": {\"xaxis\": {\"backgroundcolor\": \"#E5ECF6\", \"gridcolor\": \"white\", \"gridwidth\": 2, \"linecolor\": \"white\", \"showbackground\": true, \"ticks\": \"\", \"zerolinecolor\": \"white\"}, \"yaxis\": {\"backgroundcolor\": \"#E5ECF6\", \"gridcolor\": \"white\", \"gridwidth\": 2, \"linecolor\": \"white\", \"showbackground\": true, \"ticks\": \"\", \"zerolinecolor\": \"white\"}, \"zaxis\": {\"backgroundcolor\": \"#E5ECF6\", \"gridcolor\": \"white\", \"gridwidth\": 2, \"linecolor\": \"white\", \"showbackground\": true, \"ticks\": \"\", \"zerolinecolor\": \"white\"}}, \"shapedefaults\": {\"line\": {\"color\": \"#2a3f5f\"}}, \"ternary\": {\"aaxis\": {\"gridcolor\": \"white\", \"linecolor\": \"white\", \"ticks\": \"\"}, \"baxis\": {\"gridcolor\": \"white\", \"linecolor\": \"white\", \"ticks\": \"\"}, \"bgcolor\": \"#E5ECF6\", \"caxis\": {\"gridcolor\": \"white\", \"linecolor\": \"white\", \"ticks\": \"\"}}, \"title\": {\"x\": 0.05}, \"xaxis\": {\"automargin\": true, \"gridcolor\": \"white\", \"linecolor\": \"white\", \"ticks\": \"\", \"title\": {\"standoff\": 15}, \"zerolinecolor\": \"white\", \"zerolinewidth\": 2}, \"yaxis\": {\"automargin\": true, \"gridcolor\": \"white\", \"linecolor\": \"white\", \"ticks\": \"\", \"title\": {\"standoff\": 15}, \"zerolinecolor\": \"white\", \"zerolinewidth\": 2}}}, \"title\": {\"text\": \"Top Cities For Sellers\"}, \"xaxis\": {\"title\": {\"text\": \"No. of Orders\"}, \"type\": \"log\"}},\n",
              "                        {\"responsive\": true}\n",
              "                    ).then(function(){\n",
              "                            \n",
              "var gd = document.getElementById('f7ba9b09-d2c0-4fd6-8e27-fdf7c43744ff');\n",
              "var x = new MutationObserver(function (mutations, observer) {{\n",
              "        var display = window.getComputedStyle(gd).display;\n",
              "        if (!display || display === 'none') {{\n",
              "            console.log([gd, 'removed!']);\n",
              "            Plotly.purge(gd);\n",
              "            observer.disconnect();\n",
              "        }}\n",
              "}});\n",
              "\n",
              "// Listen for the removal of the full notebook cells\n",
              "var notebookContainer = gd.closest('#notebook-container');\n",
              "if (notebookContainer) {{\n",
              "    x.observe(notebookContainer, {childList: true});\n",
              "}}\n",
              "\n",
              "// Listen for the clearing of the current output cell\n",
              "var outputEl = gd.closest('.output');\n",
              "if (outputEl) {{\n",
              "    x.observe(outputEl, {childList: true});\n",
              "}}\n",
              "\n",
              "                        })\n",
              "                };\n",
              "                \n",
              "            </script>\n",
              "        </div>\n",
              "</body>\n",
              "</html>"
            ]
          },
          "metadata": {
            "tags": []
          }
        }
      ]
    },
    {
      "cell_type": "code",
      "metadata": {
        "execution": {
          "iopub.execute_input": "2020-09-16T04:40:57.384487Z",
          "iopub.status.busy": "2020-09-16T04:40:57.383655Z",
          "iopub.status.idle": "2020-09-16T04:40:57.406531Z",
          "shell.execute_reply": "2020-09-16T04:40:57.405748Z"
        },
        "papermill": {
          "duration": 0.104361,
          "end_time": "2020-09-16T04:40:57.406663",
          "exception": false,
          "start_time": "2020-09-16T04:40:57.302302",
          "status": "completed"
        },
        "tags": [],
        "colab": {
          "base_uri": "https://localhost:8080/",
          "height": 542
        },
        "id": "W8ddr93gK7AZ",
        "outputId": "f7ced4ac-da23-4987-ae3f-6d9ec9747c74"
      },
      "source": [
        "fig = go.Figure(go.Bar(y=popular_cities_customer.head(20).index, x=popular_cities_customer['customer_city'].head(20), \n",
        "                      orientation=\"h\", marker=dict(color=\"green\")))\n",
        "\n",
        "fig.update_layout(title_text='Top Cities For Customers',xaxis_title=\"No. of Orders\")\n",
        "fig.update_xaxes(type=\"log\")\n",
        "fig.show()"
      ],
      "execution_count": 86,
      "outputs": [
        {
          "output_type": "display_data",
          "data": {
            "text/html": [
              "<html>\n",
              "<head><meta charset=\"utf-8\" /></head>\n",
              "<body>\n",
              "    <div>\n",
              "            <script src=\"https://cdnjs.cloudflare.com/ajax/libs/mathjax/2.7.5/MathJax.js?config=TeX-AMS-MML_SVG\"></script><script type=\"text/javascript\">if (window.MathJax) {MathJax.Hub.Config({SVG: {font: \"STIX-Web\"}});}</script>\n",
              "                <script type=\"text/javascript\">window.PlotlyConfig = {MathJaxConfig: 'local'};</script>\n",
              "        <script src=\"https://cdn.plot.ly/plotly-latest.min.js\"></script>    \n",
              "            <div id=\"0aa0c655-a736-490d-9781-12495e54089a\" class=\"plotly-graph-div\" style=\"height:525px; width:100%;\"></div>\n",
              "            <script type=\"text/javascript\">\n",
              "                \n",
              "                    window.PLOTLYENV=window.PLOTLYENV || {};\n",
              "                    \n",
              "                if (document.getElementById(\"0aa0c655-a736-490d-9781-12495e54089a\")) {\n",
              "                    Plotly.newPlot(\n",
              "                        '0aa0c655-a736-490d-9781-12495e54089a',\n",
              "                        [{\"marker\": {\"color\": \"green\"}, \"orientation\": \"h\", \"type\": \"bar\", \"x\": [18728, 8261, 3274, 2484, 1816, 1743, 1667, 1537, 1404, 1121, 1061, 918, 900, 874, 844, 823, 762, 734, 713, 687], \"y\": [\"sao paulo\", \"rio de janeiro\", \"belo horizonte\", \"brasilia\", \"curitiba\", \"campinas\", \"porto alegre\", \"salvador\", \"guarulhos\", \"sao bernardo do campo\", \"niteroi\", \"santo andre\", \"osasco\", \"goiania\", \"santos\", \"sao jose dos campos\", \"fortaleza\", \"sorocaba\", \"recife\", \"jundiai\"]}],\n",
              "                        {\"template\": {\"data\": {\"bar\": [{\"error_x\": {\"color\": \"#2a3f5f\"}, \"error_y\": {\"color\": \"#2a3f5f\"}, \"marker\": {\"line\": {\"color\": \"#E5ECF6\", \"width\": 0.5}}, \"type\": \"bar\"}], \"barpolar\": [{\"marker\": {\"line\": {\"color\": \"#E5ECF6\", \"width\": 0.5}}, \"type\": \"barpolar\"}], \"carpet\": [{\"aaxis\": {\"endlinecolor\": \"#2a3f5f\", \"gridcolor\": \"white\", \"linecolor\": \"white\", \"minorgridcolor\": \"white\", \"startlinecolor\": \"#2a3f5f\"}, \"baxis\": {\"endlinecolor\": \"#2a3f5f\", \"gridcolor\": \"white\", \"linecolor\": \"white\", \"minorgridcolor\": \"white\", \"startlinecolor\": \"#2a3f5f\"}, \"type\": \"carpet\"}], \"choropleth\": [{\"colorbar\": {\"outlinewidth\": 0, \"ticks\": \"\"}, \"type\": \"choropleth\"}], \"contour\": [{\"colorbar\": {\"outlinewidth\": 0, \"ticks\": \"\"}, \"colorscale\": [[0.0, \"#0d0887\"], [0.1111111111111111, \"#46039f\"], [0.2222222222222222, \"#7201a8\"], [0.3333333333333333, \"#9c179e\"], [0.4444444444444444, \"#bd3786\"], [0.5555555555555556, \"#d8576b\"], [0.6666666666666666, \"#ed7953\"], [0.7777777777777778, \"#fb9f3a\"], [0.8888888888888888, \"#fdca26\"], [1.0, \"#f0f921\"]], \"type\": \"contour\"}], \"contourcarpet\": [{\"colorbar\": {\"outlinewidth\": 0, \"ticks\": \"\"}, \"type\": \"contourcarpet\"}], \"heatmap\": [{\"colorbar\": {\"outlinewidth\": 0, \"ticks\": \"\"}, \"colorscale\": [[0.0, \"#0d0887\"], [0.1111111111111111, \"#46039f\"], [0.2222222222222222, \"#7201a8\"], [0.3333333333333333, \"#9c179e\"], [0.4444444444444444, \"#bd3786\"], [0.5555555555555556, \"#d8576b\"], [0.6666666666666666, \"#ed7953\"], [0.7777777777777778, \"#fb9f3a\"], [0.8888888888888888, \"#fdca26\"], [1.0, \"#f0f921\"]], \"type\": \"heatmap\"}], \"heatmapgl\": [{\"colorbar\": {\"outlinewidth\": 0, \"ticks\": \"\"}, \"colorscale\": [[0.0, \"#0d0887\"], [0.1111111111111111, \"#46039f\"], [0.2222222222222222, \"#7201a8\"], [0.3333333333333333, \"#9c179e\"], [0.4444444444444444, \"#bd3786\"], [0.5555555555555556, \"#d8576b\"], [0.6666666666666666, \"#ed7953\"], [0.7777777777777778, \"#fb9f3a\"], [0.8888888888888888, \"#fdca26\"], [1.0, \"#f0f921\"]], \"type\": \"heatmapgl\"}], \"histogram\": [{\"marker\": {\"colorbar\": {\"outlinewidth\": 0, \"ticks\": \"\"}}, \"type\": \"histogram\"}], \"histogram2d\": [{\"colorbar\": {\"outlinewidth\": 0, \"ticks\": \"\"}, \"colorscale\": [[0.0, \"#0d0887\"], [0.1111111111111111, \"#46039f\"], [0.2222222222222222, \"#7201a8\"], [0.3333333333333333, \"#9c179e\"], [0.4444444444444444, \"#bd3786\"], [0.5555555555555556, \"#d8576b\"], [0.6666666666666666, \"#ed7953\"], [0.7777777777777778, \"#fb9f3a\"], [0.8888888888888888, \"#fdca26\"], [1.0, \"#f0f921\"]], \"type\": \"histogram2d\"}], \"histogram2dcontour\": [{\"colorbar\": {\"outlinewidth\": 0, \"ticks\": \"\"}, \"colorscale\": [[0.0, \"#0d0887\"], [0.1111111111111111, \"#46039f\"], [0.2222222222222222, \"#7201a8\"], [0.3333333333333333, \"#9c179e\"], [0.4444444444444444, \"#bd3786\"], [0.5555555555555556, \"#d8576b\"], [0.6666666666666666, \"#ed7953\"], [0.7777777777777778, \"#fb9f3a\"], [0.8888888888888888, \"#fdca26\"], [1.0, \"#f0f921\"]], \"type\": \"histogram2dcontour\"}], \"mesh3d\": [{\"colorbar\": {\"outlinewidth\": 0, \"ticks\": \"\"}, \"type\": \"mesh3d\"}], \"parcoords\": [{\"line\": {\"colorbar\": {\"outlinewidth\": 0, \"ticks\": \"\"}}, \"type\": \"parcoords\"}], \"pie\": [{\"automargin\": true, \"type\": \"pie\"}], \"scatter\": [{\"marker\": {\"colorbar\": {\"outlinewidth\": 0, \"ticks\": \"\"}}, \"type\": \"scatter\"}], \"scatter3d\": [{\"line\": {\"colorbar\": {\"outlinewidth\": 0, \"ticks\": \"\"}}, \"marker\": {\"colorbar\": {\"outlinewidth\": 0, \"ticks\": \"\"}}, \"type\": \"scatter3d\"}], \"scattercarpet\": [{\"marker\": {\"colorbar\": {\"outlinewidth\": 0, \"ticks\": \"\"}}, \"type\": \"scattercarpet\"}], \"scattergeo\": [{\"marker\": {\"colorbar\": {\"outlinewidth\": 0, \"ticks\": \"\"}}, \"type\": \"scattergeo\"}], \"scattergl\": [{\"marker\": {\"colorbar\": {\"outlinewidth\": 0, \"ticks\": \"\"}}, \"type\": \"scattergl\"}], \"scattermapbox\": [{\"marker\": {\"colorbar\": {\"outlinewidth\": 0, \"ticks\": \"\"}}, \"type\": \"scattermapbox\"}], \"scatterpolar\": [{\"marker\": {\"colorbar\": {\"outlinewidth\": 0, \"ticks\": \"\"}}, \"type\": \"scatterpolar\"}], \"scatterpolargl\": [{\"marker\": {\"colorbar\": {\"outlinewidth\": 0, \"ticks\": \"\"}}, \"type\": \"scatterpolargl\"}], \"scatterternary\": [{\"marker\": {\"colorbar\": {\"outlinewidth\": 0, \"ticks\": \"\"}}, \"type\": \"scatterternary\"}], \"surface\": [{\"colorbar\": {\"outlinewidth\": 0, \"ticks\": \"\"}, \"colorscale\": [[0.0, \"#0d0887\"], [0.1111111111111111, \"#46039f\"], [0.2222222222222222, \"#7201a8\"], [0.3333333333333333, \"#9c179e\"], [0.4444444444444444, \"#bd3786\"], [0.5555555555555556, \"#d8576b\"], [0.6666666666666666, \"#ed7953\"], [0.7777777777777778, \"#fb9f3a\"], [0.8888888888888888, \"#fdca26\"], [1.0, \"#f0f921\"]], \"type\": \"surface\"}], \"table\": [{\"cells\": {\"fill\": {\"color\": \"#EBF0F8\"}, \"line\": {\"color\": \"white\"}}, \"header\": {\"fill\": {\"color\": \"#C8D4E3\"}, \"line\": {\"color\": \"white\"}}, \"type\": \"table\"}]}, \"layout\": {\"annotationdefaults\": {\"arrowcolor\": \"#2a3f5f\", \"arrowhead\": 0, \"arrowwidth\": 1}, \"coloraxis\": {\"colorbar\": {\"outlinewidth\": 0, \"ticks\": \"\"}}, \"colorscale\": {\"diverging\": [[0, \"#8e0152\"], [0.1, \"#c51b7d\"], [0.2, \"#de77ae\"], [0.3, \"#f1b6da\"], [0.4, \"#fde0ef\"], [0.5, \"#f7f7f7\"], [0.6, \"#e6f5d0\"], [0.7, \"#b8e186\"], [0.8, \"#7fbc41\"], [0.9, \"#4d9221\"], [1, \"#276419\"]], \"sequential\": [[0.0, \"#0d0887\"], [0.1111111111111111, \"#46039f\"], [0.2222222222222222, \"#7201a8\"], [0.3333333333333333, \"#9c179e\"], [0.4444444444444444, \"#bd3786\"], [0.5555555555555556, \"#d8576b\"], [0.6666666666666666, \"#ed7953\"], [0.7777777777777778, \"#fb9f3a\"], [0.8888888888888888, \"#fdca26\"], [1.0, \"#f0f921\"]], \"sequentialminus\": [[0.0, \"#0d0887\"], [0.1111111111111111, \"#46039f\"], [0.2222222222222222, \"#7201a8\"], [0.3333333333333333, \"#9c179e\"], [0.4444444444444444, \"#bd3786\"], [0.5555555555555556, \"#d8576b\"], [0.6666666666666666, \"#ed7953\"], [0.7777777777777778, \"#fb9f3a\"], [0.8888888888888888, \"#fdca26\"], [1.0, \"#f0f921\"]]}, \"colorway\": [\"#636efa\", \"#EF553B\", \"#00cc96\", \"#ab63fa\", \"#FFA15A\", \"#19d3f3\", \"#FF6692\", \"#B6E880\", \"#FF97FF\", \"#FECB52\"], \"font\": {\"color\": \"#2a3f5f\"}, \"geo\": {\"bgcolor\": \"white\", \"lakecolor\": \"white\", \"landcolor\": \"#E5ECF6\", \"showlakes\": true, \"showland\": true, \"subunitcolor\": \"white\"}, \"hoverlabel\": {\"align\": \"left\"}, \"hovermode\": \"closest\", \"mapbox\": {\"style\": \"light\"}, \"paper_bgcolor\": \"white\", \"plot_bgcolor\": \"#E5ECF6\", \"polar\": {\"angularaxis\": {\"gridcolor\": \"white\", \"linecolor\": \"white\", \"ticks\": \"\"}, \"bgcolor\": \"#E5ECF6\", \"radialaxis\": {\"gridcolor\": \"white\", \"linecolor\": \"white\", \"ticks\": \"\"}}, \"scene\": {\"xaxis\": {\"backgroundcolor\": \"#E5ECF6\", \"gridcolor\": \"white\", \"gridwidth\": 2, \"linecolor\": \"white\", \"showbackground\": true, \"ticks\": \"\", \"zerolinecolor\": \"white\"}, \"yaxis\": {\"backgroundcolor\": \"#E5ECF6\", \"gridcolor\": \"white\", \"gridwidth\": 2, \"linecolor\": \"white\", \"showbackground\": true, \"ticks\": \"\", \"zerolinecolor\": \"white\"}, \"zaxis\": {\"backgroundcolor\": \"#E5ECF6\", \"gridcolor\": \"white\", \"gridwidth\": 2, \"linecolor\": \"white\", \"showbackground\": true, \"ticks\": \"\", \"zerolinecolor\": \"white\"}}, \"shapedefaults\": {\"line\": {\"color\": \"#2a3f5f\"}}, \"ternary\": {\"aaxis\": {\"gridcolor\": \"white\", \"linecolor\": \"white\", \"ticks\": \"\"}, \"baxis\": {\"gridcolor\": \"white\", \"linecolor\": \"white\", \"ticks\": \"\"}, \"bgcolor\": \"#E5ECF6\", \"caxis\": {\"gridcolor\": \"white\", \"linecolor\": \"white\", \"ticks\": \"\"}}, \"title\": {\"x\": 0.05}, \"xaxis\": {\"automargin\": true, \"gridcolor\": \"white\", \"linecolor\": \"white\", \"ticks\": \"\", \"title\": {\"standoff\": 15}, \"zerolinecolor\": \"white\", \"zerolinewidth\": 2}, \"yaxis\": {\"automargin\": true, \"gridcolor\": \"white\", \"linecolor\": \"white\", \"ticks\": \"\", \"title\": {\"standoff\": 15}, \"zerolinecolor\": \"white\", \"zerolinewidth\": 2}}}, \"title\": {\"text\": \"Top Cities For Customers\"}, \"xaxis\": {\"title\": {\"text\": \"No. of Orders\"}, \"type\": \"log\"}},\n",
              "                        {\"responsive\": true}\n",
              "                    ).then(function(){\n",
              "                            \n",
              "var gd = document.getElementById('0aa0c655-a736-490d-9781-12495e54089a');\n",
              "var x = new MutationObserver(function (mutations, observer) {{\n",
              "        var display = window.getComputedStyle(gd).display;\n",
              "        if (!display || display === 'none') {{\n",
              "            console.log([gd, 'removed!']);\n",
              "            Plotly.purge(gd);\n",
              "            observer.disconnect();\n",
              "        }}\n",
              "}});\n",
              "\n",
              "// Listen for the removal of the full notebook cells\n",
              "var notebookContainer = gd.closest('#notebook-container');\n",
              "if (notebookContainer) {{\n",
              "    x.observe(notebookContainer, {childList: true});\n",
              "}}\n",
              "\n",
              "// Listen for the clearing of the current output cell\n",
              "var outputEl = gd.closest('.output');\n",
              "if (outputEl) {{\n",
              "    x.observe(outputEl, {childList: true});\n",
              "}}\n",
              "\n",
              "                        })\n",
              "                };\n",
              "                \n",
              "            </script>\n",
              "        </div>\n",
              "</body>\n",
              "</html>"
            ]
          },
          "metadata": {
            "tags": []
          }
        }
      ]
    },
    {
      "cell_type": "code",
      "metadata": {
        "execution": {
          "iopub.execute_input": "2020-09-16T04:40:57.567268Z",
          "iopub.status.busy": "2020-09-16T04:40:57.566240Z",
          "iopub.status.idle": "2020-09-16T04:40:57.570863Z",
          "shell.execute_reply": "2020-09-16T04:40:57.571424Z"
        },
        "papermill": {
          "duration": 0.092207,
          "end_time": "2020-09-16T04:40:57.571622",
          "exception": false,
          "start_time": "2020-09-16T04:40:57.479415",
          "status": "completed"
        },
        "tags": [],
        "colab": {
          "base_uri": "https://localhost:8080/",
          "height": 969
        },
        "id": "xgvMBYgfK7AZ",
        "outputId": "0f0a247d-a7fb-4443-f216-a42289888899"
      },
      "source": [
        "df.head(1).T"
      ],
      "execution_count": 87,
      "outputs": [
        {
          "output_type": "execute_result",
          "data": {
            "text/html": [
              "<div>\n",
              "<style scoped>\n",
              "    .dataframe tbody tr th:only-of-type {\n",
              "        vertical-align: middle;\n",
              "    }\n",
              "\n",
              "    .dataframe tbody tr th {\n",
              "        vertical-align: top;\n",
              "    }\n",
              "\n",
              "    .dataframe thead th {\n",
              "        text-align: right;\n",
              "    }\n",
              "</style>\n",
              "<table border=\"1\" class=\"dataframe\">\n",
              "  <thead>\n",
              "    <tr style=\"text-align: right;\">\n",
              "      <th></th>\n",
              "      <th>0</th>\n",
              "    </tr>\n",
              "  </thead>\n",
              "  <tbody>\n",
              "    <tr>\n",
              "      <th>order_id</th>\n",
              "      <td>e481f51cbdc54678b7cc49136f2d6af7</td>\n",
              "    </tr>\n",
              "    <tr>\n",
              "      <th>customer_id</th>\n",
              "      <td>9ef432eb6251297304e76186b10a928d</td>\n",
              "    </tr>\n",
              "    <tr>\n",
              "      <th>order_status</th>\n",
              "      <td>delivered</td>\n",
              "    </tr>\n",
              "    <tr>\n",
              "      <th>order_purchase_timestamp</th>\n",
              "      <td>2017-10-02 10:56:33</td>\n",
              "    </tr>\n",
              "    <tr>\n",
              "      <th>review_id</th>\n",
              "      <td>a54f0611adc9ed256b57ede6b6eb5114</td>\n",
              "    </tr>\n",
              "    <tr>\n",
              "      <th>review_score</th>\n",
              "      <td>4</td>\n",
              "    </tr>\n",
              "    <tr>\n",
              "      <th>payment_sequential</th>\n",
              "      <td>1</td>\n",
              "    </tr>\n",
              "    <tr>\n",
              "      <th>payment_type</th>\n",
              "      <td>credit_card</td>\n",
              "    </tr>\n",
              "    <tr>\n",
              "      <th>payment_installments</th>\n",
              "      <td>1</td>\n",
              "    </tr>\n",
              "    <tr>\n",
              "      <th>payment_value</th>\n",
              "      <td>18.12</td>\n",
              "    </tr>\n",
              "    <tr>\n",
              "      <th>order_item_id</th>\n",
              "      <td>1</td>\n",
              "    </tr>\n",
              "    <tr>\n",
              "      <th>product_id</th>\n",
              "      <td>87285b34884572647811a353c7ac498a</td>\n",
              "    </tr>\n",
              "    <tr>\n",
              "      <th>seller_id</th>\n",
              "      <td>3504c0cb71d7fa48d967e0e4c94d59d9</td>\n",
              "    </tr>\n",
              "    <tr>\n",
              "      <th>price</th>\n",
              "      <td>29.99</td>\n",
              "    </tr>\n",
              "    <tr>\n",
              "      <th>freight_value</th>\n",
              "      <td>8.72</td>\n",
              "    </tr>\n",
              "    <tr>\n",
              "      <th>seller_zip_code_prefix</th>\n",
              "      <td>9350</td>\n",
              "    </tr>\n",
              "    <tr>\n",
              "      <th>seller_city</th>\n",
              "      <td>maua</td>\n",
              "    </tr>\n",
              "    <tr>\n",
              "      <th>seller_state</th>\n",
              "      <td>SP</td>\n",
              "    </tr>\n",
              "    <tr>\n",
              "      <th>product_category_name</th>\n",
              "      <td>utilidades_domesticas</td>\n",
              "    </tr>\n",
              "    <tr>\n",
              "      <th>product_name_lenght</th>\n",
              "      <td>40</td>\n",
              "    </tr>\n",
              "    <tr>\n",
              "      <th>product_description_lenght</th>\n",
              "      <td>268</td>\n",
              "    </tr>\n",
              "    <tr>\n",
              "      <th>product_photos_qty</th>\n",
              "      <td>4</td>\n",
              "    </tr>\n",
              "    <tr>\n",
              "      <th>customer_unique_id</th>\n",
              "      <td>7c396fd4830fd04220f754e42b4e5bff</td>\n",
              "    </tr>\n",
              "    <tr>\n",
              "      <th>customer_zip_code_prefix</th>\n",
              "      <td>3149</td>\n",
              "    </tr>\n",
              "    <tr>\n",
              "      <th>customer_city</th>\n",
              "      <td>sao paulo</td>\n",
              "    </tr>\n",
              "    <tr>\n",
              "      <th>customer_state</th>\n",
              "      <td>SP</td>\n",
              "    </tr>\n",
              "    <tr>\n",
              "      <th>year_of_purchase</th>\n",
              "      <td>2017</td>\n",
              "    </tr>\n",
              "    <tr>\n",
              "      <th>month_of_purchase</th>\n",
              "      <td>10</td>\n",
              "    </tr>\n",
              "    <tr>\n",
              "      <th>date_of_purchase</th>\n",
              "      <td>2</td>\n",
              "    </tr>\n",
              "    <tr>\n",
              "      <th>time_of_purchase</th>\n",
              "      <td>10</td>\n",
              "    </tr>\n",
              "  </tbody>\n",
              "</table>\n",
              "</div>"
            ],
            "text/plain": [
              "                                                           0\n",
              "order_id                    e481f51cbdc54678b7cc49136f2d6af7\n",
              "customer_id                 9ef432eb6251297304e76186b10a928d\n",
              "order_status                                       delivered\n",
              "order_purchase_timestamp                 2017-10-02 10:56:33\n",
              "review_id                   a54f0611adc9ed256b57ede6b6eb5114\n",
              "review_score                                               4\n",
              "payment_sequential                                         1\n",
              "payment_type                                     credit_card\n",
              "payment_installments                                       1\n",
              "payment_value                                          18.12\n",
              "order_item_id                                              1\n",
              "product_id                  87285b34884572647811a353c7ac498a\n",
              "seller_id                   3504c0cb71d7fa48d967e0e4c94d59d9\n",
              "price                                                  29.99\n",
              "freight_value                                           8.72\n",
              "seller_zip_code_prefix                                  9350\n",
              "seller_city                                             maua\n",
              "seller_state                                              SP\n",
              "product_category_name                  utilidades_domesticas\n",
              "product_name_lenght                                       40\n",
              "product_description_lenght                               268\n",
              "product_photos_qty                                         4\n",
              "customer_unique_id          7c396fd4830fd04220f754e42b4e5bff\n",
              "customer_zip_code_prefix                                3149\n",
              "customer_city                                      sao paulo\n",
              "customer_state                                            SP\n",
              "year_of_purchase                                        2017\n",
              "month_of_purchase                                         10\n",
              "date_of_purchase                                           2\n",
              "time_of_purchase                                          10"
            ]
          },
          "metadata": {
            "tags": []
          },
          "execution_count": 87
        }
      ]
    },
    {
      "cell_type": "code",
      "metadata": {
        "execution": {
          "iopub.execute_input": "2020-09-16T04:40:57.735353Z",
          "iopub.status.busy": "2020-09-16T04:40:57.734404Z",
          "iopub.status.idle": "2020-09-16T04:40:57.754527Z",
          "shell.execute_reply": "2020-09-16T04:40:57.753813Z"
        },
        "papermill": {
          "duration": 0.10983,
          "end_time": "2020-09-16T04:40:57.754669",
          "exception": false,
          "start_time": "2020-09-16T04:40:57.644839",
          "status": "completed"
        },
        "tags": [],
        "id": "m0hwTt85K7Aa"
      },
      "source": [
        "#Most popular categories\n",
        "popular_categories = pd.DataFrame(df.groupby(['product_category_name'])['order_id'].count().sort_values(ascending = False))"
      ],
      "execution_count": 46,
      "outputs": []
    },
    {
      "cell_type": "code",
      "metadata": {
        "_kg_hide-input": true,
        "execution": {
          "iopub.execute_input": "2020-09-16T04:40:57.910606Z",
          "iopub.status.busy": "2020-09-16T04:40:57.909781Z",
          "iopub.status.idle": "2020-09-16T04:40:57.930350Z",
          "shell.execute_reply": "2020-09-16T04:40:57.929569Z"
        },
        "papermill": {
          "duration": 0.102436,
          "end_time": "2020-09-16T04:40:57.930480",
          "exception": false,
          "start_time": "2020-09-16T04:40:57.828044",
          "status": "completed"
        },
        "tags": [],
        "colab": {
          "base_uri": "https://localhost:8080/",
          "height": 542
        },
        "id": "bIXSi5egK7Aa",
        "outputId": "bb9b5c0f-7f3f-4e3d-f718-0eda679d5f4a"
      },
      "source": [
        "fig = go.Figure(go.Bar(\n",
        "    x=popular_categories.head(10).index,y=popular_categories['order_id'].head(10),\n",
        "    marker={'color': popular_categories['order_id'], \n",
        "    'colorscale': 'Viridis'},  \n",
        "    text=popular_categories['order_id'],\n",
        "    textposition = \"outside\",\n",
        "))\n",
        "fig.update_layout(title_text='Most popular categories',xaxis_title=\"Category Name\",yaxis_title=\"No. of orders\")\n",
        "fig.show()"
      ],
      "execution_count": 88,
      "outputs": [
        {
          "output_type": "display_data",
          "data": {
            "text/html": [
              "<html>\n",
              "<head><meta charset=\"utf-8\" /></head>\n",
              "<body>\n",
              "    <div>\n",
              "            <script src=\"https://cdnjs.cloudflare.com/ajax/libs/mathjax/2.7.5/MathJax.js?config=TeX-AMS-MML_SVG\"></script><script type=\"text/javascript\">if (window.MathJax) {MathJax.Hub.Config({SVG: {font: \"STIX-Web\"}});}</script>\n",
              "                <script type=\"text/javascript\">window.PlotlyConfig = {MathJaxConfig: 'local'};</script>\n",
              "        <script src=\"https://cdn.plot.ly/plotly-latest.min.js\"></script>    \n",
              "            <div id=\"1ec69236-0822-4e98-a83f-b6a788b2ac83\" class=\"plotly-graph-div\" style=\"height:525px; width:100%;\"></div>\n",
              "            <script type=\"text/javascript\">\n",
              "                \n",
              "                    window.PLOTLYENV=window.PLOTLYENV || {};\n",
              "                    \n",
              "                if (document.getElementById(\"1ec69236-0822-4e98-a83f-b6a788b2ac83\")) {\n",
              "                    Plotly.newPlot(\n",
              "                        '1ec69236-0822-4e98-a83f-b6a788b2ac83',\n",
              "                        [{\"marker\": {\"color\": [11990, 10030, 9005, 8833, 8151, 7380, 6213, 4726, 4590, 4400, 4281, 3999, 3589, 3204, 2847, 2625, 2170, 2030, 1788, 1709, 1192, 1163, 955, 826, 719, 705, 635, 565, 532, 526, 478, 390, 381, 332, 314, 302, 299, 291, 278, 272, 272, 272, 271, 252, 247, 220, 219, 201, 199, 155, 145, 144, 126, 105, 87, 78, 74, 71, 62, 50, 46, 41, 40, 39, 33, 31, 31, 24, 16, 15, 14, 10, 8, 2], \"colorscale\": [[0.0, \"#440154\"], [0.1111111111111111, \"#482878\"], [0.2222222222222222, \"#3e4989\"], [0.3333333333333333, \"#31688e\"], [0.4444444444444444, \"#26828e\"], [0.5555555555555556, \"#1f9e89\"], [0.6666666666666666, \"#35b779\"], [0.7777777777777778, \"#6ece58\"], [0.8888888888888888, \"#b5de2b\"], [1.0, \"#fde725\"]]}, \"text\": [11990.0, 10030.0, 9005.0, 8833.0, 8151.0, 7380.0, 6213.0, 4726.0, 4590.0, 4400.0, 4281.0, 3999.0, 3589.0, 3204.0, 2847.0, 2625.0, 2170.0, 2030.0, 1788.0, 1709.0, 1192.0, 1163.0, 955.0, 826.0, 719.0, 705.0, 635.0, 565.0, 532.0, 526.0, 478.0, 390.0, 381.0, 332.0, 314.0, 302.0, 299.0, 291.0, 278.0, 272.0, 272.0, 272.0, 271.0, 252.0, 247.0, 220.0, 219.0, 201.0, 199.0, 155.0, 145.0, 144.0, 126.0, 105.0, 87.0, 78.0, 74.0, 71.0, 62.0, 50.0, 46.0, 41.0, 40.0, 39.0, 33.0, 31.0, 31.0, 24.0, 16.0, 15.0, 14.0, 10.0, 8.0, 2.0], \"textposition\": \"outside\", \"type\": \"bar\", \"x\": [\"cama_mesa_banho\", \"beleza_saude\", \"esporte_lazer\", \"moveis_decoracao\", \"informatica_acessorios\", \"utilidades_domesticas\", \"relogios_presentes\", \"telefonia\", \"ferramentas_jardim\", \"automotivo\"], \"y\": [11990, 10030, 9005, 8833, 8151, 7380, 6213, 4726, 4590, 4400]}],\n",
              "                        {\"template\": {\"data\": {\"bar\": [{\"error_x\": {\"color\": \"#2a3f5f\"}, \"error_y\": {\"color\": \"#2a3f5f\"}, \"marker\": {\"line\": {\"color\": \"#E5ECF6\", \"width\": 0.5}}, \"type\": \"bar\"}], \"barpolar\": [{\"marker\": {\"line\": {\"color\": \"#E5ECF6\", \"width\": 0.5}}, \"type\": \"barpolar\"}], \"carpet\": [{\"aaxis\": {\"endlinecolor\": \"#2a3f5f\", \"gridcolor\": \"white\", \"linecolor\": \"white\", \"minorgridcolor\": \"white\", \"startlinecolor\": \"#2a3f5f\"}, \"baxis\": {\"endlinecolor\": \"#2a3f5f\", \"gridcolor\": \"white\", \"linecolor\": \"white\", \"minorgridcolor\": \"white\", \"startlinecolor\": \"#2a3f5f\"}, \"type\": \"carpet\"}], \"choropleth\": [{\"colorbar\": {\"outlinewidth\": 0, \"ticks\": \"\"}, \"type\": \"choropleth\"}], \"contour\": [{\"colorbar\": {\"outlinewidth\": 0, \"ticks\": \"\"}, \"colorscale\": [[0.0, \"#0d0887\"], [0.1111111111111111, \"#46039f\"], [0.2222222222222222, \"#7201a8\"], [0.3333333333333333, \"#9c179e\"], [0.4444444444444444, \"#bd3786\"], [0.5555555555555556, \"#d8576b\"], [0.6666666666666666, \"#ed7953\"], [0.7777777777777778, \"#fb9f3a\"], [0.8888888888888888, \"#fdca26\"], [1.0, \"#f0f921\"]], \"type\": \"contour\"}], \"contourcarpet\": [{\"colorbar\": {\"outlinewidth\": 0, \"ticks\": \"\"}, \"type\": \"contourcarpet\"}], \"heatmap\": [{\"colorbar\": {\"outlinewidth\": 0, \"ticks\": \"\"}, \"colorscale\": [[0.0, \"#0d0887\"], [0.1111111111111111, \"#46039f\"], [0.2222222222222222, \"#7201a8\"], [0.3333333333333333, \"#9c179e\"], [0.4444444444444444, \"#bd3786\"], [0.5555555555555556, \"#d8576b\"], [0.6666666666666666, \"#ed7953\"], [0.7777777777777778, \"#fb9f3a\"], [0.8888888888888888, \"#fdca26\"], [1.0, \"#f0f921\"]], \"type\": \"heatmap\"}], \"heatmapgl\": [{\"colorbar\": {\"outlinewidth\": 0, \"ticks\": \"\"}, \"colorscale\": [[0.0, \"#0d0887\"], [0.1111111111111111, \"#46039f\"], [0.2222222222222222, \"#7201a8\"], [0.3333333333333333, \"#9c179e\"], [0.4444444444444444, \"#bd3786\"], [0.5555555555555556, \"#d8576b\"], [0.6666666666666666, \"#ed7953\"], [0.7777777777777778, \"#fb9f3a\"], [0.8888888888888888, \"#fdca26\"], [1.0, \"#f0f921\"]], \"type\": \"heatmapgl\"}], \"histogram\": [{\"marker\": {\"colorbar\": {\"outlinewidth\": 0, \"ticks\": \"\"}}, \"type\": \"histogram\"}], \"histogram2d\": [{\"colorbar\": {\"outlinewidth\": 0, \"ticks\": \"\"}, \"colorscale\": [[0.0, \"#0d0887\"], [0.1111111111111111, \"#46039f\"], [0.2222222222222222, \"#7201a8\"], [0.3333333333333333, \"#9c179e\"], [0.4444444444444444, \"#bd3786\"], [0.5555555555555556, \"#d8576b\"], [0.6666666666666666, \"#ed7953\"], [0.7777777777777778, \"#fb9f3a\"], [0.8888888888888888, \"#fdca26\"], [1.0, \"#f0f921\"]], \"type\": \"histogram2d\"}], \"histogram2dcontour\": [{\"colorbar\": {\"outlinewidth\": 0, \"ticks\": \"\"}, \"colorscale\": [[0.0, \"#0d0887\"], [0.1111111111111111, \"#46039f\"], [0.2222222222222222, \"#7201a8\"], [0.3333333333333333, \"#9c179e\"], [0.4444444444444444, \"#bd3786\"], [0.5555555555555556, \"#d8576b\"], [0.6666666666666666, \"#ed7953\"], [0.7777777777777778, \"#fb9f3a\"], [0.8888888888888888, \"#fdca26\"], [1.0, \"#f0f921\"]], \"type\": \"histogram2dcontour\"}], \"mesh3d\": [{\"colorbar\": {\"outlinewidth\": 0, \"ticks\": \"\"}, \"type\": \"mesh3d\"}], \"parcoords\": [{\"line\": {\"colorbar\": {\"outlinewidth\": 0, \"ticks\": \"\"}}, \"type\": \"parcoords\"}], \"pie\": [{\"automargin\": true, \"type\": \"pie\"}], \"scatter\": [{\"marker\": {\"colorbar\": {\"outlinewidth\": 0, \"ticks\": \"\"}}, \"type\": \"scatter\"}], \"scatter3d\": [{\"line\": {\"colorbar\": {\"outlinewidth\": 0, \"ticks\": \"\"}}, \"marker\": {\"colorbar\": {\"outlinewidth\": 0, \"ticks\": \"\"}}, \"type\": \"scatter3d\"}], \"scattercarpet\": [{\"marker\": {\"colorbar\": {\"outlinewidth\": 0, \"ticks\": \"\"}}, \"type\": \"scattercarpet\"}], \"scattergeo\": [{\"marker\": {\"colorbar\": {\"outlinewidth\": 0, \"ticks\": \"\"}}, \"type\": \"scattergeo\"}], \"scattergl\": [{\"marker\": {\"colorbar\": {\"outlinewidth\": 0, \"ticks\": \"\"}}, \"type\": \"scattergl\"}], \"scattermapbox\": [{\"marker\": {\"colorbar\": {\"outlinewidth\": 0, \"ticks\": \"\"}}, \"type\": \"scattermapbox\"}], \"scatterpolar\": [{\"marker\": {\"colorbar\": {\"outlinewidth\": 0, \"ticks\": \"\"}}, \"type\": \"scatterpolar\"}], \"scatterpolargl\": [{\"marker\": {\"colorbar\": {\"outlinewidth\": 0, \"ticks\": \"\"}}, \"type\": \"scatterpolargl\"}], \"scatterternary\": [{\"marker\": {\"colorbar\": {\"outlinewidth\": 0, \"ticks\": \"\"}}, \"type\": \"scatterternary\"}], \"surface\": [{\"colorbar\": {\"outlinewidth\": 0, \"ticks\": \"\"}, \"colorscale\": [[0.0, \"#0d0887\"], [0.1111111111111111, \"#46039f\"], [0.2222222222222222, \"#7201a8\"], [0.3333333333333333, \"#9c179e\"], [0.4444444444444444, \"#bd3786\"], [0.5555555555555556, \"#d8576b\"], [0.6666666666666666, \"#ed7953\"], [0.7777777777777778, \"#fb9f3a\"], [0.8888888888888888, \"#fdca26\"], [1.0, \"#f0f921\"]], \"type\": \"surface\"}], \"table\": [{\"cells\": {\"fill\": {\"color\": \"#EBF0F8\"}, \"line\": {\"color\": \"white\"}}, \"header\": {\"fill\": {\"color\": \"#C8D4E3\"}, \"line\": {\"color\": \"white\"}}, \"type\": \"table\"}]}, \"layout\": {\"annotationdefaults\": {\"arrowcolor\": \"#2a3f5f\", \"arrowhead\": 0, \"arrowwidth\": 1}, \"coloraxis\": {\"colorbar\": {\"outlinewidth\": 0, \"ticks\": \"\"}}, \"colorscale\": {\"diverging\": [[0, \"#8e0152\"], [0.1, \"#c51b7d\"], [0.2, \"#de77ae\"], [0.3, \"#f1b6da\"], [0.4, \"#fde0ef\"], [0.5, \"#f7f7f7\"], [0.6, \"#e6f5d0\"], [0.7, \"#b8e186\"], [0.8, \"#7fbc41\"], [0.9, \"#4d9221\"], [1, \"#276419\"]], \"sequential\": [[0.0, \"#0d0887\"], [0.1111111111111111, \"#46039f\"], [0.2222222222222222, \"#7201a8\"], [0.3333333333333333, \"#9c179e\"], [0.4444444444444444, \"#bd3786\"], [0.5555555555555556, \"#d8576b\"], [0.6666666666666666, \"#ed7953\"], [0.7777777777777778, \"#fb9f3a\"], [0.8888888888888888, \"#fdca26\"], [1.0, \"#f0f921\"]], \"sequentialminus\": [[0.0, \"#0d0887\"], [0.1111111111111111, \"#46039f\"], [0.2222222222222222, \"#7201a8\"], [0.3333333333333333, \"#9c179e\"], [0.4444444444444444, \"#bd3786\"], [0.5555555555555556, \"#d8576b\"], [0.6666666666666666, \"#ed7953\"], [0.7777777777777778, \"#fb9f3a\"], [0.8888888888888888, \"#fdca26\"], [1.0, \"#f0f921\"]]}, \"colorway\": [\"#636efa\", \"#EF553B\", \"#00cc96\", \"#ab63fa\", \"#FFA15A\", \"#19d3f3\", \"#FF6692\", \"#B6E880\", \"#FF97FF\", \"#FECB52\"], \"font\": {\"color\": \"#2a3f5f\"}, \"geo\": {\"bgcolor\": \"white\", \"lakecolor\": \"white\", \"landcolor\": \"#E5ECF6\", \"showlakes\": true, \"showland\": true, \"subunitcolor\": \"white\"}, \"hoverlabel\": {\"align\": \"left\"}, \"hovermode\": \"closest\", \"mapbox\": {\"style\": \"light\"}, \"paper_bgcolor\": \"white\", \"plot_bgcolor\": \"#E5ECF6\", \"polar\": {\"angularaxis\": {\"gridcolor\": \"white\", \"linecolor\": \"white\", \"ticks\": \"\"}, \"bgcolor\": \"#E5ECF6\", \"radialaxis\": {\"gridcolor\": \"white\", \"linecolor\": \"white\", \"ticks\": \"\"}}, \"scene\": {\"xaxis\": {\"backgroundcolor\": \"#E5ECF6\", \"gridcolor\": \"white\", \"gridwidth\": 2, \"linecolor\": \"white\", \"showbackground\": true, \"ticks\": \"\", \"zerolinecolor\": \"white\"}, \"yaxis\": {\"backgroundcolor\": \"#E5ECF6\", \"gridcolor\": \"white\", \"gridwidth\": 2, \"linecolor\": \"white\", \"showbackground\": true, \"ticks\": \"\", \"zerolinecolor\": \"white\"}, \"zaxis\": {\"backgroundcolor\": \"#E5ECF6\", \"gridcolor\": \"white\", \"gridwidth\": 2, \"linecolor\": \"white\", \"showbackground\": true, \"ticks\": \"\", \"zerolinecolor\": \"white\"}}, \"shapedefaults\": {\"line\": {\"color\": \"#2a3f5f\"}}, \"ternary\": {\"aaxis\": {\"gridcolor\": \"white\", \"linecolor\": \"white\", \"ticks\": \"\"}, \"baxis\": {\"gridcolor\": \"white\", \"linecolor\": \"white\", \"ticks\": \"\"}, \"bgcolor\": \"#E5ECF6\", \"caxis\": {\"gridcolor\": \"white\", \"linecolor\": \"white\", \"ticks\": \"\"}}, \"title\": {\"x\": 0.05}, \"xaxis\": {\"automargin\": true, \"gridcolor\": \"white\", \"linecolor\": \"white\", \"ticks\": \"\", \"title\": {\"standoff\": 15}, \"zerolinecolor\": \"white\", \"zerolinewidth\": 2}, \"yaxis\": {\"automargin\": true, \"gridcolor\": \"white\", \"linecolor\": \"white\", \"ticks\": \"\", \"title\": {\"standoff\": 15}, \"zerolinecolor\": \"white\", \"zerolinewidth\": 2}}}, \"title\": {\"text\": \"Most popular categories\"}, \"xaxis\": {\"title\": {\"text\": \"Category Name\"}}, \"yaxis\": {\"title\": {\"text\": \"No. of orders\"}}},\n",
              "                        {\"responsive\": true}\n",
              "                    ).then(function(){\n",
              "                            \n",
              "var gd = document.getElementById('1ec69236-0822-4e98-a83f-b6a788b2ac83');\n",
              "var x = new MutationObserver(function (mutations, observer) {{\n",
              "        var display = window.getComputedStyle(gd).display;\n",
              "        if (!display || display === 'none') {{\n",
              "            console.log([gd, 'removed!']);\n",
              "            Plotly.purge(gd);\n",
              "            observer.disconnect();\n",
              "        }}\n",
              "}});\n",
              "\n",
              "// Listen for the removal of the full notebook cells\n",
              "var notebookContainer = gd.closest('#notebook-container');\n",
              "if (notebookContainer) {{\n",
              "    x.observe(notebookContainer, {childList: true});\n",
              "}}\n",
              "\n",
              "// Listen for the clearing of the current output cell\n",
              "var outputEl = gd.closest('.output');\n",
              "if (outputEl) {{\n",
              "    x.observe(outputEl, {childList: true});\n",
              "}}\n",
              "\n",
              "                        })\n",
              "                };\n",
              "                \n",
              "            </script>\n",
              "        </div>\n",
              "</body>\n",
              "</html>"
            ]
          },
          "metadata": {
            "tags": []
          }
        }
      ]
    },
    {
      "cell_type": "code",
      "metadata": {
        "execution": {
          "iopub.execute_input": "2020-09-16T04:40:58.095902Z",
          "iopub.status.busy": "2020-09-16T04:40:58.095114Z",
          "iopub.status.idle": "2020-09-16T04:40:58.144019Z",
          "shell.execute_reply": "2020-09-16T04:40:58.144596Z"
        },
        "papermill": {
          "duration": 0.139122,
          "end_time": "2020-09-16T04:40:58.144766",
          "exception": false,
          "start_time": "2020-09-16T04:40:58.005644",
          "status": "completed"
        },
        "tags": [],
        "id": "y9g9TecrK7Aa"
      },
      "source": [
        "popular_cat_cities = pd.DataFrame(df.groupby(['customer_city','product_category_name'])['order_id'].count())"
      ],
      "execution_count": 48,
      "outputs": []
    },
    {
      "cell_type": "code",
      "metadata": {
        "execution": {
          "iopub.execute_input": "2020-09-16T04:40:58.322823Z",
          "iopub.status.busy": "2020-09-16T04:40:58.322045Z",
          "iopub.status.idle": "2020-09-16T04:40:58.426337Z",
          "shell.execute_reply": "2020-09-16T04:40:58.425691Z"
        },
        "papermill": {
          "duration": 0.206462,
          "end_time": "2020-09-16T04:40:58.426477",
          "exception": false,
          "start_time": "2020-09-16T04:40:58.220015",
          "status": "completed"
        },
        "tags": [],
        "id": "hTS-h9IMK7Ab"
      },
      "source": [
        "df_credit_card = df[df['payment_type'] == 'credit_card']\n",
        "df_boleto = df[df['payment_type'] == 'boleto']\n",
        "df_voucher = df[df['payment_type'] == 'voucher']\n",
        "df_debit_card = df[df['payment_type'] == 'debit_card']"
      ],
      "execution_count": 49,
      "outputs": []
    },
    {
      "cell_type": "code",
      "metadata": {
        "_kg_hide-input": true,
        "execution": {
          "iopub.execute_input": "2020-09-16T04:40:58.611462Z",
          "iopub.status.busy": "2020-09-16T04:40:58.598324Z",
          "iopub.status.idle": "2020-09-16T04:40:58.618430Z",
          "shell.execute_reply": "2020-09-16T04:40:58.617711Z"
        },
        "papermill": {
          "duration": 0.11719,
          "end_time": "2020-09-16T04:40:58.618569",
          "exception": false,
          "start_time": "2020-09-16T04:40:58.501379",
          "status": "completed"
        },
        "tags": [],
        "colab": {
          "base_uri": "https://localhost:8080/"
        },
        "id": "UYgQOXjiK7Ab",
        "outputId": "54952ab2-20e7-4121-d7cf-b4f3d6ef9b20"
      },
      "source": [
        "print('Distribution of payment menthods: \\n')\n",
        "print(df['payment_type'].value_counts())"
      ],
      "execution_count": 50,
      "outputs": [
        {
          "output_type": "stream",
          "text": [
            "Distribution of payment menthods: \n",
            "\n",
            "credit_card    87266\n",
            "boleto         23018\n",
            "voucher         6332\n",
            "debit_card      1699\n",
            "Name: payment_type, dtype: int64\n"
          ],
          "name": "stdout"
        }
      ]
    },
    {
      "cell_type": "code",
      "metadata": {
        "_kg_hide-input": true,
        "execution": {
          "iopub.execute_input": "2020-09-16T04:40:58.777584Z",
          "iopub.status.busy": "2020-09-16T04:40:58.776769Z",
          "iopub.status.idle": "2020-09-16T04:40:58.789240Z",
          "shell.execute_reply": "2020-09-16T04:40:58.790101Z"
        },
        "papermill": {
          "duration": 0.096626,
          "end_time": "2020-09-16T04:40:58.790382",
          "exception": false,
          "start_time": "2020-09-16T04:40:58.693756",
          "status": "completed"
        },
        "tags": [],
        "colab": {
          "base_uri": "https://localhost:8080/"
        },
        "id": "JmMFNtSCK7Ab",
        "outputId": "8da0dcfd-6c4f-4ca2-9a66-db88aa7eadfa"
      },
      "source": [
        "print('Installment information for credit card transactions: \\n')\n",
        "print(df_credit_card['payment_installments'].describe())"
      ],
      "execution_count": 51,
      "outputs": [
        {
          "output_type": "stream",
          "text": [
            "Installment information for credit card transactions: \n",
            "\n",
            "count    87266.000000\n",
            "mean         3.634990\n",
            "std          2.939588\n",
            "min          0.000000\n",
            "25%          1.000000\n",
            "50%          3.000000\n",
            "75%          5.000000\n",
            "max         24.000000\n",
            "Name: payment_installments, dtype: float64\n"
          ],
          "name": "stdout"
        }
      ]
    },
    {
      "cell_type": "code",
      "metadata": {
        "_kg_hide-input": true,
        "execution": {
          "iopub.execute_input": "2020-09-16T04:40:58.950294Z",
          "iopub.status.busy": "2020-09-16T04:40:58.949487Z",
          "iopub.status.idle": "2020-09-16T04:40:58.963982Z",
          "shell.execute_reply": "2020-09-16T04:40:58.963251Z"
        },
        "papermill": {
          "duration": 0.097668,
          "end_time": "2020-09-16T04:40:58.964118",
          "exception": false,
          "start_time": "2020-09-16T04:40:58.866450",
          "status": "completed"
        },
        "tags": [],
        "colab": {
          "base_uri": "https://localhost:8080/"
        },
        "id": "pFKtRMAUK7Ab",
        "outputId": "d97bbf70-aae3-445d-f71d-75f435ad2f11"
      },
      "source": [
        "print('Credit Card Payment Value\\n')\n",
        "print(df_credit_card['payment_value'].describe())"
      ],
      "execution_count": 52,
      "outputs": [
        {
          "output_type": "stream",
          "text": [
            "Credit Card Payment Value\n",
            "\n",
            "count    87266.000000\n",
            "mean       179.576475\n",
            "std        267.446498\n",
            "min          0.010000\n",
            "25%         65.620000\n",
            "50%        115.350000\n",
            "75%        197.120000\n",
            "max      13664.080000\n",
            "Name: payment_value, dtype: float64\n"
          ],
          "name": "stdout"
        }
      ]
    },
    {
      "cell_type": "code",
      "metadata": {
        "_kg_hide-input": true,
        "execution": {
          "iopub.execute_input": "2020-09-16T04:40:59.125651Z",
          "iopub.status.busy": "2020-09-16T04:40:59.124593Z",
          "iopub.status.idle": "2020-09-16T04:40:59.134830Z",
          "shell.execute_reply": "2020-09-16T04:40:59.134179Z"
        },
        "papermill": {
          "duration": 0.093231,
          "end_time": "2020-09-16T04:40:59.134961",
          "exception": false,
          "start_time": "2020-09-16T04:40:59.041730",
          "status": "completed"
        },
        "tags": [],
        "colab": {
          "base_uri": "https://localhost:8080/"
        },
        "id": "SsYFCZdAK7Ac",
        "outputId": "35a38f6f-789f-4e7a-c166-a69dd4463a12"
      },
      "source": [
        "print('Boleto Payment Value\\n')\n",
        "print(df_boleto['payment_value'].describe())"
      ],
      "execution_count": 53,
      "outputs": [
        {
          "output_type": "stream",
          "text": [
            "Boleto Payment Value\n",
            "\n",
            "count    23018.000000\n",
            "mean       177.412806\n",
            "std        291.578093\n",
            "min         11.620000\n",
            "25%         60.102500\n",
            "50%        106.160000\n",
            "75%        184.572500\n",
            "max       7274.880000\n",
            "Name: payment_value, dtype: float64\n"
          ],
          "name": "stdout"
        }
      ]
    },
    {
      "cell_type": "code",
      "metadata": {
        "_kg_hide-input": true,
        "execution": {
          "iopub.execute_input": "2020-09-16T04:40:59.295943Z",
          "iopub.status.busy": "2020-09-16T04:40:59.294869Z",
          "iopub.status.idle": "2020-09-16T04:40:59.304533Z",
          "shell.execute_reply": "2020-09-16T04:40:59.305079Z"
        },
        "papermill": {
          "duration": 0.093082,
          "end_time": "2020-09-16T04:40:59.305264",
          "exception": false,
          "start_time": "2020-09-16T04:40:59.212182",
          "status": "completed"
        },
        "tags": [],
        "colab": {
          "base_uri": "https://localhost:8080/"
        },
        "id": "bQCK1VzAK7Ac",
        "outputId": "63b7935a-ffd7-45f8-9c11-2960c6c2b2e1"
      },
      "source": [
        "print('Voucher Payment Value\\n')\n",
        "print(df_voucher['payment_value'].describe())"
      ],
      "execution_count": 54,
      "outputs": [
        {
          "output_type": "stream",
          "text": [
            "Voucher Payment Value\n",
            "\n",
            "count    6332.000000\n",
            "mean       64.622344\n",
            "std        92.610013\n",
            "min         0.000000\n",
            "25%        18.000000\n",
            "50%        39.540000\n",
            "75%        82.682500\n",
            "max      1839.050000\n",
            "Name: payment_value, dtype: float64\n"
          ],
          "name": "stdout"
        }
      ]
    },
    {
      "cell_type": "code",
      "metadata": {
        "_kg_hide-input": true,
        "execution": {
          "iopub.execute_input": "2020-09-16T04:40:59.469583Z",
          "iopub.status.busy": "2020-09-16T04:40:59.466922Z",
          "iopub.status.idle": "2020-09-16T04:40:59.474987Z",
          "shell.execute_reply": "2020-09-16T04:40:59.474355Z"
        },
        "papermill": {
          "duration": 0.092192,
          "end_time": "2020-09-16T04:40:59.475112",
          "exception": false,
          "start_time": "2020-09-16T04:40:59.382920",
          "status": "completed"
        },
        "tags": [],
        "colab": {
          "base_uri": "https://localhost:8080/"
        },
        "id": "JOlM_CIOK7Ac",
        "outputId": "278a3b15-cf5e-4aa5-dacc-4681a7848b19"
      },
      "source": [
        "print('Debit Card Payment Value\\n')\n",
        "print(df_debit_card['payment_value'].describe())"
      ],
      "execution_count": 55,
      "outputs": [
        {
          "output_type": "stream",
          "text": [
            "Debit Card Payment Value\n",
            "\n",
            "count    1699.000000\n",
            "mean      149.788599\n",
            "std       252.896762\n",
            "min        13.380000\n",
            "25%        53.470000\n",
            "50%        97.550000\n",
            "75%       172.800000\n",
            "max      4445.500000\n",
            "Name: payment_value, dtype: float64\n"
          ],
          "name": "stdout"
        }
      ]
    },
    {
      "cell_type": "code",
      "metadata": {
        "execution": {
          "iopub.execute_input": "2020-09-16T04:40:59.641997Z",
          "iopub.status.busy": "2020-09-16T04:40:59.641241Z",
          "iopub.status.idle": "2020-09-16T04:41:00.167443Z",
          "shell.execute_reply": "2020-09-16T04:41:00.166688Z"
        },
        "papermill": {
          "duration": 0.614388,
          "end_time": "2020-09-16T04:41:00.167595",
          "exception": false,
          "start_time": "2020-09-16T04:40:59.553207",
          "status": "completed"
        },
        "tags": [],
        "colab": {
          "base_uri": "https://localhost:8080/",
          "height": 685
        },
        "id": "Ue0bSuWcK7Ac",
        "outputId": "3c80172e-6643-410e-f3d8-35b22088b522"
      },
      "source": [
        "plt.figure(figsize=(16,9))\n",
        "sns.heatmap(df.corr())"
      ],
      "execution_count": 56,
      "outputs": [
        {
          "output_type": "execute_result",
          "data": {
            "text/plain": [
              "<matplotlib.axes._subplots.AxesSubplot at 0x7f201955f208>"
            ]
          },
          "metadata": {
            "tags": []
          },
          "execution_count": 56
        },
        {
          "output_type": "display_data",
          "data": {
            "image/png": "[encoded data removed]",
            "text/plain": [
              "<Figure size 1152x648 with 2 Axes>"
            ]
          },
          "metadata": {
            "tags": [],
            "needs_background": "light"
          }
        }
      ]
    }
  ]
}